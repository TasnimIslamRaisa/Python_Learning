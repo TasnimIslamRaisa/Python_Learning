{
  "nbformat": 4,
  "nbformat_minor": 0,
  "metadata": {
    "colab": {
      "provenance": [],
      "include_colab_link": true
    },
    "kernelspec": {
      "name": "python3",
      "display_name": "Python 3"
    },
    "language_info": {
      "name": "python"
    }
  },
  "cells": [
    {
      "cell_type": "markdown",
      "metadata": {
        "id": "view-in-github",
        "colab_type": "text"
      },
      "source": [
        "<a href=\"https://colab.research.google.com/github/TasnimIslamRaisa/Python_Learning/blob/edupython/Python_Lab_1.ipynb\" target=\"_parent\"><img src=\"https://colab.research.google.com/assets/colab-badge.svg\" alt=\"Open In Colab\"/></a>"
      ]
    },
    {
      "cell_type": "code",
      "execution_count": null,
      "metadata": {
        "colab": {
          "base_uri": "https://localhost:8080/"
        },
        "id": "fW_yeV1dkK38",
        "outputId": "589b3e5d-a657-4f1c-a822-2f52c8ce06ab"
      },
      "outputs": [
        {
          "output_type": "stream",
          "name": "stdout",
          "text": [
            "5\n",
            "3.2\n",
            "Hell0\n"
          ]
        }
      ],
      "source": [
        "a,b,c=5,3.2,\"Hell0\"\n",
        "print(a) #print 5\n",
        "print(b) #print 3.2\n",
        "print(c) # print Hello"
      ]
    },
    {
      "cell_type": "code",
      "source": [
        "site1 = site2 = \"google.com\"\n",
        "print (site1) # print google.com\n",
        "print (site2) # print google.com"
      ],
      "metadata": {
        "colab": {
          "base_uri": "https://localhost:8080/"
        },
        "id": "gnZQD1Vdopci",
        "outputId": "7f94ebda-2eb8-44ef-f566-6abbab7aeda2"
      },
      "execution_count": null,
      "outputs": [
        {
          "output_type": "stream",
          "name": "stdout",
          "text": [
            "google.com\n",
            "google.com\n"
          ]
        }
      ]
    },
    {
      "cell_type": "code",
      "source": [
        "num_string =\"12\"\n",
        "num_integer =23\n",
        "\n",
        "print(\"Data type of num_string before Type Casting:\", type(num_string))\n",
        "\n",
        "num_string=int(num_string)\n",
        "\n",
        "print(\"Data type of num_string after Type Casting:\", type(num_string))\n",
        "\n",
        "num_sum = num_integer +num_string\n",
        "print(\"Sum:\",num_sum)\n",
        "print(\"Data type of num_sum:\",type(num_sum))"
      ],
      "metadata": {
        "colab": {
          "base_uri": "https://localhost:8080/"
        },
        "id": "aFQcXZ_WrX0S",
        "outputId": "262b3dcf-2738-4c0b-b33c-92ffb61fafab"
      },
      "execution_count": null,
      "outputs": [
        {
          "output_type": "stream",
          "name": "stdout",
          "text": [
            "Data type of num_string before Type Casting: <class 'str'>\n",
            "Data type of num_string after Type Casting: <class 'int'>\n",
            "Sum: 35\n",
            "Data type of num_sum: <class 'int'>\n"
          ]
        }
      ]
    },
    {
      "cell_type": "code",
      "source": [
        "name = input(\"Enter your name: \")\n",
        "city = input(\"Enter your city:\")\n",
        "print(\"Hello My name is\",name)\n",
        "print(\"I am from \",city)"
      ],
      "metadata": {
        "colab": {
          "base_uri": "https://localhost:8080/"
        },
        "id": "wnOor5AR5iyY",
        "outputId": "25b60231-74f8-4d0f-e197-3e5d3cd71e37"
      },
      "execution_count": null,
      "outputs": [
        {
          "output_type": "stream",
          "name": "stdout",
          "text": [
            "Enter your name: Alif\n",
            "Enter your city:CTG\n",
            "Hello My name is Alif\n",
            "I am from  CTG\n"
          ]
        }
      ]
    },
    {
      "cell_type": "code",
      "source": [
        "w = input(\"Enter Width :\")\n",
        "width = float(w)\n",
        "\n",
        "h = input(\"Enter height:\")\n",
        "height = float(h)\n",
        "\n",
        "area=width*height\n",
        "print(\"Area of rectangle = \",area)"
      ],
      "metadata": {
        "colab": {
          "base_uri": "https://localhost:8080/"
        },
        "id": "RWxqylyB5mHv",
        "outputId": "8510c666-3076-4957-a2d6-1af611c0c8bb"
      },
      "execution_count": null,
      "outputs": [
        {
          "output_type": "stream",
          "name": "stdout",
          "text": [
            "Enter Width :5.5\n",
            "Enter height:5\n",
            "Area of rectangle =  27.5\n"
          ]
        }
      ]
    },
    {
      "cell_type": "code",
      "source": [
        "monthly_saving=10.5\n",
        "num_months=4\n",
        "new_savings= monthly_saving*num_months\n",
        "print(\"Value:\",new_savings)\n",
        "print(\"Data type of new_savings:\",type(new_savings))"
      ],
      "metadata": {
        "colab": {
          "base_uri": "https://localhost:8080/"
        },
        "id": "TaaVZE0StzuZ",
        "outputId": "04610494-94ed-4b2a-d6d5-75d76f7cbf2e"
      },
      "execution_count": null,
      "outputs": [
        {
          "output_type": "stream",
          "name": "stdout",
          "text": [
            "Value: 42.0\n",
            "Data type of new_savings: <class 'float'>\n"
          ]
        }
      ]
    },
    {
      "cell_type": "code",
      "source": [
        "width = int(input(\"Enter Width :\"))\n",
        "height = int(input(\"Enter height:\"))\n",
        "\n",
        "\n",
        "\n",
        "\n",
        "area=width*height\n",
        "print(\"Area of rectangle = \",area)"
      ],
      "metadata": {
        "colab": {
          "base_uri": "https://localhost:8080/"
        },
        "id": "vcnPI-Px8Jin",
        "outputId": "be9d912c-8539-4c46-9601-f2356446da38"
      },
      "execution_count": null,
      "outputs": [
        {
          "output_type": "stream",
          "name": "stdout",
          "text": [
            "Enter Width :5\n",
            "Enter height:6\n",
            "Area of rectangle =  30\n"
          ]
        }
      ]
    },
    {
      "cell_type": "code",
      "source": [
        "name=input(\"Enter your name: \")\n",
        "university=input(\"University: \")\n",
        "city= input(\"Enter your city: \")\n",
        "print(\"Hello \"+ name+ \",you read at \"+university+\" and live in \"+city)\n"
      ],
      "metadata": {
        "colab": {
          "base_uri": "https://localhost:8080/"
        },
        "id": "esfg7HD08tVn",
        "outputId": "8a8506b7-838f-4486-b035-f08a5bc45999"
      },
      "execution_count": null,
      "outputs": [
        {
          "output_type": "stream",
          "name": "stdout",
          "text": [
            "Enter your name: Alice\n",
            "University: East Delta University\n",
            "Enter your city: CTG\n",
            "Hello Alice,you read at East Delta University and live in CTG\n"
          ]
        }
      ]
    },
    {
      "cell_type": "code",
      "source": [
        "num1= float(input(\"Enter the first number:\"))\n",
        "num2= float(input(\"Enter the second number:\"))\n",
        "sum_result= num1+num2\n",
        "sub_result=num1-num2\n",
        "mul_result=num1*num2\n",
        "div_result=num1 / num2\n",
        "print(\"Addition:\",sum_result)\n",
        "print(\"Difference:\",sub_result)\n",
        "print(\"Product:\",mul_result)\n",
        "print(\"Quotient:\",div_result)\n"
      ],
      "metadata": {
        "colab": {
          "base_uri": "https://localhost:8080/"
        },
        "id": "3m6Zof2eAv5-",
        "outputId": "cf1d9787-3469-4e1f-8a46-a04f69da2799"
      },
      "execution_count": null,
      "outputs": [
        {
          "output_type": "stream",
          "name": "stdout",
          "text": [
            "Enter the first number:6\n",
            "Enter the second number:3\n",
            "Addition: 9.0\n",
            "Difference: 3.0\n",
            "Product: 18.0\n",
            "Quotient: 2.0\n"
          ]
        }
      ]
    }
  ]
}