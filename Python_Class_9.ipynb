{
  "nbformat": 4,
  "nbformat_minor": 0,
  "metadata": {
    "colab": {
      "provenance": [],
      "authorship_tag": "ABX9TyO9Gdkozjzb/2/chQFkKxRd",
      "include_colab_link": true
    },
    "kernelspec": {
      "name": "python3",
      "display_name": "Python 3"
    },
    "language_info": {
      "name": "python"
    }
  },
  "cells": [
    {
      "cell_type": "markdown",
      "metadata": {
        "id": "view-in-github",
        "colab_type": "text"
      },
      "source": [
        "<a href=\"https://colab.research.google.com/github/TasnimIslamRaisa/Python_Learning/blob/edupython/Python_Class_9.ipynb\" target=\"_parent\"><img src=\"https://colab.research.google.com/assets/colab-badge.svg\" alt=\"Open In Colab\"/></a>"
      ]
    },
    {
      "cell_type": "code",
      "execution_count": 2,
      "metadata": {
        "colab": {
          "base_uri": "https://localhost:8080/"
        },
        "id": "EGlXg8VT8vPA",
        "outputId": "2f1b678d-f5a8-4f46-ad64-4f508bd4e707"
      },
      "outputs": [
        {
          "output_type": "stream",
          "name": "stdout",
          "text": [
            "1 2 3\n"
          ]
        }
      ],
      "source": [
        "list=[]\n",
        "list.append(1)\n",
        "list.append(2)\n",
        "list.append(3)\n",
        "print(*list)"
      ]
    },
    {
      "cell_type": "code",
      "source": [
        "def test():\n",
        "    return 'abc', 100, [0, 1, 2]\n",
        "\n",
        "\n",
        "result=test()\n",
        "print(result)\n",
        "print(type(result))\n",
        "\n",
        "a, b, c = test()\n",
        "print(type(test))\n",
        "\n",
        "print(a)\n",
        "\n",
        "print(b)\n",
        "\n",
        "print(c)\n"
      ],
      "metadata": {
        "colab": {
          "base_uri": "https://localhost:8080/"
        },
        "id": "YZhGSgpY-kgG",
        "outputId": "bebcef48-d3ea-4d03-f827-ef9afab69c4c"
      },
      "execution_count": 15,
      "outputs": [
        {
          "output_type": "stream",
          "name": "stdout",
          "text": [
            "('abc', 100, [0, 1, 2])\n",
            "<class 'tuple'>\n",
            "<class 'function'>\n",
            "abc\n",
            "100\n",
            "[0, 1, 2]\n"
          ]
        }
      ]
    },
    {
      "cell_type": "code",
      "source": [
        "def test_list():\n",
        "    return ['abc', 100]\n",
        "\n",
        "result = test_list()\n",
        "\n",
        "print(result)\n",
        "print(type(result))\n",
        "# ['abc', 100]\n",
        "# <class 'list'>"
      ],
      "metadata": {
        "colab": {
          "base_uri": "https://localhost:8080/"
        },
        "id": "Hy0PijIO_5W_",
        "outputId": "0851c37b-3d14-49b5-f3cc-e35898abcc02"
      },
      "execution_count": 13,
      "outputs": [
        {
          "output_type": "stream",
          "name": "stdout",
          "text": [
            "['abc', 100]\n",
            "<class 'list'>\n"
          ]
        }
      ]
    },
    {
      "cell_type": "markdown",
      "source": [
        "# **Recursion**"
      ],
      "metadata": {
        "id": "dGpwNTR1A5T-"
      }
    },
    {
      "cell_type": "code",
      "source": [
        "# Print n to 1 using recursion\n",
        "def myFunction(n):\n",
        "  if n == 0:\n",
        "    return\n",
        "  print(n,end=\" \")\n",
        "  myFunction(n - 1)\n",
        "myFunction(5)\n"
      ],
      "metadata": {
        "colab": {
          "base_uri": "https://localhost:8080/"
        },
        "id": "npjPoaWwBbSG",
        "outputId": "4505f1e5-d301-4c56-d552-1134e3304730"
      },
      "execution_count": 18,
      "outputs": [
        {
          "output_type": "stream",
          "name": "stdout",
          "text": [
            "5 4 3 2 1 "
          ]
        }
      ]
    },
    {
      "cell_type": "code",
      "source": [
        "# Print 1 to n using recursion\n",
        "\n",
        "def myFunction(n):\n",
        "  if n > 0:\n",
        "    myFunction(n - 1)\n",
        "    print(n,end=\" \")\n",
        "\n",
        "myFunction(5)"
      ],
      "metadata": {
        "colab": {
          "base_uri": "https://localhost:8080/"
        },
        "id": "pN_ATF-DCri9",
        "outputId": "e1e2e0b0-a6d6-4af3-d349-a322034f95e9"
      },
      "execution_count": 20,
      "outputs": [
        {
          "output_type": "stream",
          "name": "stdout",
          "text": [
            "1 2 3 4 5 "
          ]
        }
      ]
    },
    {
      "cell_type": "code",
      "source": [
        "# Factorial\n",
        "\n",
        "def myFunction(n):\n",
        "  if n == 0 or n == 1:\n",
        "    return 1\n",
        "  return n * myFunction(n - 1)\n",
        "\n",
        "print(myFunction(5))"
      ],
      "metadata": {
        "colab": {
          "base_uri": "https://localhost:8080/"
        },
        "id": "Em2q2vQwFm_-",
        "outputId": "4c2f966f-b6d2-42b0-a3ed-8bddffa7c7e8"
      },
      "execution_count": 1,
      "outputs": [
        {
          "output_type": "stream",
          "name": "stdout",
          "text": [
            "120\n"
          ]
        }
      ]
    },
    {
      "cell_type": "code",
      "source": [
        "# fibonacci\n",
        "\n",
        "def myFunction(n):\n",
        "  if n == 0 or n == 1:\n",
        "    return n\n",
        "  return myFunction(n - 1) + myFunction(n - 2)\n",
        "\n",
        "print(\"Fibonacci of 8 is \",myFunction(8))"
      ],
      "metadata": {
        "colab": {
          "base_uri": "https://localhost:8080/"
        },
        "id": "JlSlyYmaGoCl",
        "outputId": "d6b5d38e-1e0a-4fc6-a70d-98d6ee55bc66"
      },
      "execution_count": 12,
      "outputs": [
        {
          "output_type": "stream",
          "name": "stdout",
          "text": [
            "Fibonacci of 8 is  21\n"
          ]
        }
      ]
    },
    {
      "cell_type": "code",
      "source": [
        "def sum(n):\n",
        "  if n == 0:\n",
        "    return 0\n",
        "  return n + sum(n - 1)\n",
        "\n",
        "print(sum(10))\n"
      ],
      "metadata": {
        "colab": {
          "base_uri": "https://localhost:8080/"
        },
        "id": "K_rjYZwxHL01",
        "outputId": "b6798abb-52f2-4578-c769-77f62e77ae00"
      },
      "execution_count": 10,
      "outputs": [
        {
          "output_type": "stream",
          "name": "stdout",
          "text": [
            "55\n"
          ]
        }
      ]
    },
    {
      "cell_type": "code",
      "source": [
        "list =[1,2,3,4,5]\n",
        "\n",
        "def myFunction(list,index=0):\n",
        "  if index == len(list):\n",
        "    return 0\n",
        "  print(list[index])\n",
        "  myFunction(list,index+1)\n",
        "\n",
        "myFunction(list)\n"
      ],
      "metadata": {
        "colab": {
          "base_uri": "https://localhost:8080/"
        },
        "id": "Net14r9cHy_E",
        "outputId": "b9e6dc42-edc4-46fe-c470-c8afffdddb30"
      },
      "execution_count": 21,
      "outputs": [
        {
          "output_type": "stream",
          "name": "stdout",
          "text": [
            "1\n",
            "2\n",
            "3\n",
            "4\n",
            "5\n"
          ]
        }
      ]
    }
  ]
}