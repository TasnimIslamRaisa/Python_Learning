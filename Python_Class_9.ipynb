{
  "nbformat": 4,
  "nbformat_minor": 0,
  "metadata": {
    "colab": {
      "provenance": [],
      "authorship_tag": "ABX9TyOgm00F1v5LvV4DLo6q5D9h",
      "include_colab_link": true
    },
    "kernelspec": {
      "name": "python3",
      "display_name": "Python 3"
    },
    "language_info": {
      "name": "python"
    }
  },
  "cells": [
    {
      "cell_type": "markdown",
      "metadata": {
        "id": "view-in-github",
        "colab_type": "text"
      },
      "source": [
        "<a href=\"https://colab.research.google.com/github/TasnimIslamRaisa/Python_Learning/blob/edupython/Python_Class_9.ipynb\" target=\"_parent\"><img src=\"https://colab.research.google.com/assets/colab-badge.svg\" alt=\"Open In Colab\"/></a>"
      ]
    },
    {
      "cell_type": "code",
      "execution_count": 2,
      "metadata": {
        "colab": {
          "base_uri": "https://localhost:8080/"
        },
        "id": "EGlXg8VT8vPA",
        "outputId": "2f1b678d-f5a8-4f46-ad64-4f508bd4e707"
      },
      "outputs": [
        {
          "output_type": "stream",
          "name": "stdout",
          "text": [
            "1 2 3\n"
          ]
        }
      ],
      "source": [
        "list=[]\n",
        "list.append(1)\n",
        "list.append(2)\n",
        "list.append(3)\n",
        "print(*list)"
      ]
    },
    {
      "cell_type": "code",
      "source": [
        "def test():\n",
        "    return 'abc', 100, [0, 1, 2]\n",
        "\n",
        "\n",
        "result=test()\n",
        "print(result)\n",
        "print(type(result))\n",
        "\n",
        "a, b, c = test()\n",
        "print(type(test))\n",
        "\n",
        "print(a)\n",
        "\n",
        "print(b)\n",
        "\n",
        "print(c)\n"
      ],
      "metadata": {
        "colab": {
          "base_uri": "https://localhost:8080/"
        },
        "id": "YZhGSgpY-kgG",
        "outputId": "bebcef48-d3ea-4d03-f827-ef9afab69c4c"
      },
      "execution_count": 15,
      "outputs": [
        {
          "output_type": "stream",
          "name": "stdout",
          "text": [
            "('abc', 100, [0, 1, 2])\n",
            "<class 'tuple'>\n",
            "<class 'function'>\n",
            "abc\n",
            "100\n",
            "[0, 1, 2]\n"
          ]
        }
      ]
    },
    {
      "cell_type": "code",
      "source": [
        "def test_list():\n",
        "    return ['abc', 100]\n",
        "\n",
        "result = test_list()\n",
        "\n",
        "print(result)\n",
        "print(type(result))\n",
        "# ['abc', 100]\n",
        "# <class 'list'>"
      ],
      "metadata": {
        "colab": {
          "base_uri": "https://localhost:8080/"
        },
        "id": "Hy0PijIO_5W_",
        "outputId": "0851c37b-3d14-49b5-f3cc-e35898abcc02"
      },
      "execution_count": 13,
      "outputs": [
        {
          "output_type": "stream",
          "name": "stdout",
          "text": [
            "['abc', 100]\n",
            "<class 'list'>\n"
          ]
        }
      ]
    },
    {
      "cell_type": "markdown",
      "source": [
        "# **Recursion**"
      ],
      "metadata": {
        "id": "dGpwNTR1A5T-"
      }
    },
    {
      "cell_type": "code",
      "source": [
        "# Print n to 1 using recursion\n",
        "def myFunction(n):\n",
        "  if n == 0:\n",
        "    return\n",
        "  print(n,end=\" \")\n",
        "  myFunction(n - 1)\n",
        "myFunction(5)\n"
      ],
      "metadata": {
        "colab": {
          "base_uri": "https://localhost:8080/"
        },
        "id": "npjPoaWwBbSG",
        "outputId": "4505f1e5-d301-4c56-d552-1134e3304730"
      },
      "execution_count": 18,
      "outputs": [
        {
          "output_type": "stream",
          "name": "stdout",
          "text": [
            "5 4 3 2 1 "
          ]
        }
      ]
    },
    {
      "cell_type": "code",
      "source": [
        "# Print 1 to n using recursion\n",
        "\n",
        "def myFunction(n):\n",
        "  if n > 0:\n",
        "    myFunction(n - 1)\n",
        "    print(n,end=\" \")\n",
        "\n",
        "myFunction(5)"
      ],
      "metadata": {
        "colab": {
          "base_uri": "https://localhost:8080/"
        },
        "id": "pN_ATF-DCri9",
        "outputId": "e1e2e0b0-a6d6-4af3-d349-a322034f95e9"
      },
      "execution_count": 20,
      "outputs": [
        {
          "output_type": "stream",
          "name": "stdout",
          "text": [
            "1 2 3 4 5 "
          ]
        }
      ]
    },
    {
      "cell_type": "code",
      "source": [
        "# Factorial\n",
        "\n",
        "def myFunction(n):\n",
        "  if n == 0 or n == 1:\n",
        "    return 1\n",
        "  return n * myFunction(n - 1)\n",
        "\n",
        "print(myFunction(5))"
      ],
      "metadata": {
        "colab": {
          "base_uri": "https://localhost:8080/"
        },
        "id": "Em2q2vQwFm_-",
        "outputId": "4c2f966f-b6d2-42b0-a3ed-8bddffa7c7e8"
      },
      "execution_count": 1,
      "outputs": [
        {
          "output_type": "stream",
          "name": "stdout",
          "text": [
            "120\n"
          ]
        }
      ]
    },
    {
      "cell_type": "code",
      "source": [
        "# fibonacci\n",
        "def myFunction(n):\n",
        "  if n == 0 or n == 1:\n",
        "    return n\n",
        "  return myFunction(n - 1) + myFunction(n - 2)\n",
        "\n",
        "print(\"Fibonacci of 8 is \",myFunction(8))"
      ],
      "metadata": {
        "colab": {
          "base_uri": "https://localhost:8080/"
        },
        "id": "JlSlyYmaGoCl",
        "outputId": "d6b5d38e-1e0a-4fc6-a70d-98d6ee55bc66"
      },
      "execution_count": 12,
      "outputs": [
        {
          "output_type": "stream",
          "name": "stdout",
          "text": [
            "Fibonacci of 8 is  21\n"
          ]
        }
      ]
    },
    {
      "cell_type": "code",
      "source": [
        "# Sum of 1 to n number\n",
        "def sum(n):\n",
        "  if n == 0:\n",
        "    return 0\n",
        "  return n + sum(n - 1)\n",
        "\n",
        "print(sum(10))\n"
      ],
      "metadata": {
        "colab": {
          "base_uri": "https://localhost:8080/"
        },
        "id": "K_rjYZwxHL01",
        "outputId": "b6798abb-52f2-4578-c769-77f62e77ae00"
      },
      "execution_count": 10,
      "outputs": [
        {
          "output_type": "stream",
          "name": "stdout",
          "text": [
            "55\n"
          ]
        }
      ]
    },
    {
      "cell_type": "code",
      "source": [
        "# print a list using recursion\n",
        "list =[1,2,3,4,5]\n",
        "\n",
        "def myFunction(list,index=0):\n",
        "  if index == len(list):\n",
        "    return\n",
        "  print(list[index])\n",
        "  myFunction(list,index+1)\n",
        "\n",
        "\n",
        "myFunction(list)\n"
      ],
      "metadata": {
        "colab": {
          "base_uri": "https://localhost:8080/"
        },
        "id": "Net14r9cHy_E",
        "outputId": "47bd36ca-1856-403b-9922-90a4af3863e9"
      },
      "execution_count": 30,
      "outputs": [
        {
          "output_type": "stream",
          "name": "stdout",
          "text": [
            "1\n",
            "2\n",
            "3\n",
            "4\n",
            "5\n"
          ]
        }
      ]
    },
    {
      "cell_type": "code",
      "source": [
        "# Sum of elements of a list using recursion\n",
        "list =[1,2,3,4,5]\n",
        "\n",
        "def myFunction(list,index=0):\n",
        "  if index == len(list):\n",
        "    return 0\n",
        "  return   list[index] + myFunction(list,index+1)\n",
        "\n",
        "print(myFunction(list))\n"
      ],
      "metadata": {
        "colab": {
          "base_uri": "https://localhost:8080/"
        },
        "id": "Vo_BufewJzU9",
        "outputId": "ed95dedc-e4c7-4aad-bd23-c48b48706fff"
      },
      "execution_count": 26,
      "outputs": [
        {
          "output_type": "stream",
          "name": "stdout",
          "text": [
            "15\n"
          ]
        }
      ]
    },
    {
      "cell_type": "markdown",
      "source": [
        "## **Python Lambda**"
      ],
      "metadata": {
        "id": "7cmS5IZnMzjD"
      }
    },
    {
      "cell_type": "code",
      "source": [
        "# lambda\n",
        "\n",
        "# Python Lambda\n",
        "# A lambda function is a small anonymous function.\n",
        "# A lambda function can take any number of arguments, but can only have one expression.\n",
        "\n",
        "# Syntax\n",
        "# lambda arguments : expression\n",
        "\n",
        "x = lambda a : a + 10\n",
        "print(x(5)) # Output: 15\n",
        "\n",
        "x = lambda a, b=6 : a * b\n",
        "#print(x(5)) # Output: 30\n",
        "print(x(5, 6)) # Output: 30\n",
        "\n",
        "x = lambda a, b, c : a + b + c\n",
        "print(x(5, 6, 2)) # Output: 13\n",
        "\n",
        "# Why Use Lambda Functions?\n",
        "# The power of lambda is better shown when you use them as an anonymous function inside another function.\n",
        "\n",
        "def myfunc(n):\n",
        "  return lambda a : a * n\n",
        "\n",
        "mydoubler = myfunc(2)\n",
        "mytripler = myfunc(3)\n",
        "\n",
        "print(mydoubler(11)) # Output: 22\n",
        "print(mytripler(11)) # Output: 33"
      ],
      "metadata": {
        "colab": {
          "base_uri": "https://localhost:8080/"
        },
        "id": "hvUtCoG7NlSD",
        "outputId": "3f8e2207-279c-4486-b5bb-2f1af53c6373"
      },
      "execution_count": 31,
      "outputs": [
        {
          "output_type": "stream",
          "name": "stdout",
          "text": [
            "15\n",
            "30\n",
            "13\n",
            "22\n",
            "33\n"
          ]
        }
      ]
    },
    {
      "cell_type": "code",
      "source": [
        "# using lambda : check if a number is even\n",
        "\n",
        "check_even = lambda number : number % 2 == 0\n",
        "print(check_even(10)) # Output: True\n",
        "print(check_even(7)) # Output: False\n",
        "#"
      ],
      "metadata": {
        "colab": {
          "base_uri": "https://localhost:8080/"
        },
        "id": "jD-7TGsRQat8",
        "outputId": "470d148c-3f2f-4075-bb0a-9b157f84b31c"
      },
      "execution_count": 32,
      "outputs": [
        {
          "output_type": "stream",
          "name": "stdout",
          "text": [
            "True\n",
            "False\n"
          ]
        }
      ]
    },
    {
      "cell_type": "code",
      "source": [
        "result = lambda a,b : a*b\n",
        "print(result(5,6))"
      ],
      "metadata": {
        "colab": {
          "base_uri": "https://localhost:8080/"
        },
        "id": "p-NV0ahmRPpb",
        "outputId": "4cbb16f1-1e2e-4045-f9d2-4554b5e2eef5"
      },
      "execution_count": 33,
      "outputs": [
        {
          "output_type": "stream",
          "name": "stdout",
          "text": [
            "30\n"
          ]
        }
      ]
    },
    {
      "cell_type": "code",
      "source": [
        "# Clever if\n",
        "var = (\"No\",\"Yes\")[10 > 5]\n",
        "print(var)"
      ],
      "metadata": {
        "colab": {
          "base_uri": "https://localhost:8080/"
        },
        "id": "zBR8ul6JRyg7",
        "outputId": "ea8c3679-19c2-46a3-adfe-8698935442cc"
      },
      "execution_count": 35,
      "outputs": [
        {
          "output_type": "stream",
          "name": "stdout",
          "text": [
            "Yes\n"
          ]
        }
      ]
    },
    {
      "cell_type": "code",
      "source": [
        "result = lambda a,b : (f\"{b} is greater\",f\"{a} is greater\")[a>b]\n",
        "print(result(5,11))"
      ],
      "metadata": {
        "colab": {
          "base_uri": "https://localhost:8080/"
        },
        "id": "j9xQBjMuTopS",
        "outputId": "6ed11e83-af59-407b-f78b-78fa6eae33a5"
      },
      "execution_count": 45,
      "outputs": [
        {
          "output_type": "stream",
          "name": "stdout",
          "text": [
            "11 is greater\n"
          ]
        }
      ]
    },
    {
      "cell_type": "code",
      "source": [
        "result = lambda a : f\"{a} is positive\" if a>0 else f\"{a} is negative\" if a<0 else f\"{a} is zero\"\n",
        "print(result(1))\n",
        "print(result(-1))\n",
        "print(result(0))"
      ],
      "metadata": {
        "colab": {
          "base_uri": "https://localhost:8080/"
        },
        "id": "7mFJRNXfUmta",
        "outputId": "0c8d0778-35d9-4d9a-9a6c-08424fd7a3fb"
      },
      "execution_count": 52,
      "outputs": [
        {
          "output_type": "stream",
          "name": "stdout",
          "text": [
            "1 is positive\n",
            "-1 is negative\n",
            "0 is zero\n"
          ]
        }
      ]
    }
  ]
}