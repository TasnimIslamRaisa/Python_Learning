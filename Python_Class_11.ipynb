{
  "nbformat": 4,
  "nbformat_minor": 0,
  "metadata": {
    "colab": {
      "provenance": [],
      "authorship_tag": "ABX9TyMq6aLg6l8t3XjRneoBMGsK",
      "include_colab_link": true
    },
    "kernelspec": {
      "name": "python3",
      "display_name": "Python 3"
    },
    "language_info": {
      "name": "python"
    }
  },
  "cells": [
    {
      "cell_type": "markdown",
      "metadata": {
        "id": "view-in-github",
        "colab_type": "text"
      },
      "source": [
        "<a href=\"https://colab.research.google.com/github/TasnimIslamRaisa/Python_Learning/blob/edupython/Python_Class_11.ipynb\" target=\"_parent\"><img src=\"https://colab.research.google.com/assets/colab-badge.svg\" alt=\"Open In Colab\"/></a>"
      ]
    },
    {
      "cell_type": "markdown",
      "source": [
        "# **OOP**"
      ],
      "metadata": {
        "id": "VUxILuqrV6Ly"
      }
    },
    {
      "cell_type": "code",
      "source": [
        "# Object , class , constructor , method\n",
        "\n",
        "class Person :\n",
        "  # Constructor\n",
        "  def __init__(self,name,sem):\n",
        "    print(\"Constructor Called\")\n",
        "    self.name = name\n",
        "    self.sem = sem\n",
        "\n",
        "  # method\n",
        "  def info(self) :\n",
        "    print(f\"{self.name} is in {self.sem}th semester\")\n",
        "\n",
        "# Object\n",
        "p1=Person(\"Tasnim\",9)\n",
        "print(p1.name)\n",
        "print(p1.sem)\n",
        "p1.info()\n",
        "\n",
        "\n",
        "p2=Person(\"Raisa\",9)\n"
      ],
      "metadata": {
        "colab": {
          "base_uri": "https://localhost:8080/"
        },
        "id": "vzGxdoBtV8ep",
        "outputId": "96a1172f-523d-48a4-dc20-84835c79f740"
      },
      "execution_count": 13,
      "outputs": [
        {
          "output_type": "stream",
          "name": "stdout",
          "text": [
            "Constructor Called\n",
            "Tasnim\n",
            "9\n",
            "Tasnim is in 9th semester\n",
            "Constructor Called\n"
          ]
        }
      ]
    },
    {
      "cell_type": "code",
      "source": [
        "class Student :\n",
        "  def __init__(self,name,math,phy,chem):\n",
        "    self.name=name\n",
        "    self.math=math\n",
        "    self.phy=phy\n",
        "    self.chem=chem\n",
        "\n",
        "  def total(self):\n",
        "    avg=(self.math+self.phy+self.chem)/3\n",
        "    result=round(avg,2)\n",
        "    print(f\"Avg : {result}\")\n",
        "\n",
        "s1=Student(\"Tasnim\",95,97,89)\n",
        "s1.total()"
      ],
      "metadata": {
        "colab": {
          "base_uri": "https://localhost:8080/"
        },
        "id": "DxJzh3zqdvmq",
        "outputId": "28ee5aad-3f40-4b56-bed6-15077ebe3db7"
      },
      "execution_count": 15,
      "outputs": [
        {
          "output_type": "stream",
          "name": "stdout",
          "text": [
            "Avg : 93.67\n"
          ]
        }
      ]
    }
  ]
}