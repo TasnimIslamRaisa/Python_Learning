{
  "nbformat": 4,
  "nbformat_minor": 0,
  "metadata": {
    "colab": {
      "provenance": [],
      "authorship_tag": "ABX9TyNat9rtX2GSJxOiKsWfcNKE",
      "include_colab_link": true
    },
    "kernelspec": {
      "name": "python3",
      "display_name": "Python 3"
    },
    "language_info": {
      "name": "python"
    }
  },
  "cells": [
    {
      "cell_type": "markdown",
      "metadata": {
        "id": "view-in-github",
        "colab_type": "text"
      },
      "source": [
        "<a href=\"https://colab.research.google.com/github/TasnimIslamRaisa/Python_Learning/blob/main/class_3.ipynb\" target=\"_parent\"><img src=\"https://colab.research.google.com/assets/colab-badge.svg\" alt=\"Open In Colab\"/></a>"
      ]
    },
    {
      "cell_type": "markdown",
      "source": [
        "# **List**"
      ],
      "metadata": {
        "id": "gmlmYyQxo10A"
      }
    },
    {
      "cell_type": "code",
      "source": [
        "color_list1=[\"Yellow\",\"white\"]\n",
        "color_list2=[\"Red\",\"Green\"]\n",
        "color_list3=color_list1+color_list2\n",
        "print(color_list3)\n",
        "\n",
        "color_list3.append(\"blue\")\n",
        "print(color_list3)\n",
        "\n",
        "color_list3.insert(2,\"black\")\n",
        "print(color_list3)\n",
        "\n",
        "color_list3.extend([\"orange\",\"pink\"])\n",
        "print(color_list3)\n",
        "\n",
        "color_list3.remove(\"white\")\n",
        "print(color_list3)\n",
        "\n",
        "color_list3.remove(color_list3[2])\n",
        "print(color_list3)\n",
        "\n",
        "color_list3.pop(-1)\n",
        "color_list3"
      ],
      "metadata": {
        "colab": {
          "base_uri": "https://localhost:8080/"
        },
        "id": "KdObc66Ao33m",
        "outputId": "369f34e5-a4b8-4e5f-8a62-a127d27000a7"
      },
      "execution_count": 12,
      "outputs": [
        {
          "output_type": "stream",
          "name": "stdout",
          "text": [
            "['Yellow', 'white', 'Red', 'Green']\n",
            "['Yellow', 'white', 'Red', 'Green', 'blue']\n",
            "['Yellow', 'white', 'black', 'Red', 'Green', 'blue']\n",
            "['Yellow', 'white', 'black', 'Red', 'Green', 'blue', 'orange', 'pink']\n",
            "['Yellow', 'black', 'Red', 'Green', 'blue', 'orange', 'pink']\n",
            "['Yellow', 'black', 'Green', 'blue', 'orange', 'pink']\n"
          ]
        },
        {
          "output_type": "execute_result",
          "data": {
            "text/plain": [
              "['Yellow', 'black', 'Green', 'blue', 'orange']"
            ]
          },
          "metadata": {},
          "execution_count": 12
        }
      ]
    },
    {
      "cell_type": "code",
      "source": [
        "list=[1,2,3,4]\n",
        "sum=0\n",
        "for i in list:\n",
        "  sum=sum+i\n",
        "print(sum)"
      ],
      "metadata": {
        "colab": {
          "base_uri": "https://localhost:8080/"
        },
        "id": "YWoAelVVtCAu",
        "outputId": "e84a98ee-dd05-495e-856b-059ed555c1c0"
      },
      "execution_count": 15,
      "outputs": [
        {
          "output_type": "stream",
          "name": "stdout",
          "text": [
            "10\n"
          ]
        }
      ]
    },
    {
      "cell_type": "code",
      "source": [
        "list=[]\n",
        "sum=0\n",
        "for i in range(1,5):\n",
        "  list.append(int(input(\"Enter a number : \")))\n",
        "  sum=sum+list[i-1]\n",
        "print(\"Sum : \",sum)\n",
        "\n",
        "print(\"Maximum : \",max(list))\n",
        "print(\"Maximum : \",min(list))\n",
        "print(list.count(1))"
      ],
      "metadata": {
        "colab": {
          "base_uri": "https://localhost:8080/"
        },
        "id": "616KiZtatfE_",
        "outputId": "144cf8d4-de47-4f2d-a536-6a8f1b08fdd8"
      },
      "execution_count": 30,
      "outputs": [
        {
          "output_type": "stream",
          "name": "stdout",
          "text": [
            "Enter a number : 1\n",
            "Enter a number : 0\n",
            "Enter a number : 1\n",
            "Enter a number : 10\n",
            "Sum :  12\n",
            "Maximum :  10\n",
            "Maximum :  0\n",
            "2\n"
          ]
        }
      ]
    },
    {
      "cell_type": "code",
      "source": [
        "# nested list\n",
        "\n",
        "nested_list = [\n",
        "    [1, 2, 3],\n",
        "    [4, 5, 6],\n",
        "    [7, 8, 9]\n",
        "]\n",
        "\n",
        "print(nested_list)\n",
        "print(nested_list[0]) #accessing first list inside the nested list\n",
        "print(nested_list[0][0]) #accessing first element in first list\n",
        "print(nested_list[2][2]) #accessing third element in third list\n",
        "\n",
        "'''#looping through a nested list\n",
        "\n",
        "for i in nested_list:\n",
        "  for j in i:\n",
        "    print(j)\n",
        "\n",
        "#Another way to loop through nested list\n",
        "\n",
        "for i in range(len(nested_list)):\n",
        "  for j in range(len(nested_list[i])):\n",
        "    nested_list[i][j]\n",
        " '''"
      ],
      "metadata": {
        "colab": {
          "base_uri": "https://localhost:8080/",
          "height": 127
        },
        "id": "336xD6DvyPee",
        "outputId": "3450713a-de73-48ca-9806-1bd832c340c4"
      },
      "execution_count": 34,
      "outputs": [
        {
          "output_type": "stream",
          "name": "stdout",
          "text": [
            "[[1, 2, 3], [4, 5, 6], [7, 8, 9]]\n",
            "[1, 2, 3]\n",
            "1\n",
            "9\n"
          ]
        },
        {
          "output_type": "execute_result",
          "data": {
            "text/plain": [
              "'#looping through a nested list\\n\\nfor i in nested_list:\\n  for j in i:\\n    print(j)\\n\\n#Another way to loop through nested list\\n\\nfor i in range(len(nested_list)):\\n  for j in range(len(nested_list[i])):\\n    nested_list[i][j]\\n '"
            ],
            "application/vnd.google.colaboratory.intrinsic+json": {
              "type": "string"
            }
          },
          "metadata": {},
          "execution_count": 34
        }
      ]
    },
    {
      "cell_type": "code",
      "source": [
        "# remove duplicate from list\n",
        "\n",
        "# Remove duplicates from a list (using a set)\n",
        "my_list = [1, 2, 2, 3, 4, 4, 5,14,15,14,14]\n",
        "unique_list = set(my_list)\n",
        "print(unique_list)\n"
      ],
      "metadata": {
        "id": "T9lTle4B0gVM"
      },
      "execution_count": null,
      "outputs": []
    },
    {
      "cell_type": "code",
      "source": [
        "list1=[1,2,3,4,5]\n",
        "list2=[10,14,20,1]\n",
        "def common_element(list1, list2):\n",
        "    for element in list1:\n",
        "        if element in list2:\n",
        "            return True\n",
        "    return False\n",
        "\n",
        "result=(common_element(list1,list2))\n",
        "print(result)"
      ],
      "metadata": {
        "colab": {
          "base_uri": "https://localhost:8080/"
        },
        "id": "GW5g_FPV1GVs",
        "outputId": "3b4bcf02-e89d-48e6-9801-ede0f97c32a1"
      },
      "execution_count": 52,
      "outputs": [
        {
          "output_type": "stream",
          "name": "stdout",
          "text": [
            "True\n"
          ]
        }
      ]
    }
  ]
}