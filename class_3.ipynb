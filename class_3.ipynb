{
  "nbformat": 4,
  "nbformat_minor": 0,
  "metadata": {
    "colab": {
      "provenance": [],
      "authorship_tag": "ABX9TyMBuAoEOaiwkRXSexKIjOVY",
      "include_colab_link": true
    },
    "kernelspec": {
      "name": "python3",
      "display_name": "Python 3"
    },
    "language_info": {
      "name": "python"
    }
  },
  "cells": [
    {
      "cell_type": "markdown",
      "metadata": {
        "id": "view-in-github",
        "colab_type": "text"
      },
      "source": [
        "<a href=\"https://colab.research.google.com/github/TasnimIslamRaisa/Python_Learning/blob/main/class_3.ipynb\" target=\"_parent\"><img src=\"https://colab.research.google.com/assets/colab-badge.svg\" alt=\"Open In Colab\"/></a>"
      ]
    },
    {
      "cell_type": "markdown",
      "source": [
        "# **List**"
      ],
      "metadata": {
        "id": "gmlmYyQxo10A"
      }
    },
    {
      "cell_type": "code",
      "source": [
        "color_list1=[\"Yellow\",\"white\"]\n",
        "color_list2=[\"Red\",\"Green\"]\n",
        "color_list3=color_list1+color_list2\n",
        "print(color_list3)\n",
        "\n",
        "color_list3.append(\"blue\")\n",
        "print(color_list3)\n",
        "\n",
        "color_list3.insert(2,\"black\")\n",
        "print(color_list3)\n",
        "\n",
        "color_list3.extend([\"orange\",\"pink\"])\n",
        "print(color_list3)\n",
        "\n",
        "color_list3.remove(\"white\")\n",
        "print(color_list3)\n",
        "\n",
        "color_list3.remove(color_list3[2])\n",
        "print(color_list3)\n",
        "\n",
        "color_list3.pop(-1)\n",
        "color_list3"
      ],
      "metadata": {
        "colab": {
          "base_uri": "https://localhost:8080/"
        },
        "id": "KdObc66Ao33m",
        "outputId": "369f34e5-a4b8-4e5f-8a62-a127d27000a7"
      },
      "execution_count": 12,
      "outputs": [
        {
          "output_type": "stream",
          "name": "stdout",
          "text": [
            "['Yellow', 'white', 'Red', 'Green']\n",
            "['Yellow', 'white', 'Red', 'Green', 'blue']\n",
            "['Yellow', 'white', 'black', 'Red', 'Green', 'blue']\n",
            "['Yellow', 'white', 'black', 'Red', 'Green', 'blue', 'orange', 'pink']\n",
            "['Yellow', 'black', 'Red', 'Green', 'blue', 'orange', 'pink']\n",
            "['Yellow', 'black', 'Green', 'blue', 'orange', 'pink']\n"
          ]
        },
        {
          "output_type": "execute_result",
          "data": {
            "text/plain": [
              "['Yellow', 'black', 'Green', 'blue', 'orange']"
            ]
          },
          "metadata": {},
          "execution_count": 12
        }
      ]
    },
    {
      "cell_type": "code",
      "source": [
        "list=[1,2,3,4]\n",
        "sum=0\n",
        "for i in list:\n",
        "  sum=sum+i\n",
        "print(sum)"
      ],
      "metadata": {
        "colab": {
          "base_uri": "https://localhost:8080/"
        },
        "id": "YWoAelVVtCAu",
        "outputId": "e84a98ee-dd05-495e-856b-059ed555c1c0"
      },
      "execution_count": 15,
      "outputs": [
        {
          "output_type": "stream",
          "name": "stdout",
          "text": [
            "10\n"
          ]
        }
      ]
    },
    {
      "cell_type": "code",
      "source": [
        "list=[]\n",
        "sum=0\n",
        "for i in range(1,5):\n",
        "  list.append(int(input(\"Enter a number : \")))\n",
        "  sum+=i\n",
        "print(sum)"
      ],
      "metadata": {
        "colab": {
          "base_uri": "https://localhost:8080/"
        },
        "id": "616KiZtatfE_",
        "outputId": "09a3a416-1c19-4e19-bb3d-e5121f45b0cc"
      },
      "execution_count": 17,
      "outputs": [
        {
          "output_type": "stream",
          "name": "stdout",
          "text": [
            "Enter a number : 1\n",
            "Enter a number : 2\n",
            "Enter a number : 3\n",
            "Enter a number : 4\n",
            "10\n"
          ]
        }
      ]
    }
  ]
}