{
  "nbformat": 4,
  "nbformat_minor": 0,
  "metadata": {
    "colab": {
      "provenance": [],
      "authorship_tag": "ABX9TyOqzUGkpJ49JS28W7Bn+6Xh",
      "include_colab_link": true
    },
    "kernelspec": {
      "name": "python3",
      "display_name": "Python 3"
    },
    "language_info": {
      "name": "python"
    }
  },
  "cells": [
    {
      "cell_type": "markdown",
      "metadata": {
        "id": "view-in-github",
        "colab_type": "text"
      },
      "source": [
        "<a href=\"https://colab.research.google.com/github/TasnimIslamRaisa/Python_Learning/blob/cwh/error_handling.ipynb\" target=\"_parent\"><img src=\"https://colab.research.google.com/assets/colab-badge.svg\" alt=\"Open In Colab\"/></a>"
      ]
    },
    {
      "cell_type": "code",
      "execution_count": 3,
      "metadata": {
        "colab": {
          "base_uri": "https://localhost:8080/"
        },
        "id": "4225oxKIUEva",
        "outputId": "b26955bc-c2e4-4445-a41c-3a9cc626b5d4"
      },
      "outputs": [
        {
          "output_type": "stream",
          "name": "stdout",
          "text": [
            "Enter a number : 2\n",
            "The result is: 5.0\n",
            "This always executes, regardless of errors.\n"
          ]
        }
      ],
      "source": [
        "# error handling\n",
        "a=int(input(\"Enter a number : \"))\n",
        "try:\n",
        "    # Code that might raise an exception\n",
        "    result = 10 / a  # Example: division by zero\n",
        "except ZeroDivisionError:\n",
        "    print(\"Error: Division by zero\")\n",
        "except Exception as e:\n",
        "    print(f\"An unexpected error occurred: {e}\")\n",
        "else:\n",
        "    print(f\"The result is: {result}\") #This will only execute if no exception is raised\n",
        "finally:\n",
        "    print(\"This always executes, regardless of errors.\")"
      ]
    },
    {
      "cell_type": "markdown",
      "source": [
        "**Enumerate function**"
      ],
      "metadata": {
        "id": "yHYF3BY6WJor"
      }
    },
    {
      "cell_type": "code",
      "source": [
        "# Enumerate function\n",
        "\n",
        "my_list = ['apple', 'banana', 'cherry']\n",
        "\n",
        "for index, value in enumerate(my_list):\n",
        "    print(f\"Index: {index}, Value: {value}\")"
      ],
      "metadata": {
        "colab": {
          "base_uri": "https://localhost:8080/"
        },
        "id": "Eov7NDF-WQL8",
        "outputId": "a9a3cec0-c948-4b51-dd16-eab951c7c3e8"
      },
      "execution_count": 4,
      "outputs": [
        {
          "output_type": "stream",
          "name": "stdout",
          "text": [
            "Index: 0, Value: apple\n",
            "Index: 1, Value: banana\n",
            "Index: 2, Value: cherry\n"
          ]
        }
      ]
    }
  ]
}