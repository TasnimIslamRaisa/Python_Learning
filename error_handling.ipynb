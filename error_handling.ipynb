{
  "nbformat": 4,
  "nbformat_minor": 0,
  "metadata": {
    "colab": {
      "provenance": [],
      "authorship_tag": "ABX9TyNb13PBy4ASzBaoQiFPIykN",
      "include_colab_link": true
    },
    "kernelspec": {
      "name": "python3",
      "display_name": "Python 3"
    },
    "language_info": {
      "name": "python"
    }
  },
  "cells": [
    {
      "cell_type": "markdown",
      "metadata": {
        "id": "view-in-github",
        "colab_type": "text"
      },
      "source": [
        "<a href=\"https://colab.research.google.com/github/TasnimIslamRaisa/Python_Learning/blob/cwh/error_handling.ipynb\" target=\"_parent\"><img src=\"https://colab.research.google.com/assets/colab-badge.svg\" alt=\"Open In Colab\"/></a>"
      ]
    },
    {
      "cell_type": "code",
      "execution_count": 3,
      "metadata": {
        "colab": {
          "base_uri": "https://localhost:8080/"
        },
        "id": "4225oxKIUEva",
        "outputId": "b26955bc-c2e4-4445-a41c-3a9cc626b5d4"
      },
      "outputs": [
        {
          "output_type": "stream",
          "name": "stdout",
          "text": [
            "Enter a number : 2\n",
            "The result is: 5.0\n",
            "This always executes, regardless of errors.\n"
          ]
        }
      ],
      "source": [
        "# error handling\n",
        "a=int(input(\"Enter a number : \"))\n",
        "try:\n",
        "    # Code that might raise an exception\n",
        "    result = 10 / a  # Example: division by zero\n",
        "except ZeroDivisionError:\n",
        "    print(\"Error: Division by zero\")\n",
        "except Exception as e:\n",
        "    print(f\"An unexpected error occurred: {e}\")\n",
        "else:\n",
        "    print(f\"The result is: {result}\") #This will only execute if no exception is raised\n",
        "finally:\n",
        "    print(\"This always executes, regardless of errors.\")"
      ]
    }
  ]
}