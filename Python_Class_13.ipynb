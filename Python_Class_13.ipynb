{
  "nbformat": 4,
  "nbformat_minor": 0,
  "metadata": {
    "colab": {
      "provenance": [],
      "authorship_tag": "ABX9TyN97MCLqS6EopjATfxa0aQm",
      "include_colab_link": true
    },
    "kernelspec": {
      "name": "python3",
      "display_name": "Python 3"
    },
    "language_info": {
      "name": "python"
    }
  },
  "cells": [
    {
      "cell_type": "markdown",
      "metadata": {
        "id": "view-in-github",
        "colab_type": "text"
      },
      "source": [
        "<a href=\"https://colab.research.google.com/github/TasnimIslamRaisa/Python_Learning/blob/edupython/Python_Class_13.ipynb\" target=\"_parent\"><img src=\"https://colab.research.google.com/assets/colab-badge.svg\" alt=\"Open In Colab\"/></a>"
      ]
    },
    {
      "cell_type": "code",
      "execution_count": 18,
      "metadata": {
        "colab": {
          "base_uri": "https://localhost:8080/"
        },
        "id": "bdBFtf7A8gCp",
        "outputId": "5f4b5d83-83e4-4c76-badf-4258c53b4f26"
      },
      "outputs": [
        {
          "output_type": "stream",
          "name": "stdout",
          "text": [
            "My debited amount is 10000\n",
            "My current Balance is 40000\n",
            "My credited amount is 20000\n",
            "My current Balance is 60000\n",
            "60000\n"
          ]
        }
      ],
      "source": [
        "class Account :\n",
        "    def __init__(self,name,balance,password):\n",
        "        self.name = name\n",
        "        self.balance = balance\n",
        "        self.__password = password\n",
        "    def __getPass(self) :\n",
        "      return self.__password\n",
        "    def debit(self,debit_ammount) :\n",
        "       self.balance-=debit_ammount\n",
        "       print(f\"My debited amount is {debit_ammount}\")\n",
        "\n",
        "    def credit(self,credit_ammount) :\n",
        "       self.balance+=credit_ammount\n",
        "       print(f\"My credited amount is {credit_ammount}\")\n",
        "    def getbalance(self) :\n",
        "      print(f\"My current Balance is {self.balance}\")\n",
        "\n",
        "\n",
        "a1=Account(\"Tasnim\",50000,\"abcd\")\n",
        "#password=a1.__getPass()\n",
        "#print(password)\n",
        "a1.debit(10000)\n",
        "a1.getbalance()\n",
        "a1.credit(20000)\n",
        "a1.getbalance()\n",
        "\n",
        "# To delete a attribute\n",
        "print(a1.balance)\n",
        "#del a1.balance\n",
        "#print(a1.balance)\n",
        "\n",
        "\n",
        ""
      ]
    },
    {
      "cell_type": "code",
      "source": [
        "class Person :\n",
        "  def __init__(self) :\n",
        "\n",
        "    print(\"This is a constructor\")\n",
        "  @staticmethod   # decorator\n",
        "  def name() :\n",
        "    print(\"Raisa\")\n",
        "\n",
        "a1=Person()\n",
        "a1.name()"
      ],
      "metadata": {
        "colab": {
          "base_uri": "https://localhost:8080/"
        },
        "id": "Ilpw_XrAAcTr",
        "outputId": "43af1a7b-6ed3-40a2-faf7-35a8fda3a18e"
      },
      "execution_count": 10,
      "outputs": [
        {
          "output_type": "stream",
          "name": "stdout",
          "text": [
            "This is a constructor\n",
            "Raisa\n"
          ]
        }
      ]
    },
    {
      "cell_type": "code",
      "source": [
        "# Abstration : hidden\n",
        "class Car :\n",
        "  def __init__(self) :\n",
        "    self.accelarator=False\n",
        "    self.brake=False\n",
        "  def start(self) :\n",
        "    self.accelarator=True\n",
        "    print(\"Car started........\")\n",
        "  def stop(self) :\n",
        "    self.accelarator=False\n",
        "    self.brake=False\n",
        "    print(\"Car stopped........\")\n",
        "\n",
        "\n",
        "c1=Car()\n",
        "c1.start()"
      ],
      "metadata": {
        "colab": {
          "base_uri": "https://localhost:8080/"
        },
        "id": "FPNimQ51IGB7",
        "outputId": "5e15f03d-3ed4-414d-ad20-85ce7b9c3a73"
      },
      "execution_count": 24,
      "outputs": [
        {
          "output_type": "stream",
          "name": "stdout",
          "text": [
            "Car started........\n"
          ]
        }
      ]
    },
    {
      "cell_type": "code",
      "source": [
        "# Encapsulation :wrapping data and functions into a single unit (object)\n",
        "\n",
        "# Inheritance : 3types. (single,multi level,multiple )\n",
        "\n",
        "class Car :\n",
        "  def __init__(self) :\n",
        "    self.accelarator=False\n",
        "    self.brake=False\n",
        "  def start(self) :\n",
        "    self.accelarator=True\n",
        "    print(\"Car started........\")\n",
        "  def stop(self) :\n",
        "    self.accelarator=False\n",
        "    self.brakee=False\n",
        "    print(\"Car stopped........\")\n",
        "# Single Inheritance\n",
        "class Toyota(Car) :\n",
        "  def name(self,name) :\n",
        "    self.name=name\n",
        "    print(self.name)\n",
        "\n",
        "tCar1=Toyota()\n",
        "tCar1.start()\n",
        "tCar1.name(\"X-Corolla\")\n",
        "\n",
        "# Multi-level Inheritance : Xcorolla can inherit car also as it can inherit toyota and toyota is inheritting car\n",
        "class Xcorolla(Toyota):\n",
        "  def type(self,type) :\n",
        "    self.type=type\n",
        "    print(self.type)\n",
        "\n",
        "car1=Xcorolla()\n",
        "car1.start()\n",
        "car1.name(\"Toyota\")\n",
        "car1.type(\"Hybrid\")\n",
        "\n",
        "\n",
        "# multiple inheritance\n",
        "\n",
        "class Xcorolla(Toyota,Car):\n",
        "  def type(self,type) :\n",
        "    self.type=type\n",
        "    print(self.type)\n",
        "\n",
        "car2=Xcorolla()\n",
        "car2.start()\n",
        "car2.name(\"Toyota\")\n",
        "car2.type(\"Hybrid\")\n",
        "\n",
        "\n",
        "\n"
      ],
      "metadata": {
        "colab": {
          "base_uri": "https://localhost:8080/"
        },
        "id": "-23gsd2EJOpL",
        "outputId": "5f41e0be-d7c3-4aad-eabd-06cdcd2c027e"
      },
      "execution_count": 23,
      "outputs": [
        {
          "output_type": "stream",
          "name": "stdout",
          "text": [
            "Car started........\n",
            "X-Corolla\n",
            "Car started........\n",
            "Toyota\n",
            "Hybrid\n",
            "Car started........\n",
            "Toyota\n",
            "Hybrid\n"
          ]
        }
      ]
    }
  ]
}