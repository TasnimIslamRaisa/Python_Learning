{
  "nbformat": 4,
  "nbformat_minor": 0,
  "metadata": {
    "colab": {
      "provenance": [],
      "authorship_tag": "ABX9TyN81kJLd2ya+b+4jPu80cfa",
      "include_colab_link": true
    },
    "kernelspec": {
      "name": "python3",
      "display_name": "Python 3"
    },
    "language_info": {
      "name": "python"
    }
  },
  "cells": [
    {
      "cell_type": "markdown",
      "metadata": {
        "id": "view-in-github",
        "colab_type": "text"
      },
      "source": [
        "<a href=\"https://colab.research.google.com/github/TasnimIslamRaisa/Python_Learning/blob/edupython/Python_Class_13.ipynb\" target=\"_parent\"><img src=\"https://colab.research.google.com/assets/colab-badge.svg\" alt=\"Open In Colab\"/></a>"
      ]
    },
    {
      "cell_type": "code",
      "execution_count": 3,
      "metadata": {
        "colab": {
          "base_uri": "https://localhost:8080/"
        },
        "id": "bdBFtf7A8gCp",
        "outputId": "a28cd7a8-a414-45cb-bd99-da3d2bec6f2f"
      },
      "outputs": [
        {
          "output_type": "stream",
          "name": "stdout",
          "text": [
            "My debited amount is 10000\n",
            "My current Balance is 40000\n",
            "My credited amount is 20000\n",
            "My current Balance is 60000\n",
            "My current Balance is 60000\n"
          ]
        }
      ],
      "source": [
        "class Account :\n",
        "    def __init__(self,name,balance):\n",
        "        self.name = name\n",
        "        self.balance = balance\n",
        "    def debit(self,debit_ammount) :\n",
        "       self.balance-=debit_ammount\n",
        "       print(f\"My debited amount is {debit_ammount}\")\n",
        "\n",
        "    def credit(self,credit_ammount) :\n",
        "       self.balance+=credit_ammount\n",
        "       print(f\"My credited amount is {credit_ammount}\")\n",
        "    def getbalance(self) :\n",
        "      print(f\"My current Balance is {self.balance}\")\n",
        "\n",
        "a1=Account(\"Tasnim\",50000)\n",
        "a1.debit(10000)\n",
        "a1.getbalance()\n",
        "a1.credit(20000)\n",
        "a1.getbalance()\n",
        "\n",
        "\n",
        ""
      ]
    }
  ]
}