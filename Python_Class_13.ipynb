{
  "nbformat": 4,
  "nbformat_minor": 0,
  "metadata": {
    "colab": {
      "provenance": [],
      "authorship_tag": "ABX9TyNH0ql3mqdkhAoF4qAi4xRN",
      "include_colab_link": true
    },
    "kernelspec": {
      "name": "python3",
      "display_name": "Python 3"
    },
    "language_info": {
      "name": "python"
    }
  },
  "cells": [
    {
      "cell_type": "markdown",
      "metadata": {
        "id": "view-in-github",
        "colab_type": "text"
      },
      "source": [
        "<a href=\"https://colab.research.google.com/github/TasnimIslamRaisa/Python_Learning/blob/edupython/Python_Class_13.ipynb\" target=\"_parent\"><img src=\"https://colab.research.google.com/assets/colab-badge.svg\" alt=\"Open In Colab\"/></a>"
      ]
    },
    {
      "cell_type": "code",
      "execution_count": 18,
      "metadata": {
        "colab": {
          "base_uri": "https://localhost:8080/"
        },
        "id": "bdBFtf7A8gCp",
        "outputId": "5f4b5d83-83e4-4c76-badf-4258c53b4f26"
      },
      "outputs": [
        {
          "output_type": "stream",
          "name": "stdout",
          "text": [
            "My debited amount is 10000\n",
            "My current Balance is 40000\n",
            "My credited amount is 20000\n",
            "My current Balance is 60000\n",
            "60000\n"
          ]
        }
      ],
      "source": [
        "class Account :\n",
        "    def __init__(self,name,balance,password):\n",
        "        self.name = name\n",
        "        self.balance = balance\n",
        "        self.__password = password\n",
        "    def __getPass(self) :\n",
        "      return self.__password\n",
        "    def debit(self,debit_ammount) :\n",
        "       self.balance-=debit_ammount\n",
        "       print(f\"My debited amount is {debit_ammount}\")\n",
        "\n",
        "    def credit(self,credit_ammount) :\n",
        "       self.balance+=credit_ammount\n",
        "       print(f\"My credited amount is {credit_ammount}\")\n",
        "    def getbalance(self) :\n",
        "      print(f\"My current Balance is {self.balance}\")\n",
        "\n",
        "\n",
        "a1=Account(\"Tasnim\",50000,\"abcd\")\n",
        "#password=a1.__getPass()\n",
        "#print(password)\n",
        "a1.debit(10000)\n",
        "a1.getbalance()\n",
        "a1.credit(20000)\n",
        "a1.getbalance()\n",
        "\n",
        "# To delete a attribute\n",
        "print(a1.balance)\n",
        "#del a1.balance\n",
        "#print(a1.balance)\n",
        "\n",
        "\n",
        ""
      ]
    },
    {
      "cell_type": "code",
      "source": [
        "class Person :\n",
        "  def __init__(self) :\n",
        "\n",
        "    print(\"This is a constructor\")\n",
        "  @staticmethod   # decorator\n",
        "  def name() :\n",
        "    print(\"Raisa\")\n",
        "\n",
        "a1=Person()\n",
        "a1.name()"
      ],
      "metadata": {
        "colab": {
          "base_uri": "https://localhost:8080/"
        },
        "id": "Ilpw_XrAAcTr",
        "outputId": "43af1a7b-6ed3-40a2-faf7-35a8fda3a18e"
      },
      "execution_count": 10,
      "outputs": [
        {
          "output_type": "stream",
          "name": "stdout",
          "text": [
            "This is a constructor\n",
            "Raisa\n"
          ]
        }
      ]
    }
  ]
}