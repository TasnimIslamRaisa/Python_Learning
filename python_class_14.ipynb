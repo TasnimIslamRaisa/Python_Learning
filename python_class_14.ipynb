{
  "nbformat": 4,
  "nbformat_minor": 0,
  "metadata": {
    "colab": {
      "provenance": [],
      "authorship_tag": "ABX9TyOBLnb8eDBqxzbOMStVrbM4",
      "include_colab_link": true
    },
    "kernelspec": {
      "name": "python3",
      "display_name": "Python 3"
    },
    "language_info": {
      "name": "python"
    }
  },
  "cells": [
    {
      "cell_type": "markdown",
      "metadata": {
        "id": "view-in-github",
        "colab_type": "text"
      },
      "source": [
        "<a href=\"https://colab.research.google.com/github/TasnimIslamRaisa/Python_Learning/blob/edupython/python_class_14.ipynb\" target=\"_parent\"><img src=\"https://colab.research.google.com/assets/colab-badge.svg\" alt=\"Open In Colab\"/></a>"
      ]
    },
    {
      "cell_type": "code",
      "source": [
        "class Car1 :\n",
        "  def __init__(self,type):\n",
        "    self.type = type\n",
        "\n",
        "\n",
        "class Brand(Car1) :\n",
        "  def __init__(self,type):\n",
        "    self.type = type\n",
        "\n",
        "    print(\"This is a brand class\")\n",
        "\n",
        "class Toyota(Brand):\n",
        "  def __init__(self,name,type):\n",
        "    self.name=name\n",
        "    super().__init__(type)\n",
        "\n",
        "obj1=Toyota(\"X-Corolla\",\"electrics\")\n",
        "print(obj1.name)\n",
        "print(obj1.type)\n",
        "\n"
      ],
      "metadata": {
        "colab": {
          "base_uri": "https://localhost:8080/"
        },
        "id": "cUqzoOa5KB1K",
        "outputId": "f5ca94fd-8425-493f-bd76-3d59e28a9bc6"
      },
      "execution_count": null,
      "outputs": [
        {
          "output_type": "stream",
          "name": "stdout",
          "text": [
            "This is a brand class\n",
            "X-Corolla\n",
            "electrics\n"
          ]
        }
      ]
    },
    {
      "cell_type": "code",
      "source": [
        "class Student :\n",
        "  name=\"Raisa\"\n",
        "\n",
        "  #3rd method : A class method is bound to the class and receives the class as an implicit first argument\n",
        "  @classmethod\n",
        "  def print_name(cls,name):\n",
        "    cls.name=name\n",
        "    print(cls.name)\n",
        "\n",
        "  # Student.__class__name=name     2nd method\n",
        "\n",
        "s1=Student()\n",
        "Student.print_name(\"Tasnim\")\n",
        "print(s1.name)"
      ],
      "metadata": {
        "colab": {
          "base_uri": "https://localhost:8080/"
        },
        "id": "p3KAGXt6NLH5",
        "outputId": "e3084526-3753-4aea-eaba-a0162bf55df8"
      },
      "execution_count": 7,
      "outputs": [
        {
          "output_type": "stream",
          "name": "stdout",
          "text": [
            "Tasnim\n",
            "Tasnim\n"
          ]
        }
      ]
    },
    {
      "cell_type": "code",
      "source": [
        "class Employee :\n",
        "  def __init__(self,role,department,salary):\n",
        "    self.role=role\n",
        "    self.department=department\n",
        "    self.salary=salary\n",
        "\n",
        "  def showDetails(self):\n",
        "    print(f\"He is in {self.department} department in {self.role} role\")\n",
        "    print(f\"His salary is {self.salary}\")\n",
        "\n",
        "class Engineer(Employee) :\n",
        "  def __init__(self, role, department, salary,name,age):\n",
        "    self.name=name\n",
        "    self.age=age\n",
        "    print(\"This is engineer class\")\n",
        "    print(self.name)\n",
        "    print(self.age)\n",
        "    super().__init__(role, department, salary)\n",
        "\n",
        "\n",
        "em1=Employee(\"HR\",\"Software\",100000)\n",
        "em1.showDetails()\n",
        "eng1=Engineer(\"HR\",\"Software\",100000,\"XYZ\",24)"
      ],
      "metadata": {
        "colab": {
          "base_uri": "https://localhost:8080/"
        },
        "id": "t1rlxVTPPBSi",
        "outputId": "689fc557-3706-455a-f415-da10eefba17a"
      },
      "execution_count": 15,
      "outputs": [
        {
          "output_type": "stream",
          "name": "stdout",
          "text": [
            "He is in Software department in HR role\n",
            "His salary is 100000\n",
            "This is engineer class\n",
            "XYZ\n",
            "24\n"
          ]
        }
      ]
    },
    {
      "cell_type": "code",
      "source": [
        "# Polymorphism :\n",
        "\n",
        "class Car:\n",
        "    def __init__(self, model):\n",
        "        self.model = model\n",
        "\n",
        "    def move(self):\n",
        "        print(f\"The {self.model} is moving.\")\n",
        "\n",
        "\n",
        "class Plane:\n",
        "    def __init__(self, model):\n",
        "        self.model = model\n",
        "\n",
        "    def move(self):\n",
        "        print(f\"The {self.model} is flying.\")\n",
        "\n",
        "\n",
        "class Ship:\n",
        "    def __init__(self, model):\n",
        "        self.model = model\n",
        "\n",
        "    def move(self):\n",
        "        print(f\"The {self.model} is sailing.\")\n",
        "\n",
        "\n",
        "# Create instances of different classes\n",
        "car = Car(\"Toyota Camry\")\n",
        "plane = Plane(\"Boeing 747\")\n",
        "ship = Ship(\"Queen Mary 2\")\n",
        "\n",
        "# Create a list of objects\n",
        "vehicles = [car, plane, ship]\n",
        "\n",
        "# Iterate through the list and call the move() method\n",
        "for vehicle in vehicles:\n",
        "    vehicle.move()"
      ],
      "metadata": {
        "colab": {
          "base_uri": "https://localhost:8080/"
        },
        "id": "Rn0n8Pc-RhNn",
        "outputId": "e68f8dd5-5e1a-43a4-f3bb-e3854566ea2a"
      },
      "execution_count": 16,
      "outputs": [
        {
          "output_type": "stream",
          "name": "stdout",
          "text": [
            "The Toyota Camry is moving.\n",
            "The Boeing 747 is flying.\n",
            "The Queen Mary 2 is sailing.\n"
          ]
        }
      ]
    },
    {
      "cell_type": "code",
      "source": [
        "# Polymorphism :\n",
        "class Complex :\n",
        "  def __init__(self,real,imag):\n",
        "    self.real=real\n",
        "    self.imag=imag\n",
        "    print(f\"{self.real}+{self.imag}i\")\n",
        "\n",
        "  def __add__(self,other):\n",
        "    print(\"The Summation of two Complex Number :\",end=\" \")\n",
        "    return Complex(self.real+other.real,self.imag+other.imag)\n",
        "\n",
        "n1=Complex(4,3)\n",
        "n2=Complex(3,2)\n",
        "sum= n1.__add__(n2)"
      ],
      "metadata": {
        "colab": {
          "base_uri": "https://localhost:8080/"
        },
        "id": "0uI0C8_oXZZW",
        "outputId": "de16cd8b-ce1b-41ff-e5b3-a9b2a30951dd"
      },
      "execution_count": 25,
      "outputs": [
        {
          "output_type": "stream",
          "name": "stdout",
          "text": [
            "4+3i\n",
            "3+2i\n",
            "The Summation of two Complex Number : 7+5i\n"
          ]
        }
      ]
    }
  ]
}