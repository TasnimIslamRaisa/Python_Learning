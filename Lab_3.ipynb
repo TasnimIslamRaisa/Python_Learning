{
  "nbformat": 4,
  "nbformat_minor": 0,
  "metadata": {
    "colab": {
      "provenance": [],
      "authorship_tag": "ABX9TyON5/XS1fyKFB1z3lrsVqF6",
      "include_colab_link": true
    },
    "kernelspec": {
      "name": "python3",
      "display_name": "Python 3"
    },
    "language_info": {
      "name": "python"
    }
  },
  "cells": [
    {
      "cell_type": "markdown",
      "metadata": {
        "id": "view-in-github",
        "colab_type": "text"
      },
      "source": [
        "<a href=\"https://colab.research.google.com/github/TasnimIslamRaisa/Python_Learning/blob/main/Lab_3.ipynb\" target=\"_parent\"><img src=\"https://colab.research.google.com/assets/colab-badge.svg\" alt=\"Open In Colab\"/></a>"
      ]
    },
    {
      "cell_type": "code",
      "execution_count": 2,
      "metadata": {
        "colab": {
          "base_uri": "https://localhost:8080/"
        },
        "id": "GJA92kQQivko",
        "outputId": "339924db-d7ff-4d67-a346-f658b0661d23"
      },
      "outputs": [
        {
          "output_type": "stream",
          "name": "stdout",
          "text": [
            "enter a number : 3\n",
            "odd number\n"
          ]
        }
      ],
      "source": [
        "a=int(input(\"enter a number : \"))\n",
        "if a%2==0:\n",
        "    print(\"even number\")\n",
        "else:\n",
        "    print(\"odd number\")"
      ]
    },
    {
      "cell_type": "code",
      "source": [
        "# check if a strings 1st character is any vowel\n",
        "\n",
        "def starts_with_vowel(input_string):\n",
        "    vowels = \"aeiouAEIOU\"\n",
        "    if len(input_string) > 0 and input_string[0] in vowels:\n",
        "        return True\n",
        "    else:\n",
        "        return False\n",
        "\n",
        "s=input(\"Enter a string : \")\n",
        "if(starts_with_vowel(s)):\n",
        "  print(\"Yes\")\n",
        "else :\n",
        "  print(\"No\")"
      ],
      "metadata": {
        "colab": {
          "base_uri": "https://localhost:8080/"
        },
        "id": "toqbT1VrjGO2",
        "outputId": "6d04efc1-41c0-4c63-b774-43e0343a4520"
      },
      "execution_count": 7,
      "outputs": [
        {
          "output_type": "stream",
          "name": "stdout",
          "text": [
            "Enter a string : you\n",
            "No\n"
          ]
        }
      ]
    },
    {
      "cell_type": "code",
      "source": [
        "# area of a circle\n",
        "r=float(input(\"Enter the radisu of circle : \"))\n",
        "\n",
        "area=3.1416*r*r\n",
        "print(\"Area of a circle \",area)"
      ],
      "metadata": {
        "colab": {
          "base_uri": "https://localhost:8080/"
        },
        "id": "l0CbXGBckSAj",
        "outputId": "cf14c59f-0593-44a2-fa58-0c665ae43806"
      },
      "execution_count": 9,
      "outputs": [
        {
          "output_type": "stream",
          "name": "stdout",
          "text": [
            "Enter the radisu of circle : 3\n",
            "Area of a circle  28.2744\n"
          ]
        }
      ]
    },
    {
      "cell_type": "code",
      "source": [
        "#convert temp to and from celsius, fahrenheit\n",
        "temp=float(input(\"Enter the temperature : \"))\n",
        "unit=input(\"Enter the unit (C/F) : \")\n",
        "if unit=='C' or unit=='c':\n",
        "    newtemp=9/5*temp+32\n",
        "    print(\"Temperature in Fahrenheit : \",newtemp)\n",
        "if unit=='F' or unit=='f' :\n",
        "    newtemp=(temp-32)*(5/9)\n",
        "    print(\"Temperature in Celsius : \",newtemp)"
      ],
      "metadata": {
        "colab": {
          "base_uri": "https://localhost:8080/"
        },
        "id": "sChUEHQbkxDQ",
        "outputId": "c57841f3-d2ed-4b6d-f65d-c7a75ccef55a"
      },
      "execution_count": 11,
      "outputs": [
        {
          "output_type": "stream",
          "name": "stdout",
          "text": [
            "Enter the temperature : 32\n",
            "Enter the unit (C/F) : c\n",
            "Temperature in Fahrenheit :  89.6\n"
          ]
        }
      ]
    },
    {
      "cell_type": "code",
      "source": [
        "# prompt: convert temp to and from celsius, fahrenheit\n",
        "\n",
        "def convert_temperature(temp, unit):\n",
        "\n",
        "    if unit.upper() == 'C':\n",
        "        newtemp = (9/5) * temp + 32\n",
        "        return newtemp, 'F'\n",
        "    elif unit.upper() == 'F':\n",
        "        newtemp = (temp - 32) * (5/9)\n",
        "        return newtemp, 'C'\n",
        "    else:\n",
        "        return None, None\n",
        "\n",
        "# Get temperature input from the user.\n",
        "temp = float(input(\"Enter the temperature: \"))\n",
        "unit = input(\"Enter the unit (C/F): \")\n",
        "\n",
        "# Convert the temperature.\n",
        "converted_temp, converted_unit = convert_temperature(temp, unit)\n",
        "\n",
        "# Print the converted temperature.\n",
        "if converted_temp is not None:\n",
        "    print(f\"Temperature in {converted_unit}: {converted_temp}\")\n",
        "else:\n",
        "    print(\"Invalid unit entered.\")"
      ],
      "metadata": {
        "id": "3IRIHJsumuO5"
      },
      "execution_count": null,
      "outputs": []
    }
  ]
}