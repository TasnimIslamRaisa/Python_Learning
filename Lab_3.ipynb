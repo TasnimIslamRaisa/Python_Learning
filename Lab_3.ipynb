{
  "nbformat": 4,
  "nbformat_minor": 0,
  "metadata": {
    "colab": {
      "provenance": [],
      "authorship_tag": "ABX9TyPbIhs1zEsJes35Y8EskOnS",
      "include_colab_link": true
    },
    "kernelspec": {
      "name": "python3",
      "display_name": "Python 3"
    },
    "language_info": {
      "name": "python"
    }
  },
  "cells": [
    {
      "cell_type": "markdown",
      "metadata": {
        "id": "view-in-github",
        "colab_type": "text"
      },
      "source": [
        "<a href=\"https://colab.research.google.com/github/TasnimIslamRaisa/Python_Learning/blob/main/Lab_3.ipynb\" target=\"_parent\"><img src=\"https://colab.research.google.com/assets/colab-badge.svg\" alt=\"Open In Colab\"/></a>"
      ]
    },
    {
      "cell_type": "code",
      "execution_count": 2,
      "metadata": {
        "colab": {
          "base_uri": "https://localhost:8080/"
        },
        "id": "GJA92kQQivko",
        "outputId": "339924db-d7ff-4d67-a346-f658b0661d23"
      },
      "outputs": [
        {
          "output_type": "stream",
          "name": "stdout",
          "text": [
            "enter a number : 3\n",
            "odd number\n"
          ]
        }
      ],
      "source": [
        "a=int(input(\"enter a number : \"))\n",
        "if a%2==0:\n",
        "    print(\"even number\")\n",
        "else:\n",
        "    print(\"odd number\")"
      ]
    },
    {
      "cell_type": "code",
      "source": [
        "# check if a strings 1st character is any vowel\n",
        "\n",
        "def starts_with_vowel(input_string):\n",
        "    vowels = \"aeiouAEIOU\"\n",
        "    if len(input_string) > 0 and input_string[len(input_string)-1] in vowels:\n",
        "        return True\n",
        "    else:\n",
        "        return False\n",
        "\n",
        "s=input(\"Enter a string : \")\n",
        "if(starts_with_vowel(s)):\n",
        "  print(\"Yes\")\n",
        "else :\n",
        "  print(\"No\")\n",
        ""
      ],
      "metadata": {
        "colab": {
          "base_uri": "https://localhost:8080/"
        },
        "id": "toqbT1VrjGO2",
        "outputId": "96b6dc8d-f091-42e8-b61e-04d2a53fffa2"
      },
      "execution_count": 23,
      "outputs": [
        {
          "output_type": "stream",
          "name": "stdout",
          "text": [
            "Enter a string : python\n",
            "No\n"
          ]
        }
      ]
    },
    {
      "cell_type": "code",
      "source": [
        "# area of a circle\n",
        "r=float(input(\"Enter the radisu of circle : \"))\n",
        "\n",
        "area=3.1416*r*r\n",
        "print(\"Area of a circle \",area)"
      ],
      "metadata": {
        "colab": {
          "base_uri": "https://localhost:8080/"
        },
        "id": "l0CbXGBckSAj",
        "outputId": "cf14c59f-0593-44a2-fa58-0c665ae43806"
      },
      "execution_count": 9,
      "outputs": [
        {
          "output_type": "stream",
          "name": "stdout",
          "text": [
            "Enter the radisu of circle : 3\n",
            "Area of a circle  28.2744\n"
          ]
        }
      ]
    },
    {
      "cell_type": "code",
      "source": [
        "#convert temp to and from celsius, fahrenheit\n",
        "temp=float(input(\"Enter the temperature : \"))\n",
        "unit=input(\"Enter the unit (C/F) : \")\n",
        "if unit=='C' or unit=='c':\n",
        "    newtemp=9/5*temp+32\n",
        "    print(\"Temperature in Fahrenheit : \",newtemp)\n",
        "if unit=='F' or unit=='f' :\n",
        "    newtemp=(temp-32)*(5/9)\n",
        "    print(\"Temperature in Celsius : \",newtemp)"
      ],
      "metadata": {
        "colab": {
          "base_uri": "https://localhost:8080/"
        },
        "id": "sChUEHQbkxDQ",
        "outputId": "e28bfbc8-3183-40df-b847-0e53a9deb139"
      },
      "execution_count": 14,
      "outputs": [
        {
          "output_type": "stream",
          "name": "stdout",
          "text": [
            "Enter the temperature : 32\n",
            "Enter the unit (C/F) : f\n",
            "Temperature in Celsius :  0.0\n"
          ]
        }
      ]
    },
    {
      "cell_type": "code",
      "source": [
        "# convert temp to and from celsius, fahrenheit\n",
        "\n",
        "def convert_temperature(temp, unit):\n",
        "\n",
        "    if unit.upper() == 'C':\n",
        "        newtemp = (9/5) * temp + 32\n",
        "        return newtemp, 'F'\n",
        "    elif unit.upper() == 'F':\n",
        "        newtemp = (temp - 32) * (5/9)\n",
        "        return newtemp, 'C'\n",
        "    else:\n",
        "        return None, None\n",
        "\n",
        "# Get temperature input from the user.\n",
        "temp = float(input(\"Enter the temperature: \"))\n",
        "unit = input(\"Enter the unit (C/F): \")\n",
        "\n",
        "# Convert the temperature.\n",
        "converted_temp, converted_unit = convert_temperature(temp, unit)\n",
        "\n",
        "# Print the converted temperature.\n",
        "if converted_temp is not None:\n",
        "    print(f\"Temperature in {converted_unit}: {converted_temp}\")\n",
        "else:\n",
        "    print(\"Invalid unit entered.\")\n",
        "\n",
        ""
      ],
      "metadata": {
        "colab": {
          "base_uri": "https://localhost:8080/"
        },
        "id": "3IRIHJsumuO5",
        "outputId": "39de1293-3169-40eb-bc23-1bb8bdda2bce"
      },
      "execution_count": 13,
      "outputs": [
        {
          "output_type": "stream",
          "name": "stdout",
          "text": [
            "Enter the temperature: 32\n",
            "Enter the unit (C/F): f\n",
            "Temperature in C: 0.0\n"
          ]
        }
      ]
    },
    {
      "cell_type": "code",
      "source": [
        "# from 3 number greater and less\n",
        "\n",
        "a1 = int(input(\"enter a number : \"))\n",
        "a2 = int(input(\"enter a number : \"))\n",
        "a3 = int(input(\"enter a number : \"))\n",
        "\n",
        "if a1 > a2 and a1 > a3:\n",
        "    print(a1, \"is the greatest\")\n",
        "    if a2 < a3:\n",
        "        print(a2, \"is the smallest\")\n",
        "    else:\n",
        "        print(a3, \"is the smallest\")\n",
        "elif a2 > a1 and a2 > a3:\n",
        "    print(a2, \"is the greatest\")\n",
        "    if a1 < a3:\n",
        "        print(a1, \"is the smallest\")\n",
        "    else:\n",
        "        print(a3, \"is the smallest\")\n",
        "else:\n",
        "    print(a3, \"is the greatest\")\n",
        "    if a1 < a2:\n",
        "        print(a1, \"is the smallest\")\n",
        "    else:\n",
        "        print(a2, \"is the smallest\")\n",
        "\n",
        ""
      ],
      "metadata": {
        "colab": {
          "base_uri": "https://localhost:8080/"
        },
        "id": "UrL_pXD5oGR5",
        "outputId": "8e20cb56-1995-4d13-f3c7-c03c8357f789"
      },
      "execution_count": 16,
      "outputs": [
        {
          "output_type": "stream",
          "name": "stdout",
          "text": [
            "enter a number : 3\n",
            "enter a number : 10\n",
            "enter a number : 25\n",
            "25 is the greatest\n",
            "3 is the smallest\n"
          ]
        }
      ]
    },
    {
      "cell_type": "code",
      "source": [
        "num=int(input(\"enter a number : \"))\n",
        "sum=0\n",
        "for i in range(0,num+1):\n",
        "    sum+=i\n",
        "print(sum)"
      ],
      "metadata": {
        "colab": {
          "base_uri": "https://localhost:8080/"
        },
        "id": "drk0WfwTuPW9",
        "outputId": "56561776-0a19-40b4-be7f-6013b21d41c8"
      },
      "execution_count": 30,
      "outputs": [
        {
          "output_type": "stream",
          "name": "stdout",
          "text": [
            "enter a number : 10\n",
            "55\n"
          ]
        }
      ]
    },
    {
      "cell_type": "code",
      "source": [
        "num=int(input(\"enter a number : \"))\n",
        "fact=1\n",
        "for i in range(1,num+1):\n",
        "    fact*=i\n",
        "print(fact)"
      ],
      "metadata": {
        "colab": {
          "base_uri": "https://localhost:8080/"
        },
        "id": "RYeXHfOZwD7w",
        "outputId": "a084882a-3201-41eb-e7af-d57f9f5ef8f2"
      },
      "execution_count": 33,
      "outputs": [
        {
          "output_type": "stream",
          "name": "stdout",
          "text": [
            "enter a number : 5\n",
            "120\n"
          ]
        }
      ]
    },
    {
      "cell_type": "code",
      "source": [
        "c=3\n",
        "for i in range(0,c+1):\n",
        "    for j in range(i):\n",
        "        print(\"*\",end=\" \")\n",
        "\n",
        "    print()"
      ],
      "metadata": {
        "colab": {
          "base_uri": "https://localhost:8080/"
        },
        "id": "XULLmqLlybbr",
        "outputId": "8fc48a68-c6cf-444b-c810-ef1c32967ace"
      },
      "execution_count": 41,
      "outputs": [
        {
          "output_type": "stream",
          "name": "stdout",
          "text": [
            "\n",
            "* \n",
            "* * \n",
            "* * * \n"
          ]
        }
      ]
    }
  ]
#raisa
}
