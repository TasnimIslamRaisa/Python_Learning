{
  "nbformat": 4,
  "nbformat_minor": 0,
  "metadata": {
    "colab": {
      "provenance": [],
      "authorship_tag": "ABX9TyP5wcb7e1pisUqlhZ10vHTr",
      "include_colab_link": true
    },
    "kernelspec": {
      "name": "python3",
      "display_name": "Python 3"
    },
    "language_info": {
      "name": "python"
    }
  },
  "cells": [
    {
      "cell_type": "markdown",
      "metadata": {
        "id": "view-in-github",
        "colab_type": "text"
      },
      "source": [
        "<a href=\"https://colab.research.google.com/github/TasnimIslamRaisa/Python_Learning/blob/edupython/Python_class7.ipynb\" target=\"_parent\"><img src=\"https://colab.research.google.com/assets/colab-badge.svg\" alt=\"Open In Colab\"/></a>"
      ]
    },
    {
      "cell_type": "markdown",
      "source": [
        "**Python Dictionary**"
      ],
      "metadata": {
        "id": "IC65Y68X3jpg"
      }
    },
    {
      "cell_type": "code",
      "source": [
        "#  python dictionary\n",
        "\n",
        "# Creating a dictionary\n",
        "# my_dict={\"Key\":\"value\"}\n",
        "my_dict = {\"name\": \"Alice\", \"age\": 30, \"city\": \"New York\"}\n",
        "# Accessing elements\n",
        "name =my_dict[\"name\"]\n",
        "print(name)  # Output: Alice\n",
        "\n",
        "age=my_dict.get('age')\n",
        "print(age)\n"
      ],
      "metadata": {
        "colab": {
          "base_uri": "https://localhost:8080/"
        },
        "id": "CBbBR9r53sJ_",
        "outputId": "fab64f73-9fee-44a6-9abd-e4c243a0a9af"
      },
      "execution_count": 12,
      "outputs": [
        {
          "output_type": "stream",
          "name": "stdout",
          "text": [
            "Alice\n",
            "30\n"
          ]
        }
      ]
    },
    {
      "cell_type": "code",
      "source": [
        "my_dict = {\"name\": \"Alice\", \"age\": 30, \"city\": \"New York\"}\n",
        "# Modifying elements\n",
        "my_dict[\"age\"] = 31\n",
        "print(my_dict)  # Output: {'name': 'Alice', 'age': 31, 'city': 'New York'}\n",
        "\n",
        "\n",
        "# Adding new elements\n",
        "my_dict[\"occupation\"] = \"Engineer\"\n",
        "print(my_dict) # Output: {'name': 'Alice', 'age': 31, 'city': 'New York', 'occupation': 'Engineer'}\n"
      ],
      "metadata": {
        "colab": {
          "base_uri": "https://localhost:8080/"
        },
        "id": "ZeOyLVID55U3",
        "outputId": "be28183f-00db-4388-fa5d-f97b1ff19dba"
      },
      "execution_count": 13,
      "outputs": [
        {
          "output_type": "stream",
          "name": "stdout",
          "text": [
            "{'name': 'Alice', 'age': 31, 'city': 'New York'}\n",
            "{'name': 'Alice', 'age': 31, 'city': 'New York', 'occupation': 'Engineer'}\n"
          ]
        }
      ]
    },
    {
      "cell_type": "code",
      "source": [
        "\n",
        "my_dict = {\"name\": \"Alice\", \"age\": 30, \"city\": \"New York\"}\n",
        "\n",
        "\n",
        "# Checking if a key exists\n",
        "if \"country\" in my_dict:\n",
        "  print(my_dict[\"country\"])\n",
        "else:\n",
        "  print(\"Key 'country' not found.\")\n",
        "\n",
        "# Iterating through keys\n",
        "print(\"Key in my dictionary :\",end=\" \")\n",
        "for key in my_dict:\n",
        "  print(key,end=\" \")\n",
        "print()\n",
        "\n",
        "# Iterating through value\n",
        "print(\"Value in my dictionary :\",end=\" \")\n",
        "\n",
        "for value in my_dict.values() :\n",
        "  print(value,end=\" \")\n",
        "print()\n",
        "\n",
        "# Iterating through key-value pairs\n",
        "print(\"Key and Value in my dictionary :\",end=\" \")\n",
        "for key, value in my_dict.items():\n",
        "  print(key, value,end=\" , \")\n",
        "print()\n"
      ],
      "metadata": {
        "colab": {
          "base_uri": "https://localhost:8080/"
        },
        "id": "yWb2ofiF6qJO",
        "outputId": "a734c9d5-c4c2-440e-b9b7-3eb40824b8ee"
      },
      "execution_count": 26,
      "outputs": [
        {
          "output_type": "stream",
          "name": "stdout",
          "text": [
            "Key 'country' not found.\n",
            "Key in my dictionary : name age city \n",
            "Value in my dictionary : Alice 30 New York \n",
            "Key and Value in my dictionary : name Alice , age 30 , city New York , \n"
          ]
        }
      ]
    },
    {
      "cell_type": "code",
      "source": [
        "\n",
        "my_dict = {\"name\": \"Alice\", \"age\": 30, \"city\": \"New York\",'occupation': 'Engineer'}\n",
        "# Deleting an element\n",
        "del my_dict[\"city\"]\n",
        "print(my_dict) # Output: {'name': 'Alice', 'age': 31, 'occupation': 'Engineer'}\n",
        "length=len(my_dict)\n",
        "print(\"length of my dictionary \",length)\n",
        "\n",
        "\n",
        "# Clearing a dictionary\n",
        "my_dict.clear()\n",
        "print(my_dict) # Output: {}\n",
        "\n"
      ],
      "metadata": {
        "colab": {
          "base_uri": "https://localhost:8080/"
        },
        "id": "UJ7WmbkO61fm",
        "outputId": "20b0e3b5-bd92-41d0-ee1b-240329b7a7ed"
      },
      "execution_count": 27,
      "outputs": [
        {
          "output_type": "stream",
          "name": "stdout",
          "text": [
            "{'name': 'Alice', 'age': 30, 'occupation': 'Engineer'}\n",
            "length of my dictionary  3\n",
            "{}\n"
          ]
        }
      ]
    },
    {
      "cell_type": "code",
      "source": [
        "# Dictionary Methods\n",
        "my_dict = {\"name\": \"Alice\", \"age\": 30, \"city\": \"New York\"}\n",
        "# get(): Returns the value associated with a key, or a default value if the key is not found.\n",
        "value = my_dict.get(\"name\", \"Unknown\") # Get the value associated with \"name\". If not found, return \"Unknown\".\n",
        "print(value)\n",
        "\n",
        "# keys(): Returns a view object containing the keys of the dictionary\n",
        "keys = my_dict.keys()\n",
        "print(keys)\n",
        "\n",
        "# values(): Returns a view object containing the values of the dictionary\n",
        "values = my_dict.values()\n",
        "print(values)\n",
        "\n",
        "# items(): Returns a view object containing the key-value pairs of the dictionary\n",
        "items = my_dict.items()\n",
        "print(items)\n",
        "\n",
        "\n",
        "# pop()/del: Removes and returns the value associated with a specified key.\n",
        "# popitem(): Removes and returns the last inserted key-value pair\n",
        "# update(): Updates the dictionary with the key-value pairs from another dictionary or iterable\n",
        "# copy(): Returns a shallow copy of the dictionary\n",
        "\n",
        "# Example: Creating a dictionary from a list of tuples\n",
        "data = [(\"a\", 1), (\"b\", 2), (\"c\", 3)]\n",
        "new_dict = dict(data)\n",
        "print(new_dict)"
      ],
      "metadata": {
        "colab": {
          "base_uri": "https://localhost:8080/"
        },
        "id": "bbfqw69w6_aG",
        "outputId": "b020ea79-9604-4e70-9713-749ba7341ef4"
      },
      "execution_count": 17,
      "outputs": [
        {
          "output_type": "stream",
          "name": "stdout",
          "text": [
            "Alice\n",
            "dict_keys(['name', 'age', 'city'])\n",
            "dict_values(['Alice', 30, 'New York'])\n",
            "dict_items([('name', 'Alice'), ('age', 30), ('city', 'New York')])\n",
            "{'a': 1, 'b': 2, 'c': 3}\n"
          ]
        }
      ]
    },
    {
      "cell_type": "markdown",
      "source": [
        "**Excecise**"
      ],
      "metadata": {
        "id": "CVxifnjuAkDO"
      }
    },
    {
      "cell_type": "code",
      "source": [
        "# given a list make a dictionary of this\n",
        "\n",
        "words = ['apple', 'banana', 'apple', 'orange', 'banana', 'apple']\n",
        "\n",
        "word_counts = {}\n",
        "\n",
        "for word in words:\n",
        "  if word in word_counts:\n",
        "    word_counts[word] += 1\n",
        "  else:\n",
        "    word_counts[word] = 1\n",
        "\n",
        "print(word_counts)"
      ],
      "metadata": {
        "colab": {
          "base_uri": "https://localhost:8080/"
        },
        "id": "PNlUfmwVBhrF",
        "outputId": "d5fca631-a05f-45fd-a842-e8b8aa6d37ea"
      },
      "execution_count": 29,
      "outputs": [
        {
          "output_type": "stream",
          "name": "stdout",
          "text": [
            "{'apple': 3, 'banana': 2, 'orange': 1}\n"
          ]
        }
      ]
    }
  ]
}