{
  "nbformat": 4,
  "nbformat_minor": 0,
  "metadata": {
    "colab": {
      "provenance": [],
      "authorship_tag": "ABX9TyNNKsCOLxUpzLgrf/RL6ZCt",
      "include_colab_link": true
    },
    "kernelspec": {
      "name": "python3",
      "display_name": "Python 3"
    },
    "language_info": {
      "name": "python"
    }
  },
  "cells": [
    {
      "cell_type": "markdown",
      "metadata": {
        "id": "view-in-github",
        "colab_type": "text"
      },
      "source": [
        "<a href=\"https://colab.research.google.com/github/TasnimIslamRaisa/Python_Learning/blob/ostad/M2_C2.ipynb\" target=\"_parent\"><img src=\"https://colab.research.google.com/assets/colab-badge.svg\" alt=\"Open In Colab\"/></a>"
      ]
    },
    {
      "cell_type": "code",
      "execution_count": 1,
      "metadata": {
        "colab": {
          "base_uri": "https://localhost:8080/"
        },
        "collapsed": true,
        "id": "pw80XymPR-BI",
        "outputId": "0c4cdad0-2a33-4aa6-c1bc-b3a3669d992a"
      },
      "outputs": [
        {
          "output_type": "stream",
          "name": "stdout",
          "text": [
            "Hello, Alice!\n",
            "8\n",
            "Hello, Guest!\n",
            "Hello, Bob!\n",
            "1\n",
            "2\n",
            "3\n",
            "apple\n",
            "banana\n",
            "Name: Charlie, Age: 30, City: New York\n",
            "name: David\n",
            "age: 25\n",
            "occupation: Engineer\n",
            "16\n",
            "8\n",
            "120\n"
          ]
        }
      ],
      "source": [
        "# prompt: all about fuction\n",
        "\n",
        "# Define a function\n",
        "def greet(name):\n",
        "  \"\"\"This function greets the person passed in as a parameter.\"\"\"\n",
        "  print(f\"Hello, {name}!\")\n",
        "\n",
        "# Call the function\n",
        "greet(\"Alice\")  # Output: Hello, Alice!\n",
        "\n",
        "\n",
        "# Function with return value\n",
        "def add(x, y):\n",
        "  \"\"\"This function adds two numbers and returns the sum.\"\"\"\n",
        "  return x + y\n",
        "\n",
        "sum_result = add(5, 3)\n",
        "print(sum_result)  # Output: 8\n",
        "\n",
        "\n",
        "# Function with default parameter value\n",
        "def greet_with_default(name=\"Guest\"):\n",
        "  \"\"\"This function greets the person, defaulting to 'Guest'.\"\"\"\n",
        "  print(f\"Hello, {name}!\")\n",
        "\n",
        "greet_with_default()       # Output: Hello, Guest!\n",
        "greet_with_default(\"Bob\")  # Output: Hello, Bob!\n",
        "\n",
        "\n",
        "# Function with variable number of arguments\n",
        "def print_items(*args):\n",
        "  \"\"\"This function prints all the arguments passed to it.\"\"\"\n",
        "  for item in args:\n",
        "    print(item)\n",
        "\n",
        "print_items(1, 2, 3)      # Output: 1, 2, 3 (each on a new line)\n",
        "print_items(\"apple\", \"banana\")  # Output: apple, banana (each on a new line)\n",
        "\n",
        "\n",
        "# Function with keyword arguments\n",
        "def describe_person(name, age, city):\n",
        "  \"\"\"This function describes a person using keyword arguments.\"\"\"\n",
        "  print(f\"Name: {name}, Age: {age}, City: {city}\")\n",
        "\n",
        "describe_person(name=\"Charlie\", age=30, city=\"New York\") # Explicitly mention arguments\n",
        "\n",
        "\n",
        "# Function with keyword variable-length argument\n",
        "def print_info(**kwargs):\n",
        "    \"\"\"Prints keyword arguments.\"\"\"\n",
        "    for key, value in kwargs.items():\n",
        "        print(f\"{key}: {value}\")\n",
        "\n",
        "print_info(name=\"David\", age=25, occupation=\"Engineer\") #Output Name: David, Age:25, Occupation:Engineer\n",
        "\n",
        "\n",
        "# Lambda Function (Anonymous Function)\n",
        "square = lambda x: x * x\n",
        "print(square(4)) # Output: 16\n",
        "\n",
        "\n",
        "# Nested Functions\n",
        "def outer_function(x):\n",
        "    def inner_function(y):\n",
        "        return x + y\n",
        "    return inner_function\n",
        "\n",
        "add_five = outer_function(5)\n",
        "result = add_five(3)  # Calls inner_function with x=5 and y=3\n",
        "print(result) # Output: 8\n",
        "\n",
        "\n",
        "# Recursion (A function calling itself)\n",
        "def factorial(n):\n",
        "  \"\"\"Calculates factorial using recursion.\"\"\"\n",
        "  if n == 0:\n",
        "    return 1\n",
        "  else:\n",
        "    return n * factorial(n - 1)\n",
        "print(factorial(5)) #Output 120"
      ]
    },
    {
      "cell_type": "code",
      "source": [
        "def my_function():\n",
        "  print(\"Hello World!\")\n",
        "print(\"It's Raisa!\")\n",
        "my_function()\n"
      ],
      "metadata": {
        "colab": {
          "base_uri": "https://localhost:8080/"
        },
        "id": "of84bpTqUkA5",
        "outputId": "e2012448-6880-4aba-de8d-b5ad8b727668"
      },
      "execution_count": 4,
      "outputs": [
        {
          "output_type": "stream",
          "name": "stdout",
          "text": [
            "It's Raisa!\n",
            "Hello World!\n"
          ]
        }
      ]
    },
    {
      "cell_type": "code",
      "source": [
        "#perameter: who receives value\n",
        "def sum(x,y):\n",
        "  sum_num=x+y\n",
        "  return sum_num\n",
        "\n",
        "a=int(input(\"Enter a number 1 : \"))\n",
        "b= int(input(\"Enter a number 2 : \"))\n",
        "#print(sum(a,b))\n",
        "total_sum=sum(a,b)\n",
        "print(\"Total sumation of number 1 and 2 : \",total_sum)\n"
      ],
      "metadata": {
        "colab": {
          "base_uri": "https://localhost:8080/"
        },
        "id": "kyLtLfXsVTcE",
        "outputId": "1b136385-b3d3-43a4-e2f2-575e970aa16c"
      },
      "execution_count": 7,
      "outputs": [
        {
          "output_type": "stream",
          "name": "stdout",
          "text": [
            "Enter a number 1 : 3\n",
            "Enter a number 2 : 1\n",
            "Total sumation of number 1 and 2 :  4\n"
          ]
        }
      ]
    }
  ]
}