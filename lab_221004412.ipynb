{
  "nbformat": 4,
  "nbformat_minor": 0,
  "metadata": {
    "colab": {
      "provenance": [],
      "authorship_tag": "ABX9TyMlO6RaSNmsLxkO7rJhdvq2",
      "include_colab_link": true
    },
    "kernelspec": {
      "name": "python3",
      "display_name": "Python 3"
    },
    "language_info": {
      "name": "python"
    }
  },
  "cells": [
    {
      "cell_type": "markdown",
      "metadata": {
        "id": "view-in-github",
        "colab_type": "text"
      },
      "source": [
        "<a href=\"https://colab.research.google.com/github/TasnimIslamRaisa/Python_Learning/blob/main/lab_221004412.ipynb\" target=\"_parent\"><img src=\"https://colab.research.google.com/assets/colab-badge.svg\" alt=\"Open In Colab\"/></a>"
      ]
    },
    {
      "cell_type": "code",
      "source": [
        "\n",
        "\n",
        "\n",
        "a=(1,2,3)\n",
        "print(type(a))\n",
        "print(a)\n",
        "\n",
        "b={1,2,3}\n",
        "print(type(b))\n",
        "print(b)\n",
        "\n",
        "c=[1,2,3]\n",
        "print(type(c))\n",
        "print(c)\n",
        "\n",
        "d={1:\"a\",2:\"b\",3:\"d\"}\n",
        "print(type(d))\n",
        "print(d)\n",
        "print(*d)\n",
        "print(d.keys())\n",
        "print(d.values())\n",
        "print(d.items())"
      ],
      "metadata": {
        "colab": {
          "base_uri": "https://localhost:8080/"
        },
        "id": "0H2HGByTK3X4",
        "outputId": "fe32e6bb-b7ad-4cc1-9a1b-675ad9bc96fb"
      },
      "execution_count": 16,
      "outputs": [
        {
          "output_type": "stream",
          "name": "stdout",
          "text": [
            "<class 'tuple'>\n",
            "(1, 2, 3)\n",
            "<class 'set'>\n",
            "{1, 2, 3}\n",
            "<class 'list'>\n",
            "[1, 2, 3]\n",
            "<class 'dict'>\n",
            "{1: 'a', 2: 'b', 3: 'd'}\n",
            "1 2 3\n",
            "dict_keys([1, 2, 3])\n",
            "dict_values(['a', 'b', 'd'])\n",
            "dict_items([(1, 'a'), (2, 'b'), (3, 'd')])\n"
          ]
        }
      ]
    },
    {
      "cell_type": "code",
      "source": [
        "user_input = input(\"Enter a dictionary in the format key1:value1,key2:value2,...: \")\n",
        "items = user_input.split(\",\")\n",
        "print(type(items))\n",
        "a = {}\n",
        "print(type(a))\n",
        "for item in items:\n",
        "        key, value = item.split(\":\")\n",
        "        a[key.strip()] = int(value.strip())\n",
        "        total_sum = sum(a.values())\n",
        "print(\"The sum of dictionary values is:\", total_sum)\n",
        "\n",
        "print(\"Minimum Number : \",min(a.values()))\n",
        "print(\"Maximum Number : \",max(a.values()))\n",
        "#input : x:10,y:20,z:30"
      ],
      "metadata": {
        "colab": {
          "base_uri": "https://localhost:8080/"
        },
        "id": "xeN3of3XP2pX",
        "outputId": "4d74efd3-a0d9-4a77-bac9-f405e4ee9dfa"
      },
      "execution_count": 31,
      "outputs": [
        {
          "output_type": "stream",
          "name": "stdout",
          "text": [
            "Enter a dictionary in the format key1:value1,key2:value2,...: x:10,y:20,z:30\n",
            "<class 'list'>\n",
            "<class 'dict'>\n",
            "The sum of dictionary values is: 60\n",
            "Minimum Number :  10\n",
            "Maximum Number :  30\n"
          ]
        }
      ]
    },
    {
      "cell_type": "code",
      "source": [
        "a=[1,2,3]\n",
        "b=[\"a\",\"b\",\"c\"]\n",
        "c=dict(zip(a,b))\n",
        "print(c)"
      ],
      "metadata": {
        "colab": {
          "base_uri": "https://localhost:8080/"
        },
        "id": "4lXolM9XU-Rm",
        "outputId": "ec0b234a-213f-41bb-8431-eda49078f71f"
      },
      "execution_count": 32,
      "outputs": [
        {
          "output_type": "stream",
          "name": "stdout",
          "text": [
            "{1: 'a', 2: 'b', 3: 'c'}\n"
          ]
        }
      ]
    },
    {
      "cell_type": "code",
      "execution_count": 39,
      "metadata": {
        "colab": {
          "base_uri": "https://localhost:8080/"
        },
        "id": "hta_wPJTHzRE",
        "outputId": "e944a284-0e1a-473b-c6d8-0e5c0baa1cac"
      },
      "outputs": [
        {
          "output_type": "stream",
          "name": "stdout",
          "text": [
            "A C B F E D "
          ]
        }
      ],
      "source": [
        "from collections import deque\n",
        "\n",
        "def bfs(graph, start):\n",
        "    visited = set()\n",
        "    queue = deque([start])\n",
        "    while queue:\n",
        "        vertex = queue.popleft()\n",
        "        if vertex not in visited:\n",
        "            visited.add(vertex)\n",
        "            print(vertex,end=\" \")\n",
        "            queue.extend(graph[vertex] - visited)\n",
        "\n",
        "# Example usage\n",
        "graph = {\n",
        "    'A': set(['B', 'C']),\n",
        "    'B': set(['A', 'D', 'E']),\n",
        "    'C': set(['A', 'F']),\n",
        "    'D': set(['B']),\n",
        "    'E': set(['B', 'F']),\n",
        "    'F': set(['C', 'E'])\n",
        "}\n",
        "\n",
        "bfs(graph, 'A')"
      ]
    }
  ]
}