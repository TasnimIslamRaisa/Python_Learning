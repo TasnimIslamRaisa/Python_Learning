{
  "nbformat": 4,
  "nbformat_minor": 0,
  "metadata": {
    "colab": {
      "provenance": [],
      "authorship_tag": "ABX9TyOfHJQqi2x67OUAUCWrTNkj",
      "include_colab_link": true
    },
    "kernelspec": {
      "name": "python3",
      "display_name": "Python 3"
    },
    "language_info": {
      "name": "python"
    }
  },
  "cells": [
    {
      "cell_type": "markdown",
      "metadata": {
        "id": "view-in-github",
        "colab_type": "text"
      },
      "source": [
        "<a href=\"https://colab.research.google.com/github/TasnimIslamRaisa/Python_Learning/blob/edupython/Python_Class_5.ipynb\" target=\"_parent\"><img src=\"https://colab.research.google.com/assets/colab-badge.svg\" alt=\"Open In Colab\"/></a>"
      ]
    },
    {
      "cell_type": "markdown",
      "source": [
        "# List In Python"
      ],
      "metadata": {
        "id": "HjCVZEiOAdNP"
      }
    },
    {
      "cell_type": "code",
      "source": [
        "numbers=[1,2,3,4,5,6,7,8,9,10]\n",
        "\n",
        "print(numbers)\n",
        "\n",
        "print(numbers[2])\n",
        "\n",
        "#neg indexing\n",
        "print(numbers[-1])\n",
        "\n",
        "sub_set=numbers[1:4]\n",
        "print(sub_set)\n",
        "\n",
        "print(numbers[:3])\n",
        "print(numbers[3:])\n",
        "print(numbers[1:11:2])\n",
        "\n",
        "#Neg index slicing\n",
        "print(numbers[:-1])\n",
        "print(numbers[-3:])\n"
      ],
      "metadata": {
        "colab": {
          "base_uri": "https://localhost:8080/"
        },
        "id": "KxozJ-HSAh5_",
        "outputId": "749fcbe8-adc9-4aec-b004-93681eed1614"
      },
      "execution_count": null,
      "outputs": [
        {
          "output_type": "stream",
          "name": "stdout",
          "text": [
            "[1, 2, 3, 4, 5, 6, 7, 8, 9, 10]\n",
            "3\n",
            "10\n",
            "[2, 3, 4]\n",
            "[1, 2, 3]\n",
            "[4, 5, 6, 7, 8, 9, 10]\n",
            "[2, 4, 6, 8, 10]\n",
            "[1, 2, 3, 4, 5, 6, 7, 8, 9]\n",
            "[8, 9, 10]\n"
          ]
        }
      ]
    },
    {
      "cell_type": "code",
      "source": [
        "list=[1,2,3,4,5,6,7,8,9,10]\n",
        "list[0]=0\n",
        "print(list)\n",
        "#append\n",
        "list.append(11)\n",
        "print(list)\n",
        "#extend\n",
        "list.extend([12,14,16])\n",
        "print(list)"
      ],
      "metadata": {
        "colab": {
          "base_uri": "https://localhost:8080/"
        },
        "id": "EsPKJGWSE7cG",
        "outputId": "de2e7e02-a7bf-4848-a8ae-346ad0b185e7"
      },
      "execution_count": null,
      "outputs": [
        {
          "output_type": "stream",
          "name": "stdout",
          "text": [
            "[0, 2, 3, 4, 5, 6, 7, 8, 9, 10]\n",
            "[0, 2, 3, 4, 5, 6, 7, 8, 9, 10, 11]\n",
            "[0, 2, 3, 4, 5, 6, 7, 8, 9, 10, 11, 12, 14, 16]\n"
          ]
        }
      ]
    },
    {
      "cell_type": "code",
      "source": [
        "#insert\n",
        "list=[11,12,13,14,16,17,18,19,20]\n",
        "list.insert(4,15)\n",
        "print(list)"
      ],
      "metadata": {
        "colab": {
          "base_uri": "https://localhost:8080/"
        },
        "id": "0UGBfaqzFkvt",
        "outputId": "a4c2db47-381f-43ba-c170-660d163336db"
      },
      "execution_count": null,
      "outputs": [
        {
          "output_type": "stream",
          "name": "stdout",
          "text": [
            "[11, 12, 13, 14, 15, 16, 17, 18, 19, 20]\n"
          ]
        }
      ]
    },
    {
      "cell_type": "code",
      "source": [
        "#remove\n",
        "list=[11, 12, 13, 14, 15, 16, 17, 18, 19, 20]\n",
        "print(list)\n",
        "\n",
        "list.remove(19)   # remove the value\n",
        "print(list)\n",
        "\n",
        "list.pop(0)  #remove the index value\n",
        "print(list)\n",
        "\n",
        "list.clear()  #clear the values not the list\n",
        "print(list)"
      ],
      "metadata": {
        "colab": {
          "base_uri": "https://localhost:8080/"
        },
        "id": "P4xaAsHqFzzw",
        "outputId": "a54baad6-1a65-49ba-b66f-ca69190ff662"
      },
      "execution_count": null,
      "outputs": [
        {
          "output_type": "stream",
          "name": "stdout",
          "text": [
            "[11, 12, 13, 14, 15, 16, 17, 18, 19, 20]\n",
            "[11, 12, 13, 14, 15, 16, 17, 18, 20]\n",
            "[12, 13, 14, 15, 16, 17, 18, 20]\n",
            "[]\n"
          ]
        }
      ]
    },
    {
      "cell_type": "code",
      "source": [
        "#list Comprehension\n",
        "\n",
        "list=[x for x in range(10)]\n",
        "print(list)\n",
        "\n",
        "numbers=[x for x in range(11,21,2)]\n",
        "print(numbers)"
      ],
      "metadata": {
        "colab": {
          "base_uri": "https://localhost:8080/"
        },
        "id": "4gHca1tuGzrV",
        "outputId": "a2bb7f60-f961-4b72-deb9-87dcc2840055"
      },
      "execution_count": null,
      "outputs": [
        {
          "output_type": "stream",
          "name": "stdout",
          "text": [
            "[0, 1, 2, 3, 4, 5, 6, 7, 8, 9]\n",
            "[11, 13, 15, 17, 19]\n"
          ]
        }
      ]
    },
    {
      "cell_type": "code",
      "source": [
        "numbers=[x**2 for x in range(10)]\n",
        "print(numbers)"
      ],
      "metadata": {
        "colab": {
          "base_uri": "https://localhost:8080/"
        },
        "id": "7Bh30g_xI-BM",
        "outputId": "b0abf6d2-356e-4940-d014-932fb08b2304"
      },
      "execution_count": null,
      "outputs": [
        {
          "output_type": "stream",
          "name": "stdout",
          "text": [
            "[0, 1, 4, 9, 16, 25, 36, 49, 64, 81]\n"
          ]
        }
      ]
    },
    {
      "cell_type": "code",
      "source": [
        "#sort\n",
        "numbers=[5,6,7,8,9,10,1,2,3,4,0]\n",
        "numbers.sort()\n",
        "print(numbers)"
      ],
      "metadata": {
        "colab": {
          "base_uri": "https://localhost:8080/"
        },
        "id": "4shM-vOWKCE7",
        "outputId": "59bfd4b9-9592-484c-c426-08144d47a3a0"
      },
      "execution_count": null,
      "outputs": [
        {
          "output_type": "stream",
          "name": "stdout",
          "text": [
            "[0, 1, 2, 3, 4, 5, 6, 7, 8, 9, 10]\n"
          ]
        }
      ]
    },
    {
      "cell_type": "code",
      "source": [
        "#sorted\n",
        "numbers=[5,6,7,8,9,10,1,2,3,4,0]\n",
        "print(sorted(numbers))"
      ],
      "metadata": {
        "colab": {
          "base_uri": "https://localhost:8080/"
        },
        "id": "h13Km7v1LwZE",
        "outputId": "d5bd6889-445a-4ac4-eb9f-7c8455d1e02f"
      },
      "execution_count": null,
      "outputs": [
        {
          "output_type": "stream",
          "name": "stdout",
          "text": [
            "[0, 1, 2, 3, 4, 5, 6, 7, 8, 9, 10]\n"
          ]
        }
      ]
    },
    {
      "cell_type": "code",
      "source": [
        "#reverse\n",
        "numbers=[5,6,7,8,9,10,1,2,3,4,0]\n",
        "numbers.reverse()\n",
        "print(numbers)"
      ],
      "metadata": {
        "colab": {
          "base_uri": "https://localhost:8080/"
        },
        "id": "BDZh8FK0LajL",
        "outputId": "458e6c00-0f2f-45b8-f28e-744e3ee139c5"
      },
      "execution_count": null,
      "outputs": [
        {
          "output_type": "stream",
          "name": "stdout",
          "text": [
            "[0, 4, 3, 2, 1, 10, 9, 8, 7, 6, 5]\n"
          ]
        }
      ]
    },
    {
      "cell_type": "code",
      "source": [
        "#reversed\n",
        "numbers=[9,8,7,6,5,4,3,2,1]\n",
        "reversed_list=list(reversed(numbers))\n",
        "print(reversed_list)"
      ],
      "metadata": {
        "colab": {
          "base_uri": "https://localhost:8080/"
        },
        "id": "L_jgsZceL5or",
        "outputId": "b9a4282c-03ce-49a1-bb2c-b0c190d54b43"
      },
      "execution_count": null,
      "outputs": [
        {
          "output_type": "stream",
          "name": "stdout",
          "text": [
            "[1, 2, 3, 4, 5, 6, 7, 8, 9]\n"
          ]
        }
      ]
    },
    {
      "cell_type": "code",
      "source": [
        "#copy\n",
        "list=[1, 2, 3, 4, 5, 6, 7, 8, 9]\n",
        "list_copy=list.copy()\n",
        "print(list_copy)\n",
        "#length\n",
        "print(len(list))\n"
      ],
      "metadata": {
        "colab": {
          "base_uri": "https://localhost:8080/"
        },
        "id": "xl3kgPeDVXln",
        "outputId": "00d87407-7237-4010-f68c-2c04c9eff9e9"
      },
      "execution_count": 7,
      "outputs": [
        {
          "output_type": "stream",
          "name": "stdout",
          "text": [
            "[1, 2, 3, 4, 5, 6, 7, 8, 9]\n",
            "9\n"
          ]
        }
      ]
    },
    {
      "cell_type": "code",
      "source": [
        "#list joining\n",
        "list1=[1,2,3]\n",
        "list2=[4,5,6]\n",
        "list3=list1+list2\n",
        "print(list3)\n",
        "#"
      ],
      "metadata": {
        "colab": {
          "base_uri": "https://localhost:8080/"
        },
        "id": "ha8dL5_cVwY-",
        "outputId": "7cc26f35-f061-40d6-aa6a-aefa7ff6a50b"
      },
      "execution_count": 9,
      "outputs": [
        {
          "output_type": "stream",
          "name": "stdout",
          "text": [
            "[1, 2, 3, 4, 5, 6]\n"
          ]
        }
      ]
    },
    {
      "cell_type": "code",
      "source": [
        "fruits=['apple','banana','cherry']\n",
        "#accessing each value using for loop\n",
        "for fruit in fruits:\n",
        "    print(fruit)\n",
        "print()\n",
        "\n",
        "#using while loop\n",
        "i=0\n",
        "while i<len(fruits) :\n",
        "  print(fruits[i])\n",
        "  i+=1"
      ],
      "metadata": {
        "colab": {
          "base_uri": "https://localhost:8080/"
        },
        "id": "KQtIyizYWCN-",
        "outputId": "75b45984-26cd-40ee-db47-d914ba15f449"
      },
      "execution_count": 13,
      "outputs": [
        {
          "output_type": "stream",
          "name": "stdout",
          "text": [
            "apple\n",
            "banana\n",
            "cherry\n",
            "\n",
            "apple\n",
            "banana\n",
            "cherry\n"
          ]
        }
      ]
    },
    {
      "cell_type": "code",
      "source": [
        "# enumerator\n",
        "fruits=['apple','banana','cherry']\n",
        "for index,fruit in enumerate(fruits):\n",
        "    print(index,fruit)\n",
        "    #print(index+1,fruit)"
      ],
      "metadata": {
        "colab": {
          "base_uri": "https://localhost:8080/"
        },
        "id": "-orFSTmEW0YG",
        "outputId": "46967253-505c-43d1-cdc9-60a44ea53631"
      },
      "execution_count": 17,
      "outputs": [
        {
          "output_type": "stream",
          "name": "stdout",
          "text": [
            "0 apple\n",
            "1 banana\n",
            "2 cherry\n"
          ]
        }
      ]
    },
    {
      "cell_type": "code",
      "source": [
        "#enumerator  from index 1\n",
        "fruits=['apple','banana','cherry']\n",
        "for index,fruit in enumerate(fruits,start=1):\n",
        "    print(index,fruit)"
      ],
      "metadata": {
        "colab": {
          "base_uri": "https://localhost:8080/"
        },
        "id": "4ztHosUZXTyW",
        "outputId": "b71c3515-0b84-4405-e0c2-667225bed82d"
      },
      "execution_count": 18,
      "outputs": [
        {
          "output_type": "stream",
          "name": "stdout",
          "text": [
            "1 apple\n",
            "2 banana\n",
            "3 cherry\n"
          ]
        }
      ]
    },
    {
      "cell_type": "code",
      "source": [
        "#index\n",
        "fruits=['apple','banana','cherry']\n",
        "indexOfcherry=fruits.index('cherry')\n",
        "print(indexOfcherry)\n",
        "#"
      ],
      "metadata": {
        "colab": {
          "base_uri": "https://localhost:8080/"
        },
        "id": "UZP_sFDhYBDe",
        "outputId": "7667840e-3adf-4e67-d42f-2e86fb522fc7"
      },
      "execution_count": 20,
      "outputs": [
        {
          "output_type": "stream",
          "name": "stdout",
          "text": [
            "2\n"
          ]
        }
      ]
    },
    {
      "cell_type": "markdown",
      "source": [
        "# Excercise"
      ],
      "metadata": {
        "id": "NRke8-nEYTwn"
      }
    },
    {
      "cell_type": "code",
      "source": [
        "# 1\n",
        "fruits=['apple','banana','cherry','date']\n",
        "  #a\n",
        "print(\"The second element :\",fruits[1])\n",
        "print(\"The last element :\",fruits[-1])\n",
        "  #b\n",
        "length=len(fruits)\n",
        "print(\"The length of the list :\",length)\n",
        "print()\n",
        "  #c\n",
        "print(\"The 1st three element :\",fruits[:3])\n",
        "print()\n",
        " #d\n",
        "vegetables=['carrot','broccoli']\n",
        "con_list=fruits+vegetables\n",
        "#fruits.extend(vegetables)\n",
        "#print(fruits)\n",
        "print(con_list)\n",
        "print()\n",
        "# e\n",
        "if \"banana\" in fruits:\n",
        "    print(\"Banana is present in the list\")\n",
        "else:\n",
        "    print(\"Banana is not present in the list\")\n",
        "print()\n",
        "  # F\n",
        "for fruit in fruits:\n",
        "    print(fruit)\n"
      ],
      "metadata": {
        "colab": {
          "base_uri": "https://localhost:8080/"
        },
        "id": "DuDZXkk9YYsv",
        "outputId": "2e859a19-6ee1-4131-b343-ab4cd3f83baa"
      },
      "execution_count": 16,
      "outputs": [
        {
          "output_type": "stream",
          "name": "stdout",
          "text": [
            "The second element : banana\n",
            "The last element : date\n",
            "The length of the list : 4\n",
            "\n",
            "The 1st three element : ['apple', 'banana', 'cherry']\n",
            "\n",
            "['apple', 'banana', 'cherry', 'date', 'carrot', 'broccoli']\n",
            "\n",
            "Banana is present in the list\n",
            "\n",
            "apple\n",
            "banana\n",
            "cherry\n",
            "date\n"
          ]
        }
      ]
    },
    {
      "cell_type": "code",
      "source": [
        "# Ex : 2\n",
        "numbers =[1,2,3,4,5]\n",
        "# a\n",
        "numbers.pop(2)\n",
        "numbers.insert(2,10)\n",
        "#numbers[2]=10\n",
        "print(\"After changing the 3rd element into 10\",numbers)\n",
        "# b\n",
        "numbers.append(6)\n",
        "print(numbers)\n",
        "# c\n",
        "numbers.remove(2)\n",
        "print(numbers)\n",
        "\n"
      ],
      "metadata": {
        "colab": {
          "base_uri": "https://localhost:8080/"
        },
        "id": "PnotLH_Bdmy0",
        "outputId": "3650bcf3-f2c7-40ba-956d-a78bc39de549"
      },
      "execution_count": 23,
      "outputs": [
        {
          "output_type": "stream",
          "name": "stdout",
          "text": [
            "After changing the 3rd element into 10 [1, 2, 10, 4, 5]\n",
            "[1, 2, 10, 4, 5, 6]\n",
            "[1, 10, 4, 5, 6]\n"
          ]
        }
      ]
    },
    {
      "cell_type": "code",
      "source": [
        "# Ex : 3\n",
        "# list =[1,2,3,4,5,6,7,8,9,10]\n",
        "list=[x for x in range(1,11)]\n",
        "print(\"The List : \",list)\n",
        "\n",
        "list1=[x for x in list if x%2==0]\n",
        "print(\"Filters the even numbers :\",list1)\n",
        "\n",
        "list2=[x**2 for x in list1]\n",
        "print(\"Squares the filtered numbers :\",list2)\n"
      ],
      "metadata": {
        "colab": {
          "base_uri": "https://localhost:8080/"
        },
        "id": "W0TcBmaAfEyl",
        "outputId": "f1bbd521-e357-427d-9b76-a262e230f303"
      },
      "execution_count": 42,
      "outputs": [
        {
          "output_type": "stream",
          "name": "stdout",
          "text": [
            "The List :  [1, 2, 3, 4, 5, 6, 7, 8, 9, 10]\n",
            "Filters the even numbers : [2, 4, 6, 8, 10]\n",
            "Squares the filtered numbers : [4, 16, 36, 64, 100]\n"
          ]
        }
      ]
    }
  ]
}