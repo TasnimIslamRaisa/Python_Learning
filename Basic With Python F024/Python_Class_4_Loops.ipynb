{
  "nbformat": 4,
  "nbformat_minor": 0,
  "metadata": {
    "colab": {
      "provenance": [],
      "authorship_tag": "ABX9TyPwZr4HP/6l+ZqodzQxsNHe",
      "include_colab_link": true
    },
    "kernelspec": {
      "name": "python3",
      "display_name": "Python 3"
    },
    "language_info": {
      "name": "python"
    }
  },
  "cells": [
    {
      "cell_type": "markdown",
      "metadata": {
        "id": "view-in-github",
        "colab_type": "text"
      },
      "source": [
        "<a href=\"https://colab.research.google.com/github/TasnimIslamRaisa/Python_Learning/blob/edupython/Python_Class_4_Loops.ipynb\" target=\"_parent\"><img src=\"https://colab.research.google.com/assets/colab-badge.svg\" alt=\"Open In Colab\"/></a>"
      ]
    },
    {
      "cell_type": "code",
      "execution_count": 13,
      "metadata": {
        "colab": {
          "base_uri": "https://localhost:8080/"
        },
        "id": "EprBQwql0p64",
        "outputId": "953b8eee-fae4-4558-91b5-48cd781b4b16"
      },
      "outputs": [
        {
          "output_type": "stream",
          "name": "stdout",
          "text": [
            "1\n",
            "2\n",
            "3\n",
            "4\n",
            "5\n",
            "Loop Finished\n"
          ]
        }
      ],
      "source": [
        "#while loop\n",
        "i=1\n",
        "while i<=5 :\n",
        "  print(i)\n",
        "  i+=1\n",
        "# when loop is terminated else-block will work\n",
        "else :\n",
        "  print(\"Loop Finished\")"
      ]
    },
    {
      "cell_type": "code",
      "source": [
        "#Python infinite while loop\n",
        "var =1\n",
        "while var == 1:\n",
        "  num=int(input('Enter a number : '))\n",
        "  print(\"You entered : \",num)\n",
        "  print(\"Good Bye\")"
      ],
      "metadata": {
        "colab": {
          "base_uri": "https://localhost:8080/",
          "height": 384
        },
        "id": "j53hf1Df1Cot",
        "outputId": "cf883d04-684f-4581-c66f-a7f5bde4f0e3"
      },
      "execution_count": 2,
      "outputs": [
        {
          "name": "stdout",
          "output_type": "stream",
          "text": [
            "Enter a number : 8\n",
            "You entered :  8\n",
            "Good Bye\n",
            "Enter a number : 10\n",
            "You entered :  10\n",
            "Good Bye\n",
            "Enter a number : 55\n",
            "You entered :  55\n",
            "Good Bye\n",
            "Enter a number : o\n"
          ]
        },
        {
          "output_type": "error",
          "ename": "ValueError",
          "evalue": "invalid literal for int() with base 10: 'o'",
          "traceback": [
            "\u001b[0;31m---------------------------------------------------------------------------\u001b[0m",
            "\u001b[0;31mValueError\u001b[0m                                Traceback (most recent call last)",
            "\u001b[0;32m<ipython-input-2-8bfd76c64f20>\u001b[0m in \u001b[0;36m<cell line: 3>\u001b[0;34m()\u001b[0m\n\u001b[1;32m      2\u001b[0m \u001b[0mvar\u001b[0m \u001b[0;34m=\u001b[0m\u001b[0;36m1\u001b[0m\u001b[0;34m\u001b[0m\u001b[0;34m\u001b[0m\u001b[0m\n\u001b[1;32m      3\u001b[0m \u001b[0;32mwhile\u001b[0m \u001b[0mvar\u001b[0m \u001b[0;34m==\u001b[0m \u001b[0;36m1\u001b[0m\u001b[0;34m:\u001b[0m\u001b[0;34m\u001b[0m\u001b[0;34m\u001b[0m\u001b[0m\n\u001b[0;32m----> 4\u001b[0;31m   \u001b[0mnum\u001b[0m\u001b[0;34m=\u001b[0m\u001b[0mint\u001b[0m\u001b[0;34m(\u001b[0m\u001b[0minput\u001b[0m\u001b[0;34m(\u001b[0m\u001b[0;34m'Enter a number : '\u001b[0m\u001b[0;34m)\u001b[0m\u001b[0;34m)\u001b[0m\u001b[0;34m\u001b[0m\u001b[0;34m\u001b[0m\u001b[0m\n\u001b[0m\u001b[1;32m      5\u001b[0m   \u001b[0mprint\u001b[0m\u001b[0;34m(\u001b[0m\u001b[0;34m\"You entered : \"\u001b[0m\u001b[0;34m,\u001b[0m\u001b[0mnum\u001b[0m\u001b[0;34m)\u001b[0m\u001b[0;34m\u001b[0m\u001b[0;34m\u001b[0m\u001b[0m\n\u001b[1;32m      6\u001b[0m   \u001b[0mprint\u001b[0m\u001b[0;34m(\u001b[0m\u001b[0;34m\"Good Bye\"\u001b[0m\u001b[0;34m)\u001b[0m\u001b[0;34m\u001b[0m\u001b[0;34m\u001b[0m\u001b[0m\n",
            "\u001b[0;31mValueError\u001b[0m: invalid literal for int() with base 10: 'o'"
          ]
        }
      ]
    },
    {
      "cell_type": "code",
      "source": [
        "#For loop\n",
        "numbers =[10,20,30,40,50,19]\n",
        "for num in numbers :\n",
        "  if(num%2==0) :\n",
        "    print(num)\n",
        "else :\n",
        "  print(\"Loop Finished\")"
      ],
      "metadata": {
        "colab": {
          "base_uri": "https://localhost:8080/"
        },
        "id": "v4ufvOzV16vk",
        "outputId": "f2011cbd-aeec-47d4-d4a7-7f6438257631"
      },
      "execution_count": 14,
      "outputs": [
        {
          "output_type": "stream",
          "name": "stdout",
          "text": [
            "10\n",
            "20\n",
            "30\n",
            "40\n",
            "50\n",
            "Loop Finished\n"
          ]
        }
      ]
    },
    {
      "cell_type": "code",
      "source": [
        "#For loop with range() function\n",
        "# range(start , stop,steps)\n",
        "for num in range(5) :\n",
        "  print(num)\n",
        "else :\n",
        "  print(\"Loop Finished\")\n",
        "\n",
        "for num in range(10,16) :\n",
        "  print(num)\n",
        "else :\n",
        "  print(\"Loop Finished\")\n",
        "\n",
        "for num in range(1,11,2) :\n",
        "  print(num)\n",
        "else :\n",
        "  print(\"Loop Finished\")"
      ],
      "metadata": {
        "colab": {
          "base_uri": "https://localhost:8080/"
        },
        "id": "eMJF9bg83PU2",
        "outputId": "233c8cfd-32ec-4403-fe2e-ddc24aeafea1"
      },
      "execution_count": 30,
      "outputs": [
        {
          "output_type": "stream",
          "name": "stdout",
          "text": [
            "0\n",
            "1\n",
            "2\n",
            "3\n",
            "4\n",
            "Loop Finished\n",
            "10\n",
            "11\n",
            "12\n",
            "13\n",
            "14\n",
            "15\n",
            "Loop Finished\n",
            "1\n",
            "3\n",
            "5\n",
            "7\n",
            "9\n",
            "Loop Finished\n"
          ]
        }
      ]
    },
    {
      "cell_type": "code",
      "source": [
        "#Nested Loop\n",
        "for i in range(1,3) :\n",
        "  for j in range(1,4) :\n",
        "      print(f\"i={i},j={j}\")\n",
        "      #print(\"i = \",i,\"j = \",j)\n"
      ],
      "metadata": {
        "colab": {
          "base_uri": "https://localhost:8080/"
        },
        "id": "C2MoXnFr56BT",
        "outputId": "f72841c9-de16-465b-cd19-2833ad17f7dc"
      },
      "execution_count": 19,
      "outputs": [
        {
          "output_type": "stream",
          "name": "stdout",
          "text": [
            "i=1,j=1\n",
            "i=1,j=2\n",
            "i=1,j=3\n",
            "i=2,j=1\n",
            "i=2,j=2\n",
            "i=2,j=3\n"
          ]
        }
      ]
    },
    {
      "cell_type": "code",
      "source": [
        "# Break Statement\n",
        "for letter in \"Python\" :\n",
        "  if letter == \"h\" :\n",
        "    break;\n",
        "  print(\"Current Letter :\",letter)\n"
      ],
      "metadata": {
        "colab": {
          "base_uri": "https://localhost:8080/"
        },
        "id": "4YklgCEy8XvM",
        "outputId": "094e79f5-60f9-497c-c3ca-c2f785bc1997"
      },
      "execution_count": 22,
      "outputs": [
        {
          "output_type": "stream",
          "name": "stdout",
          "text": [
            "Current Letter : P\n",
            "Current Letter : y\n",
            "Current Letter : t\n"
          ]
        }
      ]
    },
    {
      "cell_type": "code",
      "source": [
        "# Break Statement\n",
        "no =33\n",
        "numbers=[10,20,33,55,39,23]\n",
        "for num in numbers :\n",
        "  if num==no :\n",
        "    print(\"Number found in list \")\n",
        "    break\n",
        "    #print(\"Number found in list \")\n",
        "  else :\n",
        "    print(\"Number not found in list \")\n",
        "\n"
      ],
      "metadata": {
        "colab": {
          "base_uri": "https://localhost:8080/"
        },
        "id": "5jvNpXvJ8vL0",
        "outputId": "8658959d-b933-42c0-820a-00c2e259d3bd"
      },
      "execution_count": 27,
      "outputs": [
        {
          "output_type": "stream",
          "name": "stdout",
          "text": [
            "Number not found in list \n",
            "Number not found in list \n",
            "Number found in list \n"
          ]
        }
      ]
    },
    {
      "cell_type": "code",
      "source": [
        "# Continue statement\n",
        "for letter in \"Python\" :\n",
        "  if letter == \"h\" :\n",
        "    continue;\n",
        "  print(\"Current Letter :\",letter)"
      ],
      "metadata": {
        "colab": {
          "base_uri": "https://localhost:8080/"
        },
        "id": "XHVdM3Bv9PPT",
        "outputId": "bd1e63d0-2983-4e74-9747-b35d076c83bf"
      },
      "execution_count": 24,
      "outputs": [
        {
          "output_type": "stream",
          "name": "stdout",
          "text": [
            "Current Letter : P\n",
            "Current Letter : y\n",
            "Current Letter : t\n",
            "Current Letter : o\n",
            "Current Letter : n\n"
          ]
        }
      ]
    },
    {
      "cell_type": "code",
      "source": [
        "# Pass statement\n",
        "for letter in \"Python\" :\n",
        "  if letter == \"h\" :\n",
        "    pass;\n",
        "    print(\"This block is pass\")\n",
        "  print(\"Current Letter :\",letter)"
      ],
      "metadata": {
        "colab": {
          "base_uri": "https://localhost:8080/"
        },
        "id": "dIs8LMSo9Zl6",
        "outputId": "0b649206-758a-4891-e5a7-76fed137568c"
      },
      "execution_count": 28,
      "outputs": [
        {
          "output_type": "stream",
          "name": "stdout",
          "text": [
            "Current Letter : P\n",
            "Current Letter : y\n",
            "Current Letter : t\n",
            "This block is pass\n",
            "Current Letter : h\n",
            "Current Letter : o\n",
            "Current Letter : n\n"
          ]
        }
      ]
    },
    {
      "cell_type": "code",
      "source": [
        "#Excercise 1: sum of 1 to 100 using for loop\n",
        "sum=0\n",
        "for num in range(1,101) :\n",
        "    sum+=num\n",
        "    #break\n",
        "print(\"Sum =\",sum)\n",
        "# sum of 1 to 100 using while loop\n",
        "i=1\n",
        "sum1=0\n",
        "while i<=100 :\n",
        " sum1+=i\n",
        " i+=1\n",
        "print(\"Sum =\",sum1)\n",
        "\n",
        "# Excercise 2: factorial Calculation using for loop with user input\n",
        "fact=1\n",
        "num=int(input(\"Enter a Number for factorial calculaion \"))\n",
        "if num<0 :\n",
        "  print(\"Factorial is not defined for negative numbers\")\n",
        "else :\n",
        "  for i in reversed(range(1,num+1)) :\n",
        "  #for i in range(1,num+1) :\n",
        "    fact*=i\n",
        "print(fact)\n",
        "\n",
        "# Excercise 3 : Multiplication table\n",
        "number=int(input(\"Enter a Number for multiplication table \"))\n",
        "multiplication=1\n",
        "for i in range(1,11) :\n",
        "  multiplication=i*number\n",
        "  print(number,\"X\",i,\" =\",multiplication)\n",
        "\n",
        "\n",
        "#Excercise 4: Fibonacci\n",
        "numF1=0\n",
        "numF2 =1\n",
        "sumF0=0\n",
        "print(\"Fibonacci Sequence\")\n",
        "print(numF1,numF2,end =\" \")\n",
        "i=3\n",
        "while i<=10 :\n",
        "  sumF=numF1+numF2\n",
        "  print(sumF,end =\" \")\n",
        "  numF1=numF2\n",
        "  numF2=sumF\n",
        "  i+=1\n"
      ],
      "metadata": {
        "colab": {
          "base_uri": "https://localhost:8080/"
        },
        "id": "3yz0erSG-GuT",
        "outputId": "732380f3-9ee0-4912-fbb7-869f27ac1819"
      },
      "execution_count": 76,
      "outputs": [
        {
          "output_type": "stream",
          "name": "stdout",
          "text": [
            "Sum = 5050\n",
            "Sum = 5050\n",
            "Enter a Number for factorial calculaion 4\n",
            "24\n",
            "Enter a Number for multiplication table 3\n",
            "3 X 1  = 3\n",
            "3 X 2  = 6\n",
            "3 X 3  = 9\n",
            "3 X 4  = 12\n",
            "3 X 5  = 15\n",
            "3 X 6  = 18\n",
            "3 X 7  = 21\n",
            "3 X 8  = 24\n",
            "3 X 9  = 27\n",
            "3 X 10  = 30\n",
            "Fibonacci Sequence\n",
            "0 1 1 2 3 5 8 13 21 34 "
          ]
        }
      ]
    },
    {
      "cell_type": "code",
      "source": [
        "#Excercise 4: Fibonacci\n",
        "a,b=0,1\n",
        "count=0\n",
        "while count<10 :\n",
        "  print(a,end=\" \")\n",
        "  a,b = b,a+b\n",
        "  count+=1"
      ],
      "metadata": {
        "colab": {
          "base_uri": "https://localhost:8080/"
        },
        "id": "ugdt58q0UdPl",
        "outputId": "e3732434-8256-4cb3-ef76-612922c95ea5"
      },
      "execution_count": 77,
      "outputs": [
        {
          "output_type": "stream",
          "name": "stdout",
          "text": [
            "0 1 1 2 3 5 8 13 21 34 "
          ]
        }
      ]
    },
    {
      "cell_type": "code",
      "source": [
        "#pattern\n",
        "row =5\n",
        "for i in range(1,row+1) :    # for row\n",
        "    for j in range(i) :      # for column\n",
        "      print('*',end=' ')\n",
        "    print()"
      ],
      "metadata": {
        "colab": {
          "base_uri": "https://localhost:8080/"
        },
        "id": "aIY9I6KaU_hp",
        "outputId": "51ec57e7-9de2-4667-c9b8-fe75e896df67"
      },
      "execution_count": 81,
      "outputs": [
        {
          "output_type": "stream",
          "name": "stdout",
          "text": [
            "* \n",
            "* * \n",
            "* * * \n",
            "* * * * \n",
            "* * * * * \n"
          ]
        }
      ]
    }
  ]
}