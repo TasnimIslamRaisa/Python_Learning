{
  "nbformat": 4,
  "nbformat_minor": 0,
  "metadata": {
    "colab": {
      "provenance": [],
      "authorship_tag": "ABX9TyPIS1WI7Ysd+msHme7Yrp18",
      "include_colab_link": true
    },
    "kernelspec": {
      "name": "python3",
      "display_name": "Python 3"
    },
    "language_info": {
      "name": "python"
    }
  },
  "cells": [
    {
      "cell_type": "markdown",
      "metadata": {
        "id": "view-in-github",
        "colab_type": "text"
      },
      "source": [
        "<a href=\"https://colab.research.google.com/github/TasnimIslamRaisa/Python_Learning/blob/edupython/Copy_of_Operators_in_python_class2.ipynb\" target=\"_parent\"><img src=\"https://colab.research.google.com/assets/colab-badge.svg\" alt=\"Open In Colab\"/></a>"
      ]
    },
    {
      "cell_type": "code",
      "execution_count": null,
      "metadata": {
        "id": "dYaRsZMpfLKy"
      },
      "outputs": [],
      "source": []
    },
    {
      "cell_type": "code",
      "source": [
        "#1 arithmetic operator\n",
        "a=10\n",
        "b=2\n",
        "print(\"modulo of a and b =\",a%b)\n",
        "print(\"floor division of a and b = \",a//b)"
      ],
      "metadata": {
        "colab": {
          "base_uri": "https://localhost:8080/"
        },
        "id": "rnZwIBEIkAIb",
        "outputId": "5ee2bcde-70e5-4750-f7c5-fe7706e63eda"
      },
      "execution_count": null,
      "outputs": [
        {
          "output_type": "stream",
          "name": "stdout",
          "text": [
            "modulo of a and b = 0\n",
            "floor division of a and b =  5\n"
          ]
        }
      ]
    },
    {
      "cell_type": "code",
      "source": [
        "#2 assignment operator\n",
        "a=5\n",
        "b=2\n",
        "a=a%b\n",
        "print(\"module of a and b\",a)"
      ],
      "metadata": {
        "colab": {
          "base_uri": "https://localhost:8080/"
        },
        "id": "FQmM_RfZkaA0",
        "outputId": "7c097ff7-3cd7-47aa-aa8c-e00a535128cf"
      },
      "execution_count": null,
      "outputs": [
        {
          "output_type": "stream",
          "name": "stdout",
          "text": [
            "module of a and b 1\n"
          ]
        }
      ]
    },
    {
      "cell_type": "code",
      "source": [
        "#3 comparison operator\n",
        "a=7\n",
        "b=3\n",
        "print(\"a==b =\",a==b)"
      ],
      "metadata": {
        "colab": {
          "base_uri": "https://localhost:8080/"
        },
        "id": "zRS3Z-lckuta",
        "outputId": "082c0940-d0f3-40e7-b1ef-ab5c86c57edd"
      },
      "execution_count": null,
      "outputs": [
        {
          "output_type": "stream",
          "name": "stdout",
          "text": [
            "a==b = False\n"
          ]
        }
      ]
    },
    {
      "cell_type": "code",
      "source": [],
      "metadata": {
        "id": "qUhTodWynb3d"
      },
      "execution_count": null,
      "outputs": []
    },
    {
      "cell_type": "code",
      "source": [
        "#4 logical operator\n",
        "a=10\n",
        "b=7\n",
        "print(True and False)\n",
        "print(True or False)\n",
        "print(a>3 and a<10)\n",
        "print(not((a>3 and a<10)))\n",
        "print(not False)\n"
      ],
      "metadata": {
        "colab": {
          "base_uri": "https://localhost:8080/"
        },
        "id": "BMd_LuBQlXmJ",
        "outputId": "81be2fb9-fe70-4858-af0e-1188b51cd793"
      },
      "execution_count": null,
      "outputs": [
        {
          "output_type": "stream",
          "name": "stdout",
          "text": [
            "False\n",
            "True\n",
            "False\n",
            "True\n",
            "True\n"
          ]
        }
      ]
    },
    {
      "cell_type": "code",
      "source": [
        "# 5 Bitwise operator\n",
        "a=5  #0101 in binary\n",
        "b=3 #0011 in binary\n",
        "\n",
        "# AND\n",
        "print(a & b)  #1 (0001 in binary)\n",
        "\n",
        "# OR\n",
        "print (a | b) #7 (0111 in binary)\n",
        "\n",
        "#XOR\n",
        "print(a^b)   #6 (0110 in binary)\n",
        "\n",
        "#NOT\n",
        "print(~a)  #-6 (flipping the bits result in -6 in two's complement)\n",
        "\n",
        "#LEFT SHIFT\n",
        "print(a<<1)  #10 (1010 in binary)\n",
        "print(a<<2)  #20(10100 in binary)\n",
        "\n",
        "#Right shift\n",
        "print(a>>1)"
      ],
      "metadata": {
        "colab": {
          "base_uri": "https://localhost:8080/"
        },
        "id": "L8QwWAtfnmer",
        "outputId": "c8d02bb3-7de2-41f1-9432-4c3bda7bd5fb"
      },
      "execution_count": null,
      "outputs": [
        {
          "output_type": "stream",
          "name": "stdout",
          "text": [
            "1\n",
            "7\n",
            "6\n",
            "-6\n",
            "10\n",
            "20\n",
            "2\n"
          ]
        }
      ]
    },
    {
      "cell_type": "code",
      "source": [
        "# 6 Special operator\n",
        "a=10\n",
        "b=10\n",
        "c=20\n",
        "print(a is b)   #true, bcz python reuses small integer objects(-5 to 256)\n",
        "print(a is c)   #false ,bcz they refer to different integer objects\n",
        "print(a is not c)"
      ],
      "metadata": {
        "colab": {
          "base_uri": "https://localhost:8080/"
        },
        "id": "sW6bVIHFr5iG",
        "outputId": "529dfe4d-376f-430c-e119-9697851c14c8"
      },
      "execution_count": null,
      "outputs": [
        {
          "output_type": "stream",
          "name": "stdout",
          "text": [
            "True\n",
            "False\n",
            "True\n"
          ]
        }
      ]
    },
    {
      "cell_type": "code",
      "source": [
        "#7 membership operator\n",
        "msg =\"tasnim\"\n",
        "print('T' in msg)\n",
        "print('s' in msg)\n",
        "print('Tasnim' not in msg)"
      ],
      "metadata": {
        "colab": {
          "base_uri": "https://localhost:8080/"
        },
        "id": "P2inJhm7si3W",
        "outputId": "4d8b89cf-93be-400b-a57d-731ac7a14775"
      },
      "execution_count": null,
      "outputs": [
        {
          "output_type": "stream",
          "name": "stdout",
          "text": [
            "False\n",
            "True\n",
            "True\n"
          ]
        }
      ]
    },
    {
      "cell_type": "code",
      "source": [
        "#Write a program in python that takes two numbers from the user and calculate sum.product,diff\n",
        "a=int(input(\"Enter number1 : \"))\n",
        "b=int(input(\"Enter number2  : \"))\n",
        "print(\"Sum = \",a+b)\n",
        "print(\"product = \",a*b)\n",
        "print(\"Difference = \",a-b)"
      ],
      "metadata": {
        "colab": {
          "base_uri": "https://localhost:8080/"
        },
        "id": "w16WH3g14DPS",
        "outputId": "85a99fc3-1c91-40a4-c3ca-64c1fc685295"
      },
      "execution_count": null,
      "outputs": [
        {
          "output_type": "stream",
          "name": "stdout",
          "text": [
            "Enter number1 : 20\n",
            "Enter number2  : 10\n",
            "Sum =  30\n",
            "product =  200\n",
            "Difference =  10\n"
          ]
        }
      ]
    },
    {
      "cell_type": "code",
      "source": [
        "#Write a program in python that uses assignment operators to perform a series of calculations on a variable\n",
        "a=5\n",
        "print(\"a = \",a)\n",
        "a+=5\n",
        "print(\"a = \",a)\n",
        "a-=2\n",
        "print(\"a = \",a)\n",
        "a/=4\n",
        "print(\"a = \",a)\n",
        "a*=8\n",
        "print(\"a = \",a)\n",
        "a**=2\n",
        "print(\"a = \",a)\n",
        "a//=5\n",
        "print(\"a = \",a)\n",
        "a%=2\n",
        "print(\"a = \",a)"
      ],
      "metadata": {
        "colab": {
          "base_uri": "https://localhost:8080/"
        },
        "id": "gVY-ooTj5nkK",
        "outputId": "42f4a7a4-e4f5-4a62-d9a0-9fe18d9d5c4e"
      },
      "execution_count": null,
      "outputs": [
        {
          "output_type": "stream",
          "name": "stdout",
          "text": [
            "a =  5\n",
            "a =  10\n",
            "a =  8\n",
            "a =  2.0\n",
            "a =  16.0\n",
            "a =  256.0\n",
            "a =  51.0\n",
            "a =  1.0\n"
          ]
        }
      ]
    },
    {
      "cell_type": "code",
      "source": [
        "#Write a program in python to check if a given number is both greater than 10 and even\n",
        "a=float(input(\"Enter a number : \"))\n",
        "if a>10 and a%2==0:\n",
        "   print(a,\" is both greater than 10 and even \")\n",
        "else :\n",
        "    print(a,\" is not both greater than 10 and even \")\n",
        "\n"
      ],
      "metadata": {
        "colab": {
          "base_uri": "https://localhost:8080/"
        },
        "id": "JEB2CEeh6O1W",
        "outputId": "abf67976-89fc-47f8-9f8e-7afaa7a1390b"
      },
      "execution_count": null,
      "outputs": [
        {
          "output_type": "stream",
          "name": "stdout",
          "text": [
            "Enter a number : 8\n",
            "8.0  is not greater than 10 and even \n"
          ]
        }
      ]
    },
    {
      "cell_type": "code",
      "source": [
        "#Write a program in python to compare two number\n",
        "a=int(input(\"Enter a number : \"))\n",
        "b=int(input(\"Enter a number : \"))\n",
        "if a>b :\n",
        "  print(a,\" is greater than \",b)\n",
        "elif a<b :\n",
        "  print(b,\" is greater than \",a)\n",
        "else :\n",
        "  print(a,\" is equal \",b)\n"
      ],
      "metadata": {
        "colab": {
          "base_uri": "https://localhost:8080/"
        },
        "id": "VrU_vkTm9ZiD",
        "outputId": "a26cfa90-d24d-42ff-a198-08f6d3042229"
      },
      "execution_count": null,
      "outputs": [
        {
          "output_type": "stream",
          "name": "stdout",
          "text": [
            "Enter a number : 10\n",
            "Enter a number : 10\n",
            "10  is equal  10\n"
          ]
        }
      ]
    },
    {
      "cell_type": "code",
      "source": [
        "#Write a program in python to calculate a year is leap year or not\n",
        "year =int(input(\"Enter a year to check ; \"))\n",
        "if year%400==0 :\n",
        "  print(\"Leap year\")\n",
        "elif year%4==0 and ~year%100==0:\n",
        "    print(\"Leap year\")\n",
        "else :\n",
        "    print(\"Not Leap year\")\n"
      ],
      "metadata": {
        "colab": {
          "base_uri": "https://localhost:8080/"
        },
        "id": "pahCM3Kh-6Fb",
        "outputId": "e9a02f34-9ac4-4d37-d680-c5fce8e11cba"
      },
      "execution_count": null,
      "outputs": [
        {
          "output_type": "stream",
          "name": "stdout",
          "text": [
            "Enter a year to check ; 1900\n",
            "Not Leap year\n"
          ]
        }
      ]
    },
    {
      "cell_type": "code",
      "source": [
        "#Write a program in python to calculate a year is leap year or not\n",
        "year =int(input(\"Enter a year to check ; \"))\n",
        "if year%400==0 or year%4==0 and ~year%100==0 :\n",
        "  print(\"Leap year\")\n",
        "else :\n",
        "    print(\"Not Leap year\")"
      ],
      "metadata": {
        "colab": {
          "base_uri": "https://localhost:8080/"
        },
        "id": "KyegNhHMAsTU",
        "outputId": "69d9b82f-740d-42a7-8f54-26fad0050d64"
      },
      "execution_count": null,
      "outputs": [
        {
          "output_type": "stream",
          "name": "stdout",
          "text": [
            "Enter a year to check ; 2000\n",
            "Leap year\n"
          ]
        }
      ]
    }
  ]
}