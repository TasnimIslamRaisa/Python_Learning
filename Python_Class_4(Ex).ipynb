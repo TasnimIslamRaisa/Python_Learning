{
  "nbformat": 4,
  "nbformat_minor": 0,
  "metadata": {
    "colab": {
      "provenance": [],
      "authorship_tag": "ABX9TyNiaYQGd536Ax7O6xtGvXGJ",
      "include_colab_link": true
    },
    "kernelspec": {
      "name": "python3",
      "display_name": "Python 3"
    },
    "language_info": {
      "name": "python"
    }
  },
  "cells": [
    {
      "cell_type": "markdown",
      "metadata": {
        "id": "view-in-github",
        "colab_type": "text"
      },
      "source": [
        "<a href=\"https://colab.research.google.com/github/TasnimIslamRaisa/Python_Learning/blob/edupython/Python_Class_4(Ex).ipynb\" target=\"_parent\"><img src=\"https://colab.research.google.com/assets/colab-badge.svg\" alt=\"Open In Colab\"/></a>"
      ]
    },
    {
      "cell_type": "markdown",
      "source": [
        "# Excercises of Class 4"
      ],
      "metadata": {
        "id": "HOu-cs569OJX"
      }
    },
    {
      "cell_type": "code",
      "source": [
        "#Exercise 6: Break Statement\n",
        "sum=0\n",
        "while True :\n",
        "  num=int(input(\"Enter a num :\"))\n",
        "  if num<0 :\n",
        "    break\n",
        "  sum+=num\n",
        "print(sum)"
      ],
      "metadata": {
        "colab": {
          "base_uri": "https://localhost:8080/"
        },
        "id": "b1gKZYdf9bT3",
        "outputId": "e7501842-157c-4a69-8bb0-77b44a57517c"
      },
      "execution_count": null,
      "outputs": [
        {
          "output_type": "stream",
          "name": "stdout",
          "text": [
            "Enter a num :2\n",
            "Enter a num :1\n",
            "Enter a num :2\n",
            "Enter a num :-1\n",
            "5\n"
          ]
        }
      ]
    },
    {
      "cell_type": "code",
      "source": [
        "#Exercise 7: Continue Statement\n",
        "for i in range(1,21) :\n",
        "  if i%2==0 :\n",
        "    continue\n",
        "  print(i)"
      ],
      "metadata": {
        "colab": {
          "base_uri": "https://localhost:8080/"
        },
        "id": "tk2NWYCfG8Wk",
        "outputId": "4e706878-e1e1-4b8d-813d-dd89980cf51e"
      },
      "execution_count": null,
      "outputs": [
        {
          "output_type": "stream",
          "name": "stdout",
          "text": [
            "1\n",
            "3\n",
            "5\n",
            "7\n",
            "9\n",
            "11\n",
            "13\n",
            "15\n",
            "17\n",
            "19\n"
          ]
        }
      ]
    },
    {
      "cell_type": "code",
      "source": [
        "#Exercise 8: Pass Statement\n",
        "# List of numbers\n",
        "numbers = [10, -1, 5, 7, -3, 0, 12, -6, 15]\n",
        "\n",
        "# Print message for negative numbers\n",
        "print(\"Negative numbers are ignored.\")\n",
        "\n",
        "# Iterate through the list of numbers\n",
        "for number in numbers:\n",
        "    # Check if the number is negative\n",
        "    if number < 0:\n",
        "        pass  # Ignore negative numbers\n",
        "    else:\n",
        "        print(number)  # Print positive numbers"
      ],
      "metadata": {
        "id": "m2fRV3dZIYvc",
        "colab": {
          "base_uri": "https://localhost:8080/"
        },
        "outputId": "bcdf6309-bbd2-4c4b-d099-65f2db136d94"
      },
      "execution_count": 14,
      "outputs": [
        {
          "output_type": "stream",
          "name": "stdout",
          "text": [
            "Negative numbers are ignored.\n",
            "10\n",
            "5\n",
            "7\n",
            "0\n",
            "12\n",
            "15\n"
          ]
        }
      ]
    }
  ]
}