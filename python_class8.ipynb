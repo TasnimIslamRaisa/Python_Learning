{
  "nbformat": 4,
  "nbformat_minor": 0,
  "metadata": {
    "colab": {
      "provenance": [],
      "authorship_tag": "ABX9TyO3Ieo85J7idHTdm/mXgym9",
      "include_colab_link": true
    },
    "kernelspec": {
      "name": "python3",
      "display_name": "Python 3"
    },
    "language_info": {
      "name": "python"
    }
  },
  "cells": [
    {
      "cell_type": "markdown",
      "metadata": {
        "id": "view-in-github",
        "colab_type": "text"
      },
      "source": [
        "<a href=\"https://colab.research.google.com/github/TasnimIslamRaisa/Python_Learning/blob/edupython/python_class8.ipynb\" target=\"_parent\"><img src=\"https://colab.research.google.com/assets/colab-badge.svg\" alt=\"Open In Colab\"/></a>"
      ]
    },
    {
      "cell_type": "code",
      "execution_count": 13,
      "metadata": {
        "colab": {
          "base_uri": "https://localhost:8080/"
        },
        "id": "mjJgNzRcuiEk",
        "outputId": "53decc04-882a-4d30-ea1c-facc51b95b6e"
      },
      "outputs": [
        {
          "output_type": "stream",
          "name": "stdout",
          "text": [
            "30\n"
          ]
        },
        {
          "output_type": "execute_result",
          "data": {
            "text/plain": [
              "15.0"
            ]
          },
          "metadata": {},
          "execution_count": 13
        }
      ],
      "source": [
        "def sum(a,b) :\n",
        "  result = a+b\n",
        "  return result\n",
        "\n",
        "def avgNumber(sum,n) :\n",
        "  result=sum/n\n",
        "  return result\n",
        "\n",
        "sum=sum(10,20)\n",
        "\n",
        "print(sum)\n",
        "avgNumber(sum,2)\n",
        "\n",
        "\n"
      ]
    },
    {
      "cell_type": "code",
      "source": [
        "def markSheet(name,sub1,sub2,sub3,sub4,sub5,n) :\n",
        "  avgNumber=(sub1+sub2+sub3+sub4+sub5)/n\n",
        "  print(f\"{name}'s avg mark is {avgNumber}\")\n",
        "\n",
        "name=input(\"What is your name? \")\n",
        "numberOfSub=int(input(\"How many subjects do you have? \"))\n",
        "\n",
        "markSheet(name,91,92,79,95,83,numberOfSub)\n",
        "\n",
        "# Do this with user input number : hints (Use List)\n",
        "'''numbers=[]\n",
        "for n in range(numberOfSub):\n",
        "  numbers.append(int(input(f\"What is your mark in subject {n+1}? \")))\n",
        "  '''"
      ],
      "metadata": {
        "colab": {
          "base_uri": "https://localhost:8080/",
          "height": 88
        },
        "id": "0_nFL8U52FtL",
        "outputId": "67379b1c-0ae5-4682-ca6c-3e14077e466c"
      },
      "execution_count": 16,
      "outputs": [
        {
          "output_type": "stream",
          "name": "stdout",
          "text": [
            "What is your name? Tasnim\n",
            "How many subjects do you have? 5\n",
            "Tasnim's avg mark is 88.0\n"
          ]
        },
        {
          "output_type": "execute_result",
          "data": {
            "text/plain": [
              "'numbers=[]\\nfor n in range(numberOfSub):\\n  numbers.append(int(input(f\"What is your mark in subject {n+1}? \")))'"
            ],
            "application/vnd.google.colaboratory.intrinsic+json": {
              "type": "string"
            }
          },
          "metadata": {},
          "execution_count": 16
        }
      ]
    },
    {
      "cell_type": "code",
      "source": [
        "def markSheet(name,numbers,n) :\n",
        "  sum=0\n",
        "  for value in numbers:\n",
        "    sum+=value\n",
        "    avgNumber=sum/n\n",
        "  print(f\"{name}'s avg mark is {avgNumber}\")\n",
        "\n",
        "\n",
        "name=input(\"What is your name? \")\n",
        "numberOfSub=int(input(\"How many subjects do you have? \"))\n",
        "numbers=[]\n",
        "\n",
        "for n in range(numberOfSub):\n",
        "  numbers.append(int(input(f\"What is your mark in subject {n+1}? \")))\n",
        "\n",
        "markSheet(name,numbers,numberOfSub)\n",
        "\n"
      ],
      "metadata": {
        "colab": {
          "base_uri": "https://localhost:8080/"
        },
        "id": "elI33CyM8B_5",
        "outputId": "7f8c109d-c554-437c-a38c-23913f5acc65"
      },
      "execution_count": 61,
      "outputs": [
        {
          "output_type": "stream",
          "name": "stdout",
          "text": [
            "What is your name? Tasnim\n",
            "How many subjects do you have? 2\n",
            "What is your mark in subject 1? 10\n",
            "What is your mark in subject 2? 20\n",
            "Tasnim's avg mark is 15.0\n"
          ]
        }
      ]
    },
    {
      "cell_type": "code",
      "source": [
        "# Arbitary Argument :\n",
        "\n",
        "def myFunction(*find) :\n",
        "  print(type(find))\n",
        "  lenghth = len(find)\n",
        "  print(lenghth)\n",
        "\n",
        "  print(\"The elements of tuple : \",*find)\n",
        "\n",
        "  print(find[0])\n",
        "  print(find[1])\n",
        "  print(find[2])\n",
        "\n",
        "\n",
        "myFunction(\"Hello\",\"World\",2)"
      ],
      "metadata": {
        "colab": {
          "base_uri": "https://localhost:8080/"
        },
        "id": "HsWI270D5LQJ",
        "outputId": "8639d510-3c71-47b7-eedc-4e0107fed32a"
      },
      "execution_count": 30,
      "outputs": [
        {
          "output_type": "stream",
          "name": "stdout",
          "text": [
            "<class 'tuple'>\n",
            "3\n",
            "The elements of tuple :  Hello World 2\n",
            "Hello\n",
            "World\n",
            "2\n"
          ]
        }
      ]
    },
    {
      "cell_type": "code",
      "source": [
        "# Keyword Argument :\n",
        "def my_function(child3, child2, child1):\n",
        "  print(\"The youngest child is \" + child3)\n",
        "\n",
        "my_function(child1 = \"Bristy\", child2 = \"Raisa\", child3 = \"Arham\")\n"
      ],
      "metadata": {
        "id": "6mpiE1KBCKeo"
      },
      "execution_count": null,
      "outputs": []
    },
    {
      "cell_type": "code",
      "source": [
        "#Arbitary keyword Argument :\n",
        "def my_function(**name):\n",
        "  print(\"Her First name is \" + name['fname'])\n",
        "  print(\"Her last name is \" + name[\"lname\"])\n",
        "\n",
        "my_function(fname = \"Tasnim\",m_name = \"Islam\", lname = \"Raisa\")"
      ],
      "metadata": {
        "id": "IbIVMqXXEKCW"
      },
      "execution_count": null,
      "outputs": []
    },
    {
      "cell_type": "code",
      "source": [
        "# Default parameter\n",
        "def sum(a=10,b=20) :\n",
        "  print(\"Value of a :\",a)\n",
        "  print(\"Value of a :\",b)\n",
        "  return a+b\n",
        "\n",
        "print(sum(10,30))\n",
        "print(sum())\n",
        "print(sum(100,))"
      ],
      "metadata": {
        "colab": {
          "base_uri": "https://localhost:8080/"
        },
        "id": "-oYH02OeILln",
        "outputId": "fd6a4278-e3b8-4e22-bf1f-f32cb72b9356"
      },
      "execution_count": 58,
      "outputs": [
        {
          "output_type": "stream",
          "name": "stdout",
          "text": [
            "Value of a : 10\n",
            "Value of a : 30\n",
            "40\n",
            "Value of a : 10\n",
            "Value of a : 20\n",
            "30\n",
            "Value of a : 100\n",
            "Value of a : 20\n",
            "120\n"
          ]
        }
      ]
    },
    {
      "cell_type": "code",
      "source": [],
      "metadata": {
        "id": "HgLYEBJbK7dw"
      },
      "execution_count": null,
      "outputs": []
    },
    {
      "cell_type": "code",
      "source": [
        "# Practice Problem\n",
        "def legOfList(list) :\n",
        "  print(\"The cities of list : \",*list)\n",
        "  print(\"length Of Bangladeshi Cities : \",len(list))\n",
        "\n",
        "def printCities(list) :\n",
        "  print(\"The cities of list : \",end=\" \")\n",
        "  for city in bangladeshi_cities:\n",
        "    print(city,end=\" \")\n",
        "\n",
        "bangladeshi_cities=[\"Dhaka\",\"Chittagong\",\"Khulna\",\"rajshahi\",\"sylhet\",\"Barishal\",\"Comilla\",\"rangpur\"]\n",
        "legOfList(bangladeshi_cities)\n",
        "printCities(bangladeshi_cities)"
      ],
      "metadata": {
        "colab": {
          "base_uri": "https://localhost:8080/"
        },
        "id": "Mo-BJRMTISCt",
        "outputId": "cd96df06-abc1-4fcb-cd14-390fb38a9c7e"
      },
      "execution_count": 88,
      "outputs": [
        {
          "output_type": "stream",
          "name": "stdout",
          "text": [
            "The cities of list :  Dhaka Chittagong Khulna rajshahi sylhet Barishal Comilla rangpur\n",
            "length Of Bangladeshi Cities :  8\n",
            "The cities of list :  Dhaka Chittagong Khulna rajshahi sylhet Barishal Comilla rangpur "
          ]
        }
      ]
    },
    {
      "cell_type": "code",
      "source": [
        "def factorial(n) :\n",
        "  mul = 1\n",
        "  for i in range(1,n+1) :\n",
        "    mul = mul * i\n",
        "  return mul\n",
        "\n",
        "number=int(input(\"Enter a number : \"))\n",
        "result=factorial(number)\n",
        "print(f\"Factorial of {number} is : {result}\")"
      ],
      "metadata": {
        "colab": {
          "base_uri": "https://localhost:8080/"
        },
        "id": "0nxcU21HQbLV",
        "outputId": "961f2f28-98d7-427d-a601-86a192579313"
      },
      "execution_count": 91,
      "outputs": [
        {
          "output_type": "stream",
          "name": "stdout",
          "text": [
            "Enter a number : 5\n",
            "Factorial of 5 is : 120\n"
          ]
        }
      ]
    },
    {
      "cell_type": "code",
      "source": [
        "def usdToTk(usd) :\n",
        "  tk=usd*120\n",
        "  return tk\n",
        "\n",
        "\n",
        "usd=int(input(\"Enter USD : \"))\n",
        "tk=usdToTk(usd)\n",
        "print(tk)"
      ],
      "metadata": {
        "colab": {
          "base_uri": "https://localhost:8080/"
        },
        "id": "YdD7CNfrRpV9",
        "outputId": "fe0093a7-83a9-44d7-bf78-44a7f1bb7742"
      },
      "execution_count": 95,
      "outputs": [
        {
          "output_type": "stream",
          "name": "stdout",
          "text": [
            "Enter USD : 10\n",
            "1200\n"
          ]
        }
      ]
    },
    {
      "cell_type": "code",
      "source": [
        "def oddOrEven(number) :\n",
        "  if number%2==0 :\n",
        "    print(f\"{number} is even\")\n",
        "  else :\n",
        "    print(f\"{number} is odd\")\n",
        "\n",
        "a=int(input(\"Enter a number \"))\n",
        "oddOrEven(a)\n"
      ],
      "metadata": {
        "colab": {
          "base_uri": "https://localhost:8080/"
        },
        "id": "inpFQDtPTfcE",
        "outputId": "9b9b6393-e2b6-499e-e5a7-d28666276078"
      },
      "execution_count": 97,
      "outputs": [
        {
          "output_type": "stream",
          "name": "stdout",
          "text": [
            "Enter a number 11\n",
            "11 is odd\n"
          ]
        }
      ]
    },
    {
      "cell_type": "code",
      "source": [
        "def evenOddCount(list) :\n",
        "  even=0\n",
        "odd=0\n",
        "for i in list :\n",
        "  if i%2==0 :\n",
        "    even+=1\n",
        "  elif i%2!=0 :\n",
        "    odd+=1\n",
        "if odd==even :\n",
        "  print(\"equal\")\n",
        "elif odd>even :\n",
        "  print(\"odd\")\n",
        "else :\n",
        "  print(\"even\")\n",
        "\n",
        "num = [1,2,3,4,5,6]\n",
        "evenOddCount(num)\n"
      ],
      "metadata": {
        "colab": {
          "base_uri": "https://localhost:8080/"
        },
        "id": "dgLxowPfT2Fs",
        "outputId": "728ccd5f-f2b0-4225-a2b6-94dcd426ede6"
      },
      "execution_count": 115,
      "outputs": [
        {
          "output_type": "stream",
          "name": "stdout",
          "text": [
            "even\n"
          ]
        }
      ]
    }
  ]
}