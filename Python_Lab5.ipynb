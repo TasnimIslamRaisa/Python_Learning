{
  "nbformat": 4,
  "nbformat_minor": 0,
  "metadata": {
    "colab": {
      "provenance": [],
      "authorship_tag": "ABX9TyMst8OcBsNWZIij9L1J+rbM",
      "include_colab_link": true
    },
    "kernelspec": {
      "name": "python3",
      "display_name": "Python 3"
    },
    "language_info": {
      "name": "python"
    }
  },
  "cells": [
    {
      "cell_type": "markdown",
      "metadata": {
        "id": "view-in-github",
        "colab_type": "text"
      },
      "source": [
        "<a href=\"https://colab.research.google.com/github/TasnimIslamRaisa/Python_Learning/blob/edupython/Python_Lab5.ipynb\" target=\"_parent\"><img src=\"https://colab.research.google.com/assets/colab-badge.svg\" alt=\"Open In Colab\"/></a>"
      ]
    },
    {
      "cell_type": "code",
      "execution_count": null,
      "metadata": {
        "colab": {
          "base_uri": "https://localhost:8080/"
        },
        "id": "bSEtnKEu5ROu",
        "outputId": "9acafa3c-094c-4a9f-c1f8-e110103786f7"
      },
      "outputs": [
        {
          "output_type": "stream",
          "name": "stdout",
          "text": [
            "{'orange', 'apple', 'banana', 'cherry'}\n"
          ]
        }
      ],
      "source": [
        "# prompt: set of fruits\n",
        "\n",
        "fruits = {\"apple\", \"banana\", \"cherry\", \"orange\"}\n",
        "print(fruits)"
      ]
    },
    {
      "cell_type": "code",
      "source": [
        "# prompt: remove duplicate value\n",
        "\n",
        "fruits = {\"apple\", \"banana\", \"cherry\", \"orange\", \"apple\"}\n",
        "print(fruits)\n",
        "\n",
        "fruits.add('apple')\n",
        "print(fruits)\n",
        "\n",
        "fruits.remove('apple')\n",
        "print(fruits)\n",
        "\n",
        "fruits.discard('orange')\n",
        "print(fruits)\n",
        "\n",
        "fruits.pop()\n",
        "print(fruits)\n",
        "\n",
        "\n",
        "\n"
      ],
      "metadata": {
        "colab": {
          "base_uri": "https://localhost:8080/"
        },
        "id": "ADxHN-jy5kjK",
        "outputId": "ee564efd-4bda-420a-a529-c54cdc74d1d4"
      },
      "execution_count": null,
      "outputs": [
        {
          "output_type": "stream",
          "name": "stdout",
          "text": [
            "{'orange', 'apple', 'banana', 'cherry'}\n",
            "{'orange', 'apple', 'banana', 'cherry'}\n",
            "{'orange', 'banana', 'cherry'}\n",
            "{'banana', 'cherry'}\n",
            "{'cherry'}\n"
          ]
        }
      ]
    },
    {
      "cell_type": "code",
      "source": [
        "# prompt: union,intersection,difference\n",
        "\n",
        "fruits = {\"apple\", \"banana\", \"cherry\", \"orange\"}\n",
        "vegetables = {\"carrot\", \"potato\", \"onion\", \"apple\"}\n",
        "\n",
        "# Union\n",
        "union_set = fruits.union(vegetables)\n",
        "print(\"Union:\", union_set)\n",
        "\n",
        "# Intersection\n",
        "intersection_set = fruits.intersection(vegetables)\n",
        "print(\"Intersection:\", intersection_set)\n",
        "\n",
        "# Difference (elements in fruits but not in vegetables)\n",
        "difference_set = fruits.difference(vegetables)\n",
        "print(\"Difference (fruits - vegetables):\", difference_set)\n",
        "\n",
        "# Difference (elements in vegetables but not in fruits)\n",
        "difference_set_reverse = vegetables.difference(fruits)\n",
        "print(\"Difference (vegetables - fruits):\", difference_set_reverse)"
      ],
      "metadata": {
        "colab": {
          "base_uri": "https://localhost:8080/"
        },
        "id": "mISpUm9_61Ky",
        "outputId": "e9d5a4dd-465c-4e84-ec35-0c730b172e8d"
      },
      "execution_count": null,
      "outputs": [
        {
          "output_type": "stream",
          "name": "stdout",
          "text": [
            "Union: {'orange', 'apple', 'carrot', 'onion', 'cherry', 'potato', 'banana'}\n",
            "Intersection: {'apple'}\n",
            "Difference (fruits - vegetables): {'orange', 'banana', 'cherry'}\n",
            "Difference (vegetables - fruits): {'carrot', 'onion', 'potato'}\n"
          ]
        }
      ]
    },
    {
      "cell_type": "code",
      "source": [
        "# prompt: symentric difference\n",
        "\n",
        "fruits = {\"apple\", \"banana\", \"cherry\", \"orange\"}\n",
        "vegetables = {\"carrot\", \"potato\", \"onion\", \"apple\"}\n",
        "\n",
        "# Symmetric Difference (elements in either fruits or vegetables, but not in both)\n",
        "symmetric_difference_set = fruits.symmetric_difference(vegetables)\n",
        "print(\"Symmetric Difference:\", symmetric_difference_set)"
      ],
      "metadata": {
        "colab": {
          "base_uri": "https://localhost:8080/"
        },
        "id": "tlSWwu5H7qla",
        "outputId": "ec0c7d7f-404a-43ac-a417-b18a8957fedd"
      },
      "execution_count": null,
      "outputs": [
        {
          "output_type": "stream",
          "name": "stdout",
          "text": [
            "Symmetric Difference: {'orange', 'carrot', 'onion', 'potato', 'cherry', 'banana'}\n"
          ]
        }
      ]
    },
    {
      "cell_type": "code",
      "source": [
        "# prompt: set comprehnsions\n",
        "\n",
        "numbers = {1, 2, 3, 4, 5, 6, 7, 8, 9, 10}\n",
        "\n",
        "# Create a new set containing only even numbers\n",
        "even_numbers = {number for number in numbers if number % 2 == 0}\n",
        "print(even_numbers)\n",
        "\n",
        "# Create a new set containing only odd numbers\n",
        "odd_numbers = {number for number in numbers if number % 2 != 0}\n",
        "print(odd_numbers)\n",
        "\n",
        "# Create a new set containing squares of numbers\n",
        "squares = {number**2 for number in numbers}\n",
        "print(squares)"
      ],
      "metadata": {
        "colab": {
          "base_uri": "https://localhost:8080/"
        },
        "id": "ggA-mhqA71KJ",
        "outputId": "5bd457d3-430e-4a3f-d294-8577cf214507"
      },
      "execution_count": null,
      "outputs": [
        {
          "output_type": "stream",
          "name": "stdout",
          "text": [
            "{2, 4, 6, 8, 10}\n",
            "{1, 3, 5, 7, 9}\n",
            "{64, 1, 4, 36, 100, 9, 16, 49, 81, 25}\n"
          ]
        }
      ]
    },
    {
      "cell_type": "code",
      "source": [
        "# prompt: unique element and membership testing\n",
        "\n",
        "fruits = {\"apple\", \"banana\", \"cherry\", \"orange\"}\n",
        "\n",
        "# Membership testing\n",
        "print(\"apple\" in fruits)  # True\n",
        "print(\"grape\" in fruits)  # False"
      ],
      "metadata": {
        "colab": {
          "base_uri": "https://localhost:8080/"
        },
        "id": "QglM68Ab_fkD",
        "outputId": "d76d4eb5-9f58-4b2a-cee6-c1e201b07dcd"
      },
      "execution_count": null,
      "outputs": [
        {
          "output_type": "stream",
          "name": "stdout",
          "text": [
            "True\n",
            "False\n"
          ]
        }
      ]
    },
    {
      "cell_type": "markdown",
      "source": [
        "**Exercise **"
      ],
      "metadata": {
        "id": "DH-cxpxIIcSC"
      }
    },
    {
      "cell_type": "code",
      "source": [
        "# 1.  make a set of two friends hobby.make union,intersection and differences of hobbies\n",
        "\n",
        "friend1_hobbies = {\"reading\", \"hiking\", \"painting\", \"coding\"}\n",
        "friend2_hobbies = {\"hiking\", \"photography\", \"gaming\", \"coding\"}\n",
        "\n",
        "# Union of hobbies\n",
        "union_hobbies = friend1_hobbies.union(friend2_hobbies)\n",
        "print(\"Union of hobbies:\", union_hobbies)\n",
        "\n",
        "# Intersection of hobbies\n",
        "intersection_hobbies = friend1_hobbies.intersection(friend2_hobbies)\n",
        "print(\"Intersection of hobbies:\", intersection_hobbies)\n",
        "\n",
        "# Difference in hobbies (friend1 - friend2)\n",
        "difference_hobbies_1 = friend1_hobbies.difference(friend2_hobbies)\n",
        "print(\"Hobbies only friend1 has:\", difference_hobbies_1)\n",
        "\n",
        "# Difference in hobbies (friend2 - friend1)\n",
        "difference_hobbies_2 = friend2_hobbies.difference(friend1_hobbies)\n",
        "print(\"Hobbies only friend2 has:\", difference_hobbies_2)"
      ],
      "metadata": {
        "colab": {
          "base_uri": "https://localhost:8080/"
        },
        "id": "Qant00hCIEOk",
        "outputId": "bef36fd4-2734-4c42-b985-57ad8121b39a"
      },
      "execution_count": null,
      "outputs": [
        {
          "output_type": "stream",
          "name": "stdout",
          "text": [
            "Union of hobbies: {'reading', 'painting', 'hiking', 'photography', 'gaming', 'coding'}\n",
            "Intersection of hobbies: {'coding', 'hiking'}\n",
            "Hobbies only friend1 has: {'reading', 'painting'}\n",
            "Hobbies only friend2 has: {'gaming', 'photography'}\n"
          ]
        }
      ]
    },
    {
      "cell_type": "code",
      "source": [
        "# 2. create a set  of cities you have visited and you friend. find the common cities\n",
        "\n",
        "my_visited_cities = {\"London\", \"Paris\", \"New York\", \"Tokyo\"}\n",
        "friend_visited_cities = {\"Paris\", \"Rome\", \"Tokyo\", \"Sydney\"}\n",
        "\n",
        "# Find the common cities using intersection\n",
        "common_cities = my_visited_cities.intersection(friend_visited_cities)\n",
        "print(\"Common cities visited:\", common_cities)"
      ],
      "metadata": {
        "id": "ZlU0SRm2Jey7",
        "colab": {
          "base_uri": "https://localhost:8080/"
        },
        "outputId": "fff0883b-7750-40f2-cac9-4ea1edcb6b14"
      },
      "execution_count": 18,
      "outputs": [
        {
          "output_type": "stream",
          "name": "stdout",
          "text": [
            "Common cities visited: {'Paris', 'Tokyo'}\n"
          ]
        }
      ]
    }
  ]
}