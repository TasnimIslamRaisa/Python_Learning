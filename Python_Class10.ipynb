{
  "nbformat": 4,
  "nbformat_minor": 0,
  "metadata": {
    "colab": {
      "provenance": [],
      "authorship_tag": "ABX9TyNN2QIV88Q71bPJOsLvrNhV",
      "include_colab_link": true
    },
    "kernelspec": {
      "name": "python3",
      "display_name": "Python 3"
    },
    "language_info": {
      "name": "python"
    }
  },
  "cells": [
    {
      "cell_type": "markdown",
      "metadata": {
        "id": "view-in-github",
        "colab_type": "text"
      },
      "source": [
        "<a href=\"https://colab.research.google.com/github/TasnimIslamRaisa/Python_Learning/blob/edupython/Python_Class10.ipynb\" target=\"_parent\"><img src=\"https://colab.research.google.com/assets/colab-badge.svg\" alt=\"Open In Colab\"/></a>"
      ]
    },
    {
      "cell_type": "code",
      "source": [
        "# Map , Filter , Reduce\n",
        "\n",
        "myList=[1,2,3,4,5]\n",
        "newList=list(map(lambda x : x**3, myList))\n",
        "print(*newList)\n",
        "\n",
        "# Filter\n",
        "newlist2=list(filter(lambda x : x>3 ,myList))\n",
        "#newlist2=list(filter(lambda x : True if x>3 else False ,myList))\n",
        "print(\"Using filter lambda : \",*newlist2,end=\" \")\n",
        "print()\n",
        "\n",
        "# Reduce\n",
        "from functools import reduce\n",
        "sum_list=reduce(lambda x,y : x+y, myList)\n",
        "print(f\"Summation of the list : {sum_list}\")\n",
        "\n",
        "# 1st 10 higher order function"
      ],
      "metadata": {
        "colab": {
          "base_uri": "https://localhost:8080/"
        },
        "id": "z7JPRuFU22hT",
        "outputId": "b991e86f-b889-4cae-9e7d-ce68f06c0164"
      },
      "execution_count": 27,
      "outputs": [
        {
          "output_type": "stream",
          "name": "stdout",
          "text": [
            "1 8 27 64 125\n",
            "Using filter lambda :  4 5 \n",
            "Summation of the list : 15\n"
          ]
        }
      ]
    },
    {
      "cell_type": "code",
      "source": [
        "# 1st 10 higher-order functions (examples)\n",
        "\n",
        "# 1. all() - Returns True if all elements of an iterable are true\n",
        "print(f\"all elements are true: {all(myList)}\") # Output: True if all elements are non-zero, otherwise false\n",
        "print(f\"all elements are true: {all([1,2,3,4,0])}\") # Output: False\n",
        "# 2. any() - Returns True if any element of an iterable is true\n",
        "print(f\"Any elements are true: {any(myList)}\")\n",
        "# 3. enumerate() - Adds a counter to an iterable\n",
        "for index, value in enumerate(myList):\n",
        "    print(f\"Index: {index}, Value: {value}\")\n",
        "# 4. max() - Returns the largest item in an iterable\n",
        "print(f\"Maximum in list : {max(myList)}\")\n",
        "# 5. min() - Returns the smallest item in an iterable\n",
        "print(f\"Minimum in list : {min(myList)}\")\n",
        "# 6. sorted() - Returns a new sorted list from the items in iterable\n",
        "print(f\"Sorted list : {sorted(myList)}\")\n",
        "# 7. sum() - Sums the items of an iterable\n",
        "print(f\"Summation in list : {sum(myList)}\")\n",
        "# 8. zip() - Makes an iterator that aggregates elements from each of the iterables.\n",
        "list2 = [6, 7, 8, 9, 10]\n",
        "for x, y in zip(myList, list2):\n",
        "    print(f\"Pairs: {x}, {y}\")\n",
        "# 9. reversed() - Returns an iterator that accesses the given sequence in the reverse order\n",
        "for i in reversed(myList):\n",
        "  print(f\"Reverse element : {i}\",end=\" \")\n",
        "print()\n",
        "# 10. len() - Returns the length (the number of items) of an object.\n",
        "print(len(myList))"
      ],
      "metadata": {
        "id": "EE1plsc89STj"
      },
      "execution_count": null,
      "outputs": []
    },
    {
      "cell_type": "code",
      "execution_count": 1,
      "metadata": {
        "id": "giErVhVB0iMT"
      },
      "outputs": [],
      "source": [
        "# write file\n",
        "f=open('myfile.txt','w')\n",
        "f.write(\"Hello World!\")\n",
        "f.close()"
      ]
    },
    {
      "cell_type": "code",
      "source": [
        "# Read file\n",
        "f=open('myfile.txt','r')\n",
        "print(f.read())\n",
        "f.close()"
      ],
      "metadata": {
        "colab": {
          "base_uri": "https://localhost:8080/"
        },
        "id": "uqLwWovS062D",
        "outputId": "14269291-2aea-47a6-b58b-c6e24ed18dec"
      },
      "execution_count": 6,
      "outputs": [
        {
          "output_type": "stream",
          "name": "stdout",
          "text": [
            "Hello World!Hey Raisa!\n"
          ]
        }
      ]
    },
    {
      "cell_type": "code",
      "source": [
        "# append in file\n",
        "f=open('myfile.txt','a')\n",
        "f.write(\"Hey Raisa!\")\n",
        "f.close()\n",
        "\n"
      ],
      "metadata": {
        "id": "yvH6ycVq1Eej"
      },
      "execution_count": 4,
      "outputs": []
    }
  ]
}