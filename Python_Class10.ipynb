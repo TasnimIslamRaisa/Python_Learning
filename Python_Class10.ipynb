{
  "nbformat": 4,
  "nbformat_minor": 0,
  "metadata": {
    "colab": {
      "provenance": [],
      "authorship_tag": "ABX9TyM1HrgBNlJpp+HUfu/Et17K",
      "include_colab_link": true
    },
    "kernelspec": {
      "name": "python3",
      "display_name": "Python 3"
    },
    "language_info": {
      "name": "python"
    }
  },
  "cells": [
    {
      "cell_type": "markdown",
      "metadata": {
        "id": "view-in-github",
        "colab_type": "text"
      },
      "source": [
        "<a href=\"https://colab.research.google.com/github/TasnimIslamRaisa/Python_Learning/blob/edupython/Python_Class10.ipynb\" target=\"_parent\"><img src=\"https://colab.research.google.com/assets/colab-badge.svg\" alt=\"Open In Colab\"/></a>"
      ]
    },
    {
      "cell_type": "code",
      "source": [
        "# Map , Filter , Reduce\n",
        "\n",
        "myList=[1,2,3,4,5]\n",
        "newList=list(map(lambda x : x**3, myList))\n",
        "print(*newList)\n",
        "\n",
        "# Filter\n",
        "newlist2=list(filter(lambda x : True if x>3 else False ,myList))\n",
        "print(\"Using filter lambda : \",*newlist2,end=\" \")\n",
        "print()\n",
        "\n",
        "# Reduce\n",
        "from functools import reduce\n",
        "sum_list=reduce(lambda x,y : x+y, myList)\n",
        "print(f\"Summation of the list : {sum_list}\")"
      ],
      "metadata": {
        "colab": {
          "base_uri": "https://localhost:8080/"
        },
        "id": "z7JPRuFU22hT",
        "outputId": "b3928458-12f7-4ac4-d238-b26ce6bdc108"
      },
      "execution_count": 20,
      "outputs": [
        {
          "output_type": "stream",
          "name": "stdout",
          "text": [
            "1 8 27 64 125\n",
            "Using filter lambda :  4 5 \n",
            "Summation of the list : 15\n"
          ]
        }
      ]
    },
    {
      "cell_type": "code",
      "execution_count": 1,
      "metadata": {
        "id": "giErVhVB0iMT"
      },
      "outputs": [],
      "source": [
        "# write file\n",
        "f=open('myfile.txt','w')\n",
        "f.write(\"Hello World!\")\n",
        "f.close()"
      ]
    },
    {
      "cell_type": "code",
      "source": [
        "# Read file\n",
        "f=open('myfile.txt','r')\n",
        "print(f.read())\n",
        "f.close()"
      ],
      "metadata": {
        "colab": {
          "base_uri": "https://localhost:8080/"
        },
        "id": "uqLwWovS062D",
        "outputId": "14269291-2aea-47a6-b58b-c6e24ed18dec"
      },
      "execution_count": 6,
      "outputs": [
        {
          "output_type": "stream",
          "name": "stdout",
          "text": [
            "Hello World!Hey Raisa!\n"
          ]
        }
      ]
    },
    {
      "cell_type": "code",
      "source": [
        "# append in file\n",
        "f=open('myfile.txt','a')\n",
        "f.write(\"Hey Raisa!\")\n",
        "f.close()\n",
        "\n"
      ],
      "metadata": {
        "id": "yvH6ycVq1Eej"
      },
      "execution_count": 4,
      "outputs": []
    }
  ]
}