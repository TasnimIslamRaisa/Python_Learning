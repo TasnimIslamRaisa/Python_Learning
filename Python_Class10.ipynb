{
  "nbformat": 4,
  "nbformat_minor": 0,
  "metadata": {
    "colab": {
      "provenance": [],
      "authorship_tag": "ABX9TyPuq9nCjUULWtKNohHYeEhu",
      "include_colab_link": true
    },
    "kernelspec": {
      "name": "python3",
      "display_name": "Python 3"
    },
    "language_info": {
      "name": "python"
    }
  },
  "cells": [
    {
      "cell_type": "markdown",
      "metadata": {
        "id": "view-in-github",
        "colab_type": "text"
      },
      "source": [
        "<a href=\"https://colab.research.google.com/github/TasnimIslamRaisa/Python_Learning/blob/edupython/Python_Class10.ipynb\" target=\"_parent\"><img src=\"https://colab.research.google.com/assets/colab-badge.svg\" alt=\"Open In Colab\"/></a>"
      ]
    },
    {
      "cell_type": "code",
      "source": [
        "# Map , Filter , Reduce\n",
        "\n",
        "myList=[1,2,3,4,5]\n",
        "newList=list(map(lambda x : x**3, myList))\n",
        "print(*newList)\n",
        "\n",
        "# Filter\n",
        "newlist2=list(filter(lambda x : x>3 ,myList))\n",
        "#newlist2=list(filter(lambda x : True if x>3 else False ,myList))\n",
        "print(\"Using filter lambda : \",*newlist2,end=\" \")\n",
        "print()\n",
        "\n",
        "# Reduce\n",
        "from functools import reduce\n",
        "sum_list=reduce(lambda x,y : x+y, myList)\n",
        "print(f\"Summation of the list : {sum_list}\")\n",
        "\n",
        "# 1st 10 higher order"
      ],
      "metadata": {
        "colab": {
          "base_uri": "https://localhost:8080/"
        },
        "id": "z7JPRuFU22hT",
        "outputId": "a199cc28-75c5-4dff-9e02-9a5bd855560d"
      },
      "execution_count": 28,
      "outputs": [
        {
          "output_type": "stream",
          "name": "stdout",
          "text": [
            "1 8 27 64 125\n",
            "Using filter lambda :  4 5 \n",
            "Summation of the list : 15\n"
          ]
        }
      ]
    },
    {
      "cell_type": "code",
      "source": [
        "# 1st 10 higher-order functions (examples)\n",
        "myList=[1,2,3,4,5]\n",
        "# 1. all() - Returns True if all elements of an iterable are true\n",
        "\n",
        "print(f\"all elements are true: {all(myList)}\") # Output: True if all elements are non-zero, otherwise false\n",
        "print(f\"all elements are true: {all([1,2,3,4,0])}\") # Output: False\n",
        "\n",
        "\n",
        "# 2. any() - Returns True if any element of an iterable is true\n",
        "print(f\"Any elements are true: {any(myList)}\")\n",
        "\n",
        "\n",
        "# 3. enumerate() - Adds a counter to an iterable\n",
        "for index, value in enumerate(myList):\n",
        "    print(f\"Index: {index}, Value: {value}\")\n",
        "\n",
        "\n",
        "# 4. max() - Returns the largest item in an iterable\n",
        "print(f\"Maximum in list : {max(myList)}\")\n",
        "\n",
        "\n",
        "# 5. min() - Returns the smallest item in an iterable\n",
        "print(f\"Minimum in list : {min(myList)}\")\n",
        "\n",
        "\n",
        "# 6. sorted() - Returns a new sorted list from the items in iterable\n",
        "print(f\"Sorted list : {sorted(myList)}\")\n",
        "\n",
        "\n",
        "# 7. sum() - Sums the items of an iterable\n",
        "print(f\"Summation in list : {sum(myList)}\")\n",
        "\n",
        "\n",
        "# 8. zip() - Makes an iterator that aggregates elements from each of the iterables.\n",
        "list2 = [6, 7, 8, 9, 10]\n",
        "for x, y in zip(myList, list2):\n",
        "    print(f\"Pairs: {x}, {y}\")\n",
        "\n",
        "# 9. reversed() - Returns an iterator that accesses the given sequence in the reverse order\n",
        "for i in reversed(myList):\n",
        "  print(f\"Reverse element : {i}\",end=\" \")\n",
        "print()\n",
        "\n",
        "# 10. len() - Returns the length (the number of items) of an object.\n",
        "print(len(myList))"
      ],
      "metadata": {
        "colab": {
          "base_uri": "https://localhost:8080/"
        },
        "id": "EE1plsc89STj",
        "outputId": "f0af4c3c-c5b9-4447-9571-6c046d53ff60"
      },
      "execution_count": 33,
      "outputs": [
        {
          "output_type": "stream",
          "name": "stdout",
          "text": [
            "all elements are true: True\n",
            "all elements are true: False\n",
            "Any elements are true: True\n",
            "Index: 0, Value: 1\n",
            "Index: 1, Value: 2\n",
            "Index: 2, Value: 3\n",
            "Index: 3, Value: 4\n",
            "Index: 4, Value: 5\n",
            "Maximum in list : 5\n",
            "Minimum in list : 1\n",
            "Sorted list : [1, 2, 3, 4, 5]\n",
            "Summation in list : 15\n",
            "Pairs: 1, 6\n",
            "Pairs: 2, 7\n",
            "Pairs: 3, 8\n",
            "Pairs: 4, 9\n",
            "Pairs: 5, 10\n",
            "Reverse element : 5 Reverse element : 4 Reverse element : 3 Reverse element : 2 Reverse element : 1 \n",
            "5\n"
          ]
        }
      ]
    },
    {
      "cell_type": "markdown",
      "source": [
        "# **Practice problem**"
      ],
      "metadata": {
        "id": "3km_b4KO9_wE"
      }
    },
    {
      "cell_type": "code",
      "source": [
        "words =[\"Python\",\"map\",\"filter\",\"reduce\"]\n",
        "result=list(map(lambda x : len(x),words))\n",
        "print(result)"
      ],
      "metadata": {
        "colab": {
          "base_uri": "https://localhost:8080/"
        },
        "id": "XpuV8Dv3-FSr",
        "outputId": "34d723fb-76b1-4dee-88fe-50b3411f870e"
      },
      "execution_count": 32,
      "outputs": [
        {
          "output_type": "stream",
          "name": "stdout",
          "text": [
            "[6, 3, 6, 6]\n"
          ]
        }
      ]
    },
    {
      "cell_type": "code",
      "source": [
        "word=[\"hi\",\"hello\",\"sun\",\"world\",\"sky\",\"hiii\"]\n",
        "resultList=list(filter(lambda x : len(x)>3,word))\n",
        "print(resultList)\n"
      ],
      "metadata": {
        "colab": {
          "base_uri": "https://localhost:8080/"
        },
        "id": "7GSrEq04_vor",
        "outputId": "cd356937-4c9a-4ec2-91c5-b11bbb296a8c"
      },
      "execution_count": 37,
      "outputs": [
        {
          "output_type": "stream",
          "name": "stdout",
          "text": [
            "['hello', 'world', 'hiii']\n"
          ]
        }
      ]
    },
    {
      "cell_type": "code",
      "source": [
        "number = [1,2,3,4,5,6]\n",
        "result = list(filter(lambda x : x%2==0,number))\n",
        "final_result = list(map(lambda x : x**2,result))\n",
        "print(final_result)\n",
        "\n",
        "new_list=list(map(lambda x : x**2,list(filter(lambda x : x%2==0,number))))\n",
        "print(new_list)\n"
      ],
      "metadata": {
        "colab": {
          "base_uri": "https://localhost:8080/"
        },
        "id": "9ht0JDqAAZYM",
        "outputId": "e95fac8d-7416-46df-a3c7-eefa9e2a0672"
      },
      "execution_count": 39,
      "outputs": [
        {
          "output_type": "stream",
          "name": "stdout",
          "text": [
            "[4, 16, 36]\n",
            "[4, 16, 36]\n"
          ]
        }
      ]
    },
    {
      "cell_type": "code",
      "source": [
        "# Reduce\n",
        "from functools import reduce\n",
        "myList=[1,2,3,4,5,6]\n",
        "product_list=reduce(lambda x,y : x*y, myList)\n",
        "print(f\"Product of the list : {product_list}\")\n",
        "\n"
      ],
      "metadata": {
        "colab": {
          "base_uri": "https://localhost:8080/"
        },
        "id": "fwIiiJWNB_Qj",
        "outputId": "e5d0256c-84d2-47db-f9d9-1494bfc4b8ec"
      },
      "execution_count": 46,
      "outputs": [
        {
          "output_type": "stream",
          "name": "stdout",
          "text": [
            "Product of the list : 720\n"
          ]
        }
      ]
    },
    {
      "cell_type": "code",
      "source": [
        "# Reduce\n",
        "from functools import reduce\n",
        "myList=[1,2,3,4,5,6]\n",
        "sq_list=reduce(lambda x ,y: x+y ,list(map(lambda x : x*x, myList)))\n",
        "print(sq_list)"
      ],
      "metadata": {
        "colab": {
          "base_uri": "https://localhost:8080/"
        },
        "id": "IqZMkCHBC3Zz",
        "outputId": "210c8866-0af6-4bcd-cb8d-e514a126051e"
      },
      "execution_count": 51,
      "outputs": [
        {
          "output_type": "stream",
          "name": "stdout",
          "text": [
            "91\n"
          ]
        }
      ]
    },
    {
      "cell_type": "markdown",
      "source": [
        "# **File I/O**"
      ],
      "metadata": {
        "id": "IozOGNPGEApB"
      }
    },
    {
      "cell_type": "code",
      "execution_count": 53,
      "metadata": {
        "id": "giErVhVB0iMT"
      },
      "outputs": [],
      "source": [
        "# write file\n",
        "f=open('myfile.txt','w')\n",
        "f.write(\"Hello World!\")\n",
        "f.close()"
      ]
    },
    {
      "cell_type": "code",
      "source": [
        "# Read file\n",
        "f=open('myfile.txt','r')\n",
        "print(f.read())\n",
        "f.close()"
      ],
      "metadata": {
        "colab": {
          "base_uri": "https://localhost:8080/"
        },
        "id": "uqLwWovS062D",
        "outputId": "c7688160-5468-4565-a184-c4ceeb937fe5"
      },
      "execution_count": 56,
      "outputs": [
        {
          "output_type": "stream",
          "name": "stdout",
          "text": [
            "Hello World!Hey Raisa!\n"
          ]
        }
      ]
    },
    {
      "cell_type": "code",
      "source": [
        "# append in file\n",
        "f=open('myfile.txt','a')\n",
        "f.write(\"Hey Raisa!\")\n",
        "f.close()\n",
        "\n"
      ],
      "metadata": {
        "id": "yvH6ycVq1Eej"
      },
      "execution_count": 55,
      "outputs": []
    }
  ]
}