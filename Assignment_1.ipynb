{
  "nbformat": 4,
  "nbformat_minor": 0,
  "metadata": {
    "colab": {
      "provenance": [],
      "authorship_tag": "ABX9TyNV2D3Qi5NDLMd4+QZtoEox",
      "include_colab_link": true
    },
    "kernelspec": {
      "name": "python3",
      "display_name": "Python 3"
    },
    "language_info": {
      "name": "python"
    }
  },
  "cells": [
    {
      "cell_type": "markdown",
      "metadata": {
        "id": "view-in-github",
        "colab_type": "text"
      },
      "source": [
        "<a href=\"https://colab.research.google.com/github/TasnimIslamRaisa/Python_Learning/blob/edupython/Assignment_1.ipynb\" target=\"_parent\"><img src=\"https://colab.research.google.com/assets/colab-badge.svg\" alt=\"Open In Colab\"/></a>"
      ]
    },
    {
      "cell_type": "code",
      "execution_count": 2,
      "metadata": {
        "colab": {
          "base_uri": "https://localhost:8080/"
        },
        "id": "BE_xl1z8pgZ1",
        "outputId": "f387005c-5ca5-473c-a4e5-1f490fa4df4f"
      },
      "outputs": [
        {
          "output_type": "stream",
          "name": "stdout",
          "text": [
            "Welcome to the Quiz Program!\n",
            "Do you want to take the quiz? (yes/no): yes\n",
            "\n",
            "Starting the quiz. Answer the following questions:\n",
            "\n",
            "Question 1: What is the capital of France?\n",
            "Your answer: paris\n",
            "Correct!\n",
            "\n",
            "Question 2: What is 2 + 2?\n",
            "Your answer: 4\n",
            "Correct!\n",
            "\n",
            "Question 3: What is the color of the sky?\n",
            "Your answer: Blue\n",
            "Correct!\n",
            "\n",
            "Question 4: How many days are in a week?\n",
            "Your answer: 7\n",
            "Correct!\n",
            "\n",
            "Question 5: What is the boiling point of water (in Celsius)?\n",
            "Your answer: 100\n",
            "Correct!\n",
            "\n",
            "Question 6: How many continents are there?\n",
            "Your answer: seven\n",
            "Incorrect. The correct answer is 7\n",
            "\n",
            "Question 7: Which planet is known as the Red Planet?\n",
            "Your answer: MARs\n",
            "Correct!\n",
            "\n",
            "Question 8: What is the largest mammal on Earth?\n",
            "Your answer: bluewhale\n",
            "Incorrect. The correct answer is blue whale\n",
            "\n",
            "Question 9: What is the freezing point of water (in Celsius)?\n",
            "Your answer: 0\n",
            "Correct!\n",
            "\n",
            "Question 10: How many legs does a spider have?\n",
            "Your answer: 8\n",
            "Correct!\n",
            "\n",
            "Quiz completed!\n",
            "Your total score is: 36 out of 50\n",
            "Percentage: 72.00%\n",
            "Congratulations! You passed the quiz.\n"
          ]
        }
      ],
      "source": [
        "def start_quiz():\n",
        "    \"\"\"Start the quiz if the student agrees.\"\"\"\n",
        "    questions = [\n",
        "        {\"question\": \"What is the capital of France?\", \"answer\": \"paris\"},\n",
        "        {\"question\": \"What is 2 + 2?\", \"answer\": \"4\"},\n",
        "        {\"question\": \"What is the color of the sky?\", \"answer\": \"blue\"},\n",
        "        {\"question\": \"How many days are in a week?\", \"answer\": \"7\"},\n",
        "        {\"question\": \"What is the boiling point of water (in Celsius)?\", \"answer\": \"100\"},\n",
        "        {\"question\": \"How many continents are there?\", \"answer\": \"7\"},\n",
        "        {\"question\": \"Which planet is known as the Red Planet?\", \"answer\": \"mars\"},\n",
        "        {\"question\": \"What is the largest mammal on Earth?\", \"answer\": \"blue whale\"},\n",
        "        {\"question\": \"What is the freezing point of water (in Celsius)?\", \"answer\": \"0\"},\n",
        "        {\"question\": \"How many legs does a spider have?\", \"answer\": \"8\"}\n",
        "    ]\n",
        "\n",
        "    total_questions = len(questions)\n",
        "    score = 0\n",
        "\n",
        "    print(\"\\nStarting the quiz. Answer the following questions:\")\n",
        "    for idx, question in enumerate(questions):\n",
        "        print(f\"\\nQuestion {idx + 1}: {question['question']}\")\n",
        "        answer = input(\"Your answer: \").strip().lower()\n",
        "        if answer == question['answer']:\n",
        "            print(\"Correct!\")\n",
        "            score += 5\n",
        "        else:\n",
        "            print(f\"Incorrect. The correct answer is {question['answer']}\")\n",
        "            score -= 2\n",
        "\n",
        "    print(\"\\nQuiz completed!\")\n",
        "    percentage = (score / (total_questions * 5)) * 100\n",
        "\n",
        "    print(f\"Your total score is: {score} out of {total_questions * 5}\")\n",
        "    print(f\"Percentage: {percentage:.2f}%\")\n",
        "\n",
        "    if percentage >= 60:\n",
        "        print(\"Congratulations! You passed the quiz.\")\n",
        "    else:\n",
        "        print(\"Sorry, you failed the quiz. Better luck next time!\")\n",
        "\n",
        "def main():\n",
        "    \"\"\"Main function to ask the student if they want to take the quiz.\"\"\"\n",
        "    print(\"Welcome to the Quiz Program!\")\n",
        "    take_quiz = input(\"Do you want to take the quiz? (yes/no): \").strip().lower()\n",
        "\n",
        "    if take_quiz == \"yes\":\n",
        "        start_quiz()\n",
        "    else:\n",
        "        print(\"Alright, maybe next time!\")\n",
        "\n",
        "if __name__ == \"__main__\":\n",
        "    main()\n"
      ]
    }
  ]
}